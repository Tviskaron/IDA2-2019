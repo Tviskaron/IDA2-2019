{
 "cells": [
  {
   "cell_type": "markdown",
   "metadata": {
    "colab_type": "text",
    "collapsed": true,
    "id": "dAWPAdLFHFno"
   },
   "source": [
    "## Рекомендательные системы\n",
    "\n",
    "\n"
   ]
  },
  {
   "cell_type": "markdown",
   "metadata": {
    "colab_type": "text",
    "id": "4ujb6wbUHFnr"
   },
   "source": [
    "#### Словарь с предпочтениями пользователи-фильмы"
   ]
  },
  {
   "cell_type": "code",
   "execution_count": 1,
   "metadata": {
    "colab": {},
    "colab_type": "code",
    "id": "j9u8QPNeHFns"
   },
   "outputs": [],
   "source": [
    "# Словарь кинокритиков и выставленных ими оценок для небольшого набора\n",
    "# данных о фильмах\n",
    "critics = {'Lisa Rose': {'Lady in the Water': 2.5, 'Snakes on a Plane': 3.5,\n",
    "                         'Just My Luck': 3.0, 'Superman Returns': 3.5, 'You, Me and Dupree': 2.5,\n",
    "                         'The Night Listener': 3.0},\n",
    "           'Gene Seymour': {'Lady in the Water': 3.0, 'Snakes on a Plane': 3.5,\n",
    "                            'Just My Luck': 1.5, 'Superman Returns': 5.0, 'The Night Listener': 3.0,\n",
    "                            'You, Me and Dupree': 3.5},\n",
    "           'Michael Phillips': {'Lady in the Water': 2.5, 'Snakes on a Plane': 3.0,\n",
    "                                'Superman Returns': 3.5, 'The Night Listener': 4.0},\n",
    "           'Claudia Puig': {'Snakes on a Plane': 3.5, 'Just My Luck': 3.0,\n",
    "                            'The Night Listener': 4.5, 'Superman Returns': 4.0,\n",
    "                            'You, Me and Dupree': 2.5},\n",
    "           'Mick LaSalle': {'Lady in the Water': 3.0, 'Snakes on a Plane': 4.0,\n",
    "                            'Just My Luck': 2.0, 'Superman Returns': 3.0, 'The Night Listener': 3.0,\n",
    "                            'You, Me and Dupree': 2.0},\n",
    "           'Jack Matthews': {'Lady in the Water': 3.0, 'Snakes on a Plane': 4.0,\n",
    "                             'The Night Listener': 3.0, 'Superman Returns': 5.0, 'You, Me and Dupree': 3.5},\n",
    "           'Toby': {'Snakes on a Plane': 4.5, 'You, Me and Dupree': 1.0, 'Superman Returns': 4.0}}"
   ]
  },
  {
   "cell_type": "code",
   "execution_count": 2,
   "metadata": {
    "colab": {
     "base_uri": "https://localhost:8080/",
     "height": 35
    },
    "colab_type": "code",
    "executionInfo": {
     "elapsed": 432,
     "status": "ok",
     "timestamp": 1559814282905,
     "user": {
      "displayName": "",
      "photoUrl": "",
      "userId": ""
     },
     "user_tz": -180
    },
    "id": "QAs5lT1BHFnw",
    "outputId": "f214b5a9-6d48-44d6-8a42-8dc17d26162f"
   },
   "outputs": [
    {
     "data": {
      "text/plain": [
       "{'Snakes on a Plane': 4.5, 'Superman Returns': 4.0, 'You, Me and Dupree': 1.0}"
      ]
     },
     "execution_count": 2,
     "metadata": {},
     "output_type": "execute_result"
    }
   ],
   "source": [
    "critics['Toby']"
   ]
  },
  {
   "cell_type": "code",
   "execution_count": 3,
   "metadata": {
    "colab": {
     "base_uri": "https://localhost:8080/",
     "height": 35
    },
    "colab_type": "code",
    "executionInfo": {
     "elapsed": 534,
     "status": "ok",
     "timestamp": 1559814285711,
     "user": {
      "displayName": "",
      "photoUrl": "",
      "userId": ""
     },
     "user_tz": -180
    },
    "id": "6ktT86MPHFn2",
    "outputId": "5efb7d7c-beb1-4a1a-c35a-0f458dbf5fd9"
   },
   "outputs": [
    {
     "data": {
      "text/plain": [
       "2.5"
      ]
     },
     "execution_count": 3,
     "metadata": {},
     "output_type": "execute_result"
    }
   ],
   "source": [
    "critics['Lisa Rose']['Lady in the Water']"
   ]
  },
  {
   "cell_type": "code",
   "execution_count": 4,
   "metadata": {
    "colab": {
     "base_uri": "https://localhost:8080/",
     "height": 35
    },
    "colab_type": "code",
    "executionInfo": {
     "elapsed": 760,
     "status": "ok",
     "timestamp": 1559814287453,
     "user": {
      "displayName": "",
      "photoUrl": "",
      "userId": ""
     },
     "user_tz": -180
    },
    "id": "tljgeGGyHFn6",
    "outputId": "98695f62-8f03-4915-8af7-18c845314b3f"
   },
   "outputs": [
    {
     "name": "stdout",
     "output_type": "stream",
     "text": [
      "3.1622776601683795\n"
     ]
    }
   ],
   "source": [
    "# вычисление расстояния Евклида\n",
    "from math import sqrt\n",
    "\n",
    "print(sqrt(pow(5 - 4, 2) + pow(4 - 1, 2)))"
   ]
  },
  {
   "cell_type": "code",
   "execution_count": 5,
   "metadata": {
    "colab": {
     "base_uri": "https://localhost:8080/",
     "height": 35
    },
    "colab_type": "code",
    "executionInfo": {
     "elapsed": 518,
     "status": "ok",
     "timestamp": 1559814289549,
     "user": {
      "displayName": "",
      "photoUrl": "",
      "userId": ""
     },
     "user_tz": -180
    },
    "id": "TwNxuz3gHFn-",
    "outputId": "4cf94983-992b-4760-f937-487bdbab6229"
   },
   "outputs": [
    {
     "data": {
      "text/plain": [
       "0.6666666666666666"
      ]
     },
     "execution_count": 5,
     "metadata": {},
     "output_type": "execute_result"
    }
   ],
   "source": [
    "# вычисление сходства\n",
    "1 / (1 + sqrt(pow(5 - 4.5, 2) + pow(5 - 5, 2)))"
   ]
  },
  {
   "cell_type": "code",
   "execution_count": 6,
   "metadata": {
    "colab": {
     "base_uri": "https://localhost:8080/",
     "height": 35
    },
    "colab_type": "code",
    "executionInfo": {
     "elapsed": 588,
     "status": "ok",
     "timestamp": 1559814291173,
     "user": {
      "displayName": "",
      "photoUrl": "",
      "userId": ""
     },
     "user_tz": -180
    },
    "id": "5UpgQcPSHFoC",
    "outputId": "03634c0b-b29a-4058-acf8-2d3a7033c632"
   },
   "outputs": [
    {
     "data": {
      "text/plain": [
       "0.8607079764250578"
      ]
     },
     "execution_count": 6,
     "metadata": {},
     "output_type": "execute_result"
    }
   ],
   "source": [
    "from numpy import exp\n",
    "\n",
    "exp(-0.3 * sqrt(pow(5 - 4.5, 2) + pow(5 - 5, 2)))"
   ]
  },
  {
   "cell_type": "markdown",
   "metadata": {
    "colab_type": "text",
    "id": "Q1wiIzMNHFoG"
   },
   "source": [
    "### Задание 1\n",
    "По аналогии реализуйте функции для расчета расстояния между двумя пользователями: __sim_distance__(расстояние Еквликда) и __sim_kernel__. Если общих оценок нет - возвращаем __0__."
   ]
  },
  {
   "cell_type": "code",
   "execution_count": 54,
   "metadata": {
    "colab": {},
    "colab_type": "code",
    "id": "8SgvaDkGHFoH"
   },
   "outputs": [],
   "source": [
    "def sim_distance(prefs, person1, person2):\n",
    "    \"\"\"\n",
    "    Возвращает сходство person1 и person2 на основе расстояния    \n",
    "    \"\"\"\n",
    "    common_films = set(prefs[person1].keys()).intersection(set(prefs[person2].keys()))\n",
    "    sum_ = [(prefs[person1][film] - prefs[person2][film]) ** 2 for film in common_films]\n",
    "    \n",
    "    return 1 / (1 + sum(sum_))"
   ]
  },
  {
   "cell_type": "code",
   "execution_count": 55,
   "metadata": {
    "colab": {
     "base_uri": "https://localhost:8080/",
     "height": 35
    },
    "colab_type": "code",
    "executionInfo": {
     "elapsed": 560,
     "status": "ok",
     "timestamp": 1559814850242,
     "user": {
      "displayName": "",
      "photoUrl": "",
      "userId": ""
     },
     "user_tz": -180
    },
    "id": "fTU9WviBHFoK",
    "outputId": "36940783-212e-4af7-d728-8a0ead0efc6e"
   },
   "outputs": [
    {
     "data": {
      "text/plain": [
       "0.2222222222222222"
      ]
     },
     "execution_count": 55,
     "metadata": {},
     "output_type": "execute_result"
    }
   ],
   "source": [
    "sim_distance(critics, 'Lisa Rose','Toby')"
   ]
  },
  {
   "cell_type": "code",
   "execution_count": 56,
   "metadata": {
    "colab": {},
    "colab_type": "code",
    "id": "LS2gbrY2HFoR"
   },
   "outputs": [],
   "source": [
    "def sim_kernel(prefs, person1, person2, alpha=0.3):\n",
    "    \"\"\"\n",
    "    Возвращает сходство person1 и person2 \n",
    "    :param alpha: \n",
    "    \"\"\"\n",
    "    # Ваш код здесь\n",
    "    common_films = set(prefs[person1].keys()).intersection(set(prefs[person2].keys()))\n",
    "    sum_ = [(prefs[person1][film] - prefs[person2][film]) ** 2 for film in common_films]\n",
    "    \n",
    "    # exp(-0.3 * sqrt(pow(5 - 4.5, 2) + pow(5 - 5, 2)))\n",
    "    return exp(-alpha * sum(sum_))"
   ]
  },
  {
   "cell_type": "code",
   "execution_count": 57,
   "metadata": {
    "colab": {
     "base_uri": "https://localhost:8080/",
     "height": 35
    },
    "colab_type": "code",
    "executionInfo": {
     "elapsed": 567,
     "status": "ok",
     "timestamp": 1559815023935,
     "user": {
      "displayName": "",
      "photoUrl": "",
      "userId": ""
     },
     "user_tz": -180
    },
    "id": "x664ILJlHFoU",
    "outputId": "af51ec02-5f6c-4312-d472-ad9fdba4c844"
   },
   "outputs": [
    {
     "data": {
      "text/plain": [
       "0.3499377491111553"
      ]
     },
     "execution_count": 57,
     "metadata": {},
     "output_type": "execute_result"
    }
   ],
   "source": [
    "sim_kernel(critics, 'Lisa Rose','Toby')"
   ]
  },
  {
   "cell_type": "code",
   "execution_count": 58,
   "metadata": {
    "colab": {},
    "colab_type": "code",
    "id": "D7ifYFoHHFoY"
   },
   "outputs": [],
   "source": [
    "def sim_pearson(prefs, p1, p2):\n",
    "    \"\"\"\n",
    "    # Возвращает коэффициент корреляции Пирсона между p1 и p2    \n",
    "    :param prefs: \n",
    "    :param p1: \n",
    "    :param p2: \n",
    "    :return: \n",
    "    \"\"\"\n",
    "    # Получить список предметов, оцененных обоими\n",
    "    si = {}\n",
    "    for item in prefs[p1]:\n",
    "        if item in prefs[p2]: si[item] = 1\n",
    "\n",
    "    # Если нет ни одной общей оценки, вернуть 0\n",
    "    if len(si) == 0: return 0\n",
    "\n",
    "    # Количество соместно оцененных фильм\n",
    "    n = len(si)\n",
    "\n",
    "    # Вычислить сумму всех предпочтений\n",
    "    sum1 = sum([prefs[p1][it] for it in si])\n",
    "    sum2 = sum([prefs[p2][it] for it in si])\n",
    "\n",
    "    # Вычислить сумму квадратов\n",
    "    sum1Sq = sum([pow(prefs[p1][it], 2) for it in si])\n",
    "    sum2Sq = sum([pow(prefs[p2][it], 2) for it in si])\n",
    "\n",
    "    # Вычислить сумму произведений\n",
    "    pSum = sum([prefs[p1][it] * prefs[p2][it] for it in si])\n",
    "\n",
    "    # Вычислить коэффициент Пирсона\n",
    "    num = pSum - (sum1 * sum2 / n)\n",
    "    den = sqrt((sum1Sq - pow(sum1, 2) / n) * (sum2Sq - pow(sum2, 2) / n))\n",
    "    if den == 0: return 0\n",
    "\n",
    "    r = num / den\n",
    "\n",
    "    return r"
   ]
  },
  {
   "cell_type": "code",
   "execution_count": 59,
   "metadata": {
    "colab": {
     "base_uri": "https://localhost:8080/",
     "height": 35
    },
    "colab_type": "code",
    "executionInfo": {
     "elapsed": 684,
     "status": "ok",
     "timestamp": 1559815031061,
     "user": {
      "displayName": "",
      "photoUrl": "",
      "userId": ""
     },
     "user_tz": -180
    },
    "id": "I3F2GS4THFoa",
    "outputId": "da28e524-f4e2-47c7-87c9-a263614b2733"
   },
   "outputs": [
    {
     "data": {
      "text/plain": [
       "(0.39605901719066977, 0.14814814814814814)"
      ]
     },
     "execution_count": 59,
     "metadata": {},
     "output_type": "execute_result"
    }
   ],
   "source": [
    "sim_pearson(critics,'Lisa Rose','Gene Seymour'), sim_distance(critics, 'Lisa Rose','Gene Seymour')"
   ]
  },
  {
   "cell_type": "markdown",
   "metadata": {
    "colab_type": "text",
    "id": "-bcbsJIHHFok"
   },
   "source": [
    "## Ранжирование критиков\n",
    "### Задание 2\n",
    "Реализуйте функцию __top_mathes__ для поиска наилучших соответствий для конкретного человека\n"
   ]
  },
  {
   "cell_type": "code",
   "execution_count": 60,
   "metadata": {
    "colab": {},
    "colab_type": "code",
    "id": "lPOk9M_BHFol"
   },
   "outputs": [],
   "source": [
    "def top_matches(prefs,person,n=5,similarity=sim_pearson):\n",
    "    \"\"\"\n",
    "    Возвращает список наилучших соответствий для человека из словаря prefs.\n",
    "    :param n: количество результатов\n",
    "    :param similarity: функция подобия\n",
    "    :return list(<similarity, name>)\n",
    "    \"\"\"\n",
    "    # Ваш код здесь\n",
    "    result = sorted([(similarity(prefs, person, other), other) \n",
    "                     for other in prefs if other != person], reverse=True)\n",
    "        \n",
    "    return result[:n]"
   ]
  },
  {
   "cell_type": "code",
   "execution_count": 61,
   "metadata": {
    "colab": {
     "base_uri": "https://localhost:8080/",
     "height": 69
    },
    "colab_type": "code",
    "executionInfo": {
     "elapsed": 492,
     "status": "ok",
     "timestamp": 1559815550227,
     "user": {
      "displayName": "",
      "photoUrl": "",
      "userId": ""
     },
     "user_tz": -180
    },
    "id": "lTKB_OlRHFoo",
    "outputId": "218897cb-7dd6-45cc-8cec-bbc041067500"
   },
   "outputs": [
    {
     "data": {
      "text/plain": [
       "[(0.3076923076923077, 'Mick LaSalle'),\n",
       " (0.2857142857142857, 'Michael Phillips'),\n",
       " (0.23529411764705882, 'Claudia Puig')]"
      ]
     },
     "execution_count": 61,
     "metadata": {},
     "output_type": "execute_result"
    }
   ],
   "source": [
    "top_matches(critics,'Toby',n=3, similarity=sim_distance)"
   ]
  },
  {
   "cell_type": "code",
   "execution_count": 62,
   "metadata": {
    "colab": {
     "base_uri": "https://localhost:8080/",
     "height": 69
    },
    "colab_type": "code",
    "executionInfo": {
     "elapsed": 572,
     "status": "ok",
     "timestamp": 1559815601152,
     "user": {
      "displayName": "",
      "photoUrl": "",
      "userId": ""
     },
     "user_tz": -180
    },
    "id": "P9yAplDfHFox",
    "outputId": "2bb3664f-64a1-47fc-a81d-bd40c4a89d6e"
   },
   "outputs": [
    {
     "data": {
      "text/plain": [
       "[(0.5091564206075492, 'Mick LaSalle'),\n",
       " (0.4723665527410147, 'Michael Phillips'),\n",
       " (0.37719235356315695, 'Claudia Puig'),\n",
       " (0.3499377491111553, 'Lisa Rose'),\n",
       " (0.10539922456186433, 'Jack Matthews')]"
      ]
     },
     "execution_count": 62,
     "metadata": {},
     "output_type": "execute_result"
    }
   ],
   "source": [
    "top_matches(critics,'Toby',n=5, similarity=sim_kernel)"
   ]
  },
  {
   "cell_type": "markdown",
   "metadata": {
    "colab_type": "text",
    "id": "HbZogNESHFo2"
   },
   "source": [
    "## Рекомендация фильмов (User-based подход)"
   ]
  },
  {
   "cell_type": "code",
   "execution_count": 106,
   "metadata": {
    "colab": {},
    "colab_type": "code",
    "id": "3vRPXvsSHFo3"
   },
   "outputs": [],
   "source": [
    "def get_recommendations(prefs, person, similarity=sim_pearson):\n",
    "    \"\"\"\n",
    "    Получить рекомендации для заданного человека, пользуясь взвешенным средним\n",
    "    оценок, данных всеми остальными пользователями\n",
    "    \"\"\"\n",
    "    totals = {}\n",
    "    simSums = {}\n",
    "    for other in prefs:\n",
    "        # сравнивать меня с собой же не нужно\n",
    "        if other == person: continue\n",
    "        sim = similarity(prefs, person, other)\n",
    "        # игнорировать нулевые и отрицательные оценки\n",
    "        if sim <= 0: continue\n",
    "        for item in prefs[other]:\n",
    "            # оценивать только фильмы, которые я еще не смотрел\n",
    "            if item not in prefs[person] or prefs[person][item] == 0:\n",
    "                # Коэффициент подобия * Оценка\n",
    "                totals.setdefault(item, 0)\n",
    "                totals[item] += prefs[other][item] * sim\n",
    "                # Сумма коэффициентов подобия\n",
    "                simSums.setdefault(item, 0)\n",
    "                simSums[item] += sim\n",
    "    # Создать нормированный список\n",
    "    rankings = [(total / simSums[item], item) for item, total in totals.items()]\n",
    "    # Вернуть отсортированный список\n",
    "    rankings.sort()\n",
    "    rankings.reverse()\n",
    "    return rankings"
   ]
  },
  {
   "cell_type": "code",
   "execution_count": 64,
   "metadata": {
    "colab": {
     "base_uri": "https://localhost:8080/",
     "height": 69
    },
    "colab_type": "code",
    "executionInfo": {
     "elapsed": 540,
     "status": "ok",
     "timestamp": 1559815654934,
     "user": {
      "displayName": "",
      "photoUrl": "",
      "userId": ""
     },
     "user_tz": -180
    },
    "id": "Smi-uBlhHFo8",
    "outputId": "6a65e440-8d9e-4e92-fc88-8b5ddfd92f77"
   },
   "outputs": [
    {
     "data": {
      "text/plain": [
       "[(3.3477895267131013, 'The Night Listener'),\n",
       " (2.832549918264162, 'Lady in the Water'),\n",
       " (2.530980703765565, 'Just My Luck')]"
      ]
     },
     "execution_count": 64,
     "metadata": {},
     "output_type": "execute_result"
    }
   ],
   "source": [
    "get_recommendations(critics,'Toby')\n"
   ]
  },
  {
   "cell_type": "code",
   "execution_count": 65,
   "metadata": {
    "colab": {
     "base_uri": "https://localhost:8080/",
     "height": 69
    },
    "colab_type": "code",
    "executionInfo": {
     "elapsed": 566,
     "status": "ok",
     "timestamp": 1559815657545,
     "user": {
      "displayName": "",
      "photoUrl": "",
      "userId": ""
     },
     "user_tz": -180
    },
    "id": "JaJA6dKLHFpC",
    "outputId": "ba811da3-f09f-4699-c78c-8a7fb6090b78"
   },
   "outputs": [
    {
     "data": {
      "text/plain": [
       "[(3.546911137052965, 'The Night Listener'),\n",
       " (2.729687080418633, 'Lady in the Water'),\n",
       " (2.518799545549861, 'Just My Luck')]"
      ]
     },
     "execution_count": 65,
     "metadata": {},
     "output_type": "execute_result"
    }
   ],
   "source": [
    "get_recommendations(critics,'Toby', sim_kernel)"
   ]
  },
  {
   "cell_type": "markdown",
   "metadata": {
    "colab_type": "text",
    "id": "7ZmObET5HFpG"
   },
   "source": [
    "## Сходство предметов\n",
    "### Задание 3 \n",
    "Написать функцию __transoform_prefs__ для замены :\n",
    "\n",
    "{'Lisa Rose': {'Lady in the Water': 2.5, 'Snakes on a Plane': 3.5},\n",
    "'Gene Seymour': {'Lady in the Water': 3.0, 'Snakes on a Plane': 3.5}}\n",
    "\n",
    "на:\n",
    "\n",
    "{'Lady in the Water':{'Lisa Rose':2.5,'Gene Seymour':3.0},\n",
    "'Snakes on a Plane':{'Lisa Rose':3.5,'Gene Seymour':3.5}}"
   ]
  },
  {
   "cell_type": "code",
   "execution_count": 105,
   "metadata": {
    "colab": {},
    "colab_type": "code",
    "id": "i0VLnzsYHFpH"
   },
   "outputs": [],
   "source": [
    "def transform_prefs(prefs):\n",
    "    result={}\n",
    "    # Ваш код здесь\n",
    "    for person in prefs:\n",
    "      for film in prefs[person]:\n",
    "        result.setdefault(film, {})\n",
    "        result[film][person] = prefs[person][film]\n",
    "    return result"
   ]
  },
  {
   "cell_type": "code",
   "execution_count": 67,
   "metadata": {
    "colab": {},
    "colab_type": "code",
    "id": "iuxX57hgHFpJ"
   },
   "outputs": [],
   "source": [
    "movies = transform_prefs(critics)"
   ]
  },
  {
   "cell_type": "code",
   "execution_count": 68,
   "metadata": {
    "colab": {
     "base_uri": "https://localhost:8080/",
     "height": 624
    },
    "colab_type": "code",
    "executionInfo": {
     "elapsed": 499,
     "status": "ok",
     "timestamp": 1559816152906,
     "user": {
      "displayName": "",
      "photoUrl": "",
      "userId": ""
     },
     "user_tz": -180
    },
    "id": "r8hLy2T9HFpO",
    "outputId": "21c0b6e9-5d82-4165-878b-3a3bea2bc28e"
   },
   "outputs": [
    {
     "data": {
      "text/plain": [
       "{'Just My Luck': {'Claudia Puig': 3.0,\n",
       "  'Gene Seymour': 1.5,\n",
       "  'Lisa Rose': 3.0,\n",
       "  'Mick LaSalle': 2.0},\n",
       " 'Lady in the Water': {'Gene Seymour': 3.0,\n",
       "  'Jack Matthews': 3.0,\n",
       "  'Lisa Rose': 2.5,\n",
       "  'Michael Phillips': 2.5,\n",
       "  'Mick LaSalle': 3.0},\n",
       " 'Snakes on a Plane': {'Claudia Puig': 3.5,\n",
       "  'Gene Seymour': 3.5,\n",
       "  'Jack Matthews': 4.0,\n",
       "  'Lisa Rose': 3.5,\n",
       "  'Michael Phillips': 3.0,\n",
       "  'Mick LaSalle': 4.0,\n",
       "  'Toby': 4.5},\n",
       " 'Superman Returns': {'Claudia Puig': 4.0,\n",
       "  'Gene Seymour': 5.0,\n",
       "  'Jack Matthews': 5.0,\n",
       "  'Lisa Rose': 3.5,\n",
       "  'Michael Phillips': 3.5,\n",
       "  'Mick LaSalle': 3.0,\n",
       "  'Toby': 4.0},\n",
       " 'The Night Listener': {'Claudia Puig': 4.5,\n",
       "  'Gene Seymour': 3.0,\n",
       "  'Jack Matthews': 3.0,\n",
       "  'Lisa Rose': 3.0,\n",
       "  'Michael Phillips': 4.0,\n",
       "  'Mick LaSalle': 3.0},\n",
       " 'You, Me and Dupree': {'Claudia Puig': 2.5,\n",
       "  'Gene Seymour': 3.5,\n",
       "  'Jack Matthews': 3.5,\n",
       "  'Lisa Rose': 2.5,\n",
       "  'Mick LaSalle': 2.0,\n",
       "  'Toby': 1.0}}"
      ]
     },
     "execution_count": 68,
     "metadata": {},
     "output_type": "execute_result"
    }
   ],
   "source": [
    "movies"
   ]
  },
  {
   "cell_type": "code",
   "execution_count": 69,
   "metadata": {
    "colab": {
     "base_uri": "https://localhost:8080/",
     "height": 104
    },
    "colab_type": "code",
    "executionInfo": {
     "elapsed": 548,
     "status": "ok",
     "timestamp": 1559816154245,
     "user": {
      "displayName": "",
      "photoUrl": "",
      "userId": ""
     },
     "user_tz": -180
    },
    "id": "qkAUf2TWHFpT",
    "outputId": "382a8740-c024-47b4-e5ed-cb9c92bd9de9"
   },
   "outputs": [
    {
     "data": {
      "text/plain": [
       "[(0.7637626158259785, 'Lady in the Water'),\n",
       " (0.11180339887498941, 'Superman Returns'),\n",
       " (-0.3333333333333333, 'Just My Luck'),\n",
       " (-0.5663521139548527, 'The Night Listener'),\n",
       " (-0.6454972243679047, 'You, Me and Dupree')]"
      ]
     },
     "execution_count": 69,
     "metadata": {},
     "output_type": "execute_result"
    }
   ],
   "source": [
    "top_matches(movies,'Snakes on a Plane', 5, sim_pearson)"
   ]
  },
  {
   "cell_type": "code",
   "execution_count": 70,
   "metadata": {
    "colab": {
     "base_uri": "https://localhost:8080/",
     "height": 35
    },
    "colab_type": "code",
    "executionInfo": {
     "elapsed": 538,
     "status": "ok",
     "timestamp": 1559816155325,
     "user": {
      "displayName": "",
      "photoUrl": "",
      "userId": ""
     },
     "user_tz": -180
    },
    "id": "QDFBeHdoHFpW",
    "outputId": "086d17c3-60dd-4dcd-c8de-f5b4af871d33"
   },
   "outputs": [
    {
     "data": {
      "text/plain": [
       "[(3.352635310801229, 'Claudia Puig'), (2.4730878186968837, 'Toby')]"
      ]
     },
     "execution_count": 70,
     "metadata": {},
     "output_type": "execute_result"
    }
   ],
   "source": [
    "get_recommendations(movies,'Lady in the Water', sim_distance)"
   ]
  },
  {
   "cell_type": "markdown",
   "metadata": {
    "colab_type": "text",
    "id": "4FqCRRRNHFpa"
   },
   "source": [
    "## Коллаборативная фильтрация по сходству объектов (Item-based collaborative filtering)\n",
    "\n",
    "<img src='https://upload.wikimedia.org/wikipedia/commons/5/52/Collaborative_filtering.gif' style=\"width: 300px\">"
   ]
  },
  {
   "cell_type": "code",
   "execution_count": 104,
   "metadata": {
    "colab": {},
    "colab_type": "code",
    "id": "f0wCCUK_HFpb"
   },
   "outputs": [],
   "source": [
    "def calculate_similar_items(prefs, n=10):\n",
    "    # Создать словарь, содержащий для каждого образца те образцы, которые\n",
    "    # больше всего похожи на него.\n",
    "    result = {}\n",
    "    # Обратить матрицу предпочтений, чтобы строки соответствовали образцам\n",
    "    item_prefs = transform_prefs(prefs)\n",
    "    c = 0\n",
    "    for item in item_prefs:\n",
    "        # Обновление состояния для больших наборов данных\n",
    "        c += 1\n",
    "        if c % 1000 == 0:\n",
    "            print(\"%d / %d\" % (c, len(item_prefs)))\n",
    "        # Найти образцы, максимально похожие на данный\n",
    "        scores = top_matches(item_prefs, item, n=n, similarity=sim_pearson)\n",
    "        result[item] = scores\n",
    "    return result\n"
   ]
  },
  {
   "cell_type": "code",
   "execution_count": 84,
   "metadata": {
    "colab": {
     "base_uri": "https://localhost:8080/",
     "height": 537
    },
    "colab_type": "code",
    "executionInfo": {
     "elapsed": 463,
     "status": "ok",
     "timestamp": 1559816158108,
     "user": {
      "displayName": "",
      "photoUrl": "",
      "userId": ""
     },
     "user_tz": -180
    },
    "id": "0bHQFd35HFpd",
    "outputId": "80a95989-2882-4fe1-f98f-fd0afc02c8b1"
   },
   "outputs": [
    {
     "data": {
      "text/plain": [
       "{'Just My Luck': [(0.5555555555555556, 'The Night Listener'),\n",
       "  (-0.3333333333333333, 'Snakes on a Plane'),\n",
       "  (-0.42289003161103106, 'Superman Returns'),\n",
       "  (-0.4856618642571827, 'You, Me and Dupree'),\n",
       "  (-0.9449111825230676, 'Lady in the Water')],\n",
       " 'Lady in the Water': [(0.7637626158259785, 'Snakes on a Plane'),\n",
       "  (0.4879500364742689, 'Superman Returns'),\n",
       "  (0.3333333333333333, 'You, Me and Dupree'),\n",
       "  (-0.6123724356957927, 'The Night Listener'),\n",
       "  (-0.9449111825230676, 'Just My Luck')],\n",
       " 'Snakes on a Plane': [(0.7637626158259785, 'Lady in the Water'),\n",
       "  (0.11180339887498941, 'Superman Returns'),\n",
       "  (-0.3333333333333333, 'Just My Luck'),\n",
       "  (-0.5663521139548527, 'The Night Listener'),\n",
       "  (-0.6454972243679047, 'You, Me and Dupree')],\n",
       " 'Superman Returns': [(0.6579516949597695, 'You, Me and Dupree'),\n",
       "  (0.4879500364742689, 'Lady in the Water'),\n",
       "  (0.11180339887498941, 'Snakes on a Plane'),\n",
       "  (-0.1798471947990544, 'The Night Listener'),\n",
       "  (-0.42289003161103106, 'Just My Luck')],\n",
       " 'The Night Listener': [(0.5555555555555556, 'Just My Luck'),\n",
       "  (-0.1798471947990544, 'Superman Returns'),\n",
       "  (-0.250000000000002, 'You, Me and Dupree'),\n",
       "  (-0.5663521139548527, 'Snakes on a Plane'),\n",
       "  (-0.6123724356957927, 'Lady in the Water')],\n",
       " 'You, Me and Dupree': [(0.6579516949597695, 'Superman Returns'),\n",
       "  (0.3333333333333333, 'Lady in the Water'),\n",
       "  (-0.250000000000002, 'The Night Listener'),\n",
       "  (-0.4856618642571827, 'Just My Luck'),\n",
       "  (-0.6454972243679047, 'Snakes on a Plane')]}"
      ]
     },
     "execution_count": 84,
     "metadata": {},
     "output_type": "execute_result"
    }
   ],
   "source": [
    "itemsim=calculate_similar_items(critics)\n",
    "itemsim"
   ]
  },
  {
   "cell_type": "code",
   "execution_count": 103,
   "metadata": {
    "colab": {},
    "colab_type": "code",
    "id": "6JFl2Jt-HFph"
   },
   "outputs": [],
   "source": [
    "def get_recommended_items(prefs, itemMatch, user):\n",
    "    userRatings = prefs[user]\n",
    "    scores = {}\n",
    "    totalSim = {}\n",
    "\n",
    "    # Цикл по образцам, оцененным данным пользователем\n",
    "    for (item, rating) in userRatings.items():\n",
    "        # Цикл по образцам, похожим на данный\n",
    "        for (similarity, item2) in itemMatch[item]:\n",
    "            # Пропускаем, если пользователь уже оценивал данный образец\n",
    "            if item2 in userRatings: continue\n",
    "            # Взвешенная суммы оценок, умноженных на коэффициент подобия\n",
    "            scores.setdefault(item2, 0)\n",
    "            scores[item2] += similarity * rating\n",
    "            # Сумма всех коэффициентов подобия\n",
    "            totalSim.setdefault(item2, 0)\n",
    "            totalSim[item2] += similarity\n",
    "            if totalSim[item2] == 0: totalSim[item2] = 0.0000001  # чтобы избежать деления на ноль\n",
    "    # Делим каждую итоговую оценку на взвешенную сумму, чтобы вычислить\n",
    "    # среднее\n",
    "    rankings = [(score / totalSim[item], item) for item, score in scores.items()]\n",
    "\n",
    "    # Возвращает список rankings, отсортированный по убыванию\n",
    "    rankings.sort()\n",
    "    rankings.reverse()\n",
    "    return rankings"
   ]
  },
  {
   "cell_type": "code",
   "execution_count": 86,
   "metadata": {
    "colab": {},
    "colab_type": "code",
    "id": "g-KXEfZFHFpj",
    "outputId": "d130ebb8-f458-4cf2-eded-b581fddf8bcf"
   },
   "outputs": [
    {
     "name": "stdout",
     "output_type": "stream",
     "text": [
      "[(3.610031066802182, 'Lady in the Water'), (3.531395034185976, 'The Night Listener'), (2.9609998607242685, 'Just My Luck')]\n"
     ]
    },
    {
     "data": {
      "text/plain": [
       "[(3.610031066802182, 'Lady in the Water'),\n",
       " (3.531395034185976, 'The Night Listener'),\n",
       " (2.9609998607242685, 'Just My Luck')]"
      ]
     },
     "execution_count": 86,
     "metadata": {},
     "output_type": "execute_result"
    }
   ],
   "source": [
    "get_recommended_items(critics,itemsim,'Toby')"
   ]
  },
  {
   "cell_type": "markdown",
   "metadata": {
    "colab_type": "text",
    "id": "AKKuRbF5HFpn"
   },
   "source": [
    "## Рекомендация на данных MovieLens\n",
    "\n",
    "Источник: http://grouplens.org/datasets/movielens/\n",
    "\n",
    "### Задание 4 \n",
    "Загрузить данные по ссылке: http://files.grouplens.org/datasets/movielens/ml-latest-small.zip\n",
    "Реализовать функцию __load_movies__, которая создает словарь, аналогичный словарю __critics__. "
   ]
  },
  {
   "cell_type": "code",
   "execution_count": 87,
   "metadata": {
    "colab": {
     "base_uri": "https://localhost:8080/",
     "height": 367
    },
    "colab_type": "code",
    "executionInfo": {
     "elapsed": 4769,
     "status": "ok",
     "timestamp": 1559816322499,
     "user": {
      "displayName": "",
      "photoUrl": "",
      "userId": ""
     },
     "user_tz": -180
    },
    "id": "5Sg2vOJkS9e4",
    "outputId": "4461565e-926e-4985-cd0b-7464e936cfc4"
   },
   "outputs": [
    {
     "name": "stdout",
     "output_type": "stream",
     "text": [
      "--2019-06-06 16:46:40--  http://files.grouplens.org/datasets/movielens/ml-latest-small.zip\n",
      "Resolving files.grouplens.org (files.grouplens.org)... 128.101.65.152\n",
      "Connecting to files.grouplens.org (files.grouplens.org)|128.101.65.152|:80... connected.\n",
      "HTTP request sent, awaiting response... 304 Not Modified\n",
      "File ‘ml-latest-small.zip’ not modified on server. Omitting download.\n",
      "\n",
      "Archive:  ml-latest-small.zip\n",
      "  inflating: ml-latest-small/links.csv  \n",
      "  inflating: ml-latest-small/tags.csv  \n",
      "  inflating: ml-latest-small/ratings.csv  \n",
      "  inflating: ml-latest-small/README.txt  \n",
      "  inflating: ml-latest-small/movies.csv  \n",
      "links.csv\t     ratings.csv\n",
      "main.py\t\t     README.txt\n",
      "ml-latest-small      recommendationSystems_done.ipynb\n",
      "ml-latest-small.zip  recommendationSystems.ipynb\n",
      "movies.csv\t     tags.csv\n"
     ]
    }
   ],
   "source": [
    "!wget http://files.grouplens.org/datasets/movielens/ml-latest-small.zip -N\n",
    "!unzip ml-latest-small.zip\n",
    "!ls"
   ]
  },
  {
   "cell_type": "code",
   "execution_count": 88,
   "metadata": {
    "colab": {
     "base_uri": "https://localhost:8080/",
     "height": 52
    },
    "colab_type": "code",
    "executionInfo": {
     "elapsed": 1734,
     "status": "ok",
     "timestamp": 1559816664878,
     "user": {
      "displayName": "",
      "photoUrl": "",
      "userId": ""
     },
     "user_tz": -180
    },
    "id": "yRZ0sp-6TlMn",
    "outputId": "4c07c903-e9bd-4900-91b7-82358adf6f4a"
   },
   "outputs": [
    {
     "name": "stdout",
     "output_type": "stream",
     "text": [
      "links.csv\t     ratings.csv\r\n",
      "main.py\t\t     README.txt\r\n",
      "ml-latest-small      recommendationSystems_done.ipynb\r\n",
      "ml-latest-small.zip  recommendationSystems.ipynb\r\n",
      "movies.csv\t     tags.csv\r\n"
     ]
    }
   ],
   "source": [
    "!mv ml-latest-small/* . \n",
    "!ls"
   ]
  },
  {
   "cell_type": "code",
   "execution_count": 89,
   "metadata": {
    "colab": {
     "base_uri": "https://localhost:8080/",
     "height": 191
    },
    "colab_type": "code",
    "executionInfo": {
     "elapsed": 2889,
     "status": "ok",
     "timestamp": 1559816746337,
     "user": {
      "displayName": "",
      "photoUrl": "",
      "userId": ""
     },
     "user_tz": -180
    },
    "id": "jml5AFUMUgmt",
    "outputId": "60abe2dd-8d0a-49ff-8757-f4de2f4610ed"
   },
   "outputs": [
    {
     "name": "stdout",
     "output_type": "stream",
     "text": [
      "movieId,title,genres\n",
      "1,Toy Story (1995),Adventure|Animation|Children|Comedy|Fantasy\n",
      "2,Jumanji (1995),Adventure|Children|Fantasy\n",
      "3,Grumpier Old Men (1995),Comedy|Romance\n",
      "4,Waiting to Exhale (1995),Comedy|Drama|Romance\n",
      "userId,movieId,rating,timestamp\n",
      "1,1,4.0,964982703\n",
      "1,3,4.0,964981247\n",
      "1,6,4.0,964982224\n",
      "1,47,5.0,964983815\n"
     ]
    }
   ],
   "source": [
    "!head -n 5 movies.csv\n",
    "!head -n 5 ratings.csv"
   ]
  },
  {
   "cell_type": "code",
   "execution_count": 102,
   "metadata": {
    "colab": {},
    "colab_type": "code",
    "id": "qCx0f9svHFpo"
   },
   "outputs": [],
   "source": [
    "import csv\n",
    "def load_movies():\n",
    "    movies = {}\n",
    "    with open(\"movies.csv\", \"r\") as f:\n",
    "      csv_reader = csv.reader(f, delimiter=',', quotechar='\"')\n",
    "      for index, key in enumerate(csv_reader):\n",
    "        if index == 0:\n",
    "          continue\n",
    "        movie_id, title, genres = key\n",
    "        movies[movie_id] = title\n",
    "    \n",
    "    prefs = {}\n",
    "    with open(\"ratings.csv\", \"r\") as f:\n",
    "      csv_reader = csv.reader(f, delimiter=',', quotechar='\"')\n",
    "      for index, key in enumerate(csv_reader):\n",
    "        if index == 0:\n",
    "          continue\n",
    "        user_id, movie_id, rating, timestamp = key\n",
    "        prefs.setdefault(user_id, {})\n",
    "        prefs[user_id][movies[movie_id]] = float(rating)\n",
    "        \n",
    "    return prefs"
   ]
  },
  {
   "cell_type": "code",
   "execution_count": 91,
   "metadata": {
    "colab": {
     "base_uri": "https://localhost:8080/",
     "height": 399
    },
    "colab_type": "code",
    "executionInfo": {
     "elapsed": 514,
     "status": "ok",
     "timestamp": 1559817395513,
     "user": {
      "displayName": "",
      "photoUrl": "",
      "userId": ""
     },
     "user_tz": -180
    },
    "id": "SdWBJj-GHFpq",
    "outputId": "90cb91fe-a6b6-4d23-94c8-0dcc8a89a734",
    "scrolled": true
   },
   "outputs": [
    {
     "name": "stdout",
     "output_type": "stream",
     "text": [
      "610\n"
     ]
    },
    {
     "data": {
      "text/plain": [
       "{\"Amelie (Fabuleux destin d'Amélie Poulain, Le) (2001)\": 5.0,\n",
       " 'Battle Royale (Batoru rowaiaru) (2000)': 3.5,\n",
       " 'Battlefield Earth (2000)': 2.0,\n",
       " \"Bill & Ted's Excellent Adventure (1989)\": 3.5,\n",
       " 'Carrie (1976)': 3.5,\n",
       " 'Contact (1997)': 4.0,\n",
       " 'Dancer in the Dark (2000)': 4.0,\n",
       " 'Family Man, The (2000)': 3.5,\n",
       " 'Indian in the Cupboard, The (1995)': 3.0,\n",
       " 'Little Princess, A (1995)': 4.0,\n",
       " 'Monty Python and the Holy Grail (1975)': 5.0,\n",
       " 'My Neighbor Totoro (Tonari no Totoro) (1988)': 5.0,\n",
       " 'Mystery Science Theater 3000: The Movie (1996)': 4.5,\n",
       " 'Network (1976)': 4.5,\n",
       " 'Producers, The (1968)': 4.5,\n",
       " 'Secret Garden, The (1993)': 4.0,\n",
       " 'Secret of NIMH, The (1982)': 3.0,\n",
       " 'Sleeper (1973)': 4.0,\n",
       " 'Soylent Green (1973)': 4.0,\n",
       " 'Spirited Away (Sen to Chihiro no kamikakushi) (2001)': 5.0,\n",
       " 'Tank Girl (1995)': 3.5}"
      ]
     },
     "execution_count": 91,
     "metadata": {},
     "output_type": "execute_result"
    }
   ],
   "source": [
    "prefs=load_movies()\n",
    "print(len(prefs))\n",
    "prefs['87']"
   ]
  },
  {
   "cell_type": "code",
   "execution_count": 92,
   "metadata": {
    "colab": {
     "base_uri": "https://localhost:8080/",
     "height": 35
    },
    "colab_type": "code",
    "executionInfo": {
     "elapsed": 553,
     "status": "ok",
     "timestamp": 1559817396488,
     "user": {
      "displayName": "",
      "photoUrl": "",
      "userId": ""
     },
     "user_tz": -180
    },
    "id": "WnrCn6LoHFpt",
    "outputId": "c53ef034-c831-4b79-d321-5a0dea88147d"
   },
   "outputs": [
    {
     "data": {
      "text/plain": [
       "21"
      ]
     },
     "execution_count": 92,
     "metadata": {},
     "output_type": "execute_result"
    }
   ],
   "source": [
    "len(prefs['87'])"
   ]
  },
  {
   "cell_type": "code",
   "execution_count": 113,
   "metadata": {
    "colab": {
     "base_uri": "https://localhost:8080/",
     "height": 557
    },
    "colab_type": "code",
    "executionInfo": {
     "elapsed": 612,
     "status": "ok",
     "timestamp": 1559817397674,
     "user": {
      "displayName": "",
      "photoUrl": "",
      "userId": ""
     },
     "user_tz": -180
    },
    "id": "1M9LMM_kHFpw",
    "outputId": "660965c7-dd5c-4bb5-f9a3-e28cfd9d04fa",
    "scrolled": true
   },
   "outputs": [
    {
     "data": {
      "text/plain": [
       "[(5.0, 'Zeitgeist: Moving Forward (2011)'),\n",
       " (5.0, 'Wow! A Talking Fish! (1983)'),\n",
       " (5.0, 'Wonder Woman (2009)'),\n",
       " (5.0, 'Woman Under the Influence, A (1974)'),\n",
       " (5.0, 'Woman Is a Woman, A (femme est une femme, Une) (1961)'),\n",
       " (5.0, 'Winter in Prostokvashino (1984)'),\n",
       " (5.0, 'Winnie the Pooh and the Day of Concern (1972)'),\n",
       " (5.0, 'Winnie the Pooh Goes Visiting (1971)'),\n",
       " (5.0, 'Winnie Pooh (1969)'),\n",
       " (5.0, 'Wings, Legs and Tails (1986)'),\n",
       " (5.0, 'When Worlds Collide (1951)'),\n",
       " (5.0, 'What Men Talk About (2010)'),\n",
       " (5.0, 'Watermark (2014)'),\n",
       " (5.0, 'War for the Planet of the Apes (2017)'),\n",
       " (5.0, 'Vovka in the Kingdom of Far Far Away (1965)'),\n",
       " (5.0, 'Very Potter Sequel, A (2010)'),\n",
       " (5.0, 'Vampire in Venice (Nosferatu a Venezia) (Nosferatu in Venice) (1986)'),\n",
       " (5.0, 'Vagabond (Sans toit ni loi) (1985)'),\n",
       " (5.0, 'Vacations in Prostokvashino (1980)'),\n",
       " (5.0, 'Unfaithfully Yours (1948)'),\n",
       " (5.0, \"Tyler Perry's I Can Do Bad All by Myself (2009)\"),\n",
       " (5.0, 'Two Family House (2000)'),\n",
       " (5.0, 'True Stories (1986)'),\n",
       " (5.0, 'Troll 2 (1990)'),\n",
       " (5.0, 'Travels of an Ant (1983)'),\n",
       " (5.0, 'Trailer Park Boys (1999)'),\n",
       " (5.0, 'Tokyo Tribe (2014)'),\n",
       " (5.0, 'Three from Prostokvashino (1978)'),\n",
       " (5.0, 'Thousand Clowns, A (1965)'),\n",
       " (5.0, 'There Once Was a Dog (1982)')]"
      ]
     },
     "execution_count": 113,
     "metadata": {},
     "output_type": "execute_result"
    }
   ],
   "source": [
    "get_recommendations(prefs,'87')[0:30]"
   ]
  },
  {
   "cell_type": "code",
   "execution_count": 94,
   "metadata": {
    "colab": {
     "base_uri": "https://localhost:8080/",
     "height": 191
    },
    "colab_type": "code",
    "id": "v37FqbRgHFpz",
    "outputId": "a9ecfb07-3746-4e6e-95ea-69751aa188ee"
   },
   "outputs": [
    {
     "name": "stdout",
     "output_type": "stream",
     "text": [
      "1000 / 9719\n",
      "2000 / 9719\n",
      "3000 / 9719\n",
      "4000 / 9719\n",
      "5000 / 9719\n",
      "6000 / 9719\n",
      "7000 / 9719\n",
      "8000 / 9719\n",
      "9000 / 9719\n"
     ]
    }
   ],
   "source": [
    "itemsim=calculate_similar_items(prefs,n=10)"
   ]
  },
  {
   "cell_type": "code",
   "execution_count": 112,
   "metadata": {
    "colab": {},
    "colab_type": "code",
    "id": "VLEDVgcqHFp2",
    "outputId": "f3c79284-f9ad-4e52-8c9a-e9e2721df947"
   },
   "outputs": [
    {
     "name": "stdout",
     "output_type": "stream",
     "text": [
      "[(1.000000000000016, 'Year of Living Dangerously, The (1982)'), (1.000000000000016, 'Vera Drake (2004)'), (1.000000000000016, 'Namesake, The (2006)'), (1.000000000000016, 'Ice Age: Dawn of the Dinosaurs (2009)'), (1.000000000000016, 'Better Luck Tomorrow (2002)'), (1.0000000000000133, 'Tenacious D in The Pick of Destiny (2006)'), (1.0000000000000133, 'Love Song for Bobby Long, A (2004)'), (1.0000000000000089, 'Everything You Always Wanted to Know About Sex * But Were Afraid to Ask (1972)'), (1.000000000000007, 'Straw Dogs (1971)'), (1.000000000000007, 'Stepmom (1998)')]\n"
     ]
    }
   ],
   "source": [
    "print(itemsim[\"What's Eating Gilbert Grape (1993)\"])"
   ]
  },
  {
   "cell_type": "code",
   "execution_count": 111,
   "metadata": {
    "colab": {},
    "colab_type": "code",
    "id": "FBYmPjCMHFp5",
    "outputId": "79baf25b-65ed-4ddf-e936-66a7ca156dba"
   },
   "outputs": [
    {
     "name": "stdout",
     "output_type": "stream",
     "text": [
      "(5.0, 'You Can Count on Me (2000)')\n",
      "(5.0, 'Year One (2009)')\n",
      "(5.0, 'This Is the End (2013)')\n",
      "(5.0, 'Them! (1954)')\n",
      "(5.0, 'Tears of the Sun (2003)')\n",
      "(5.0, 'Stepmom (1998)')\n",
      "(5.0, 'Spider (2002)')\n",
      "(5.0, 'Shut Up & Sing (2006)')\n",
      "(5.0, 'Session 9 (2001)')\n",
      "(5.0, 'Rambo (Rambo 4) (2008)')\n",
      "(5.0, 'Percy Jackson & the Olympians: The Lightning Thief (2010)')\n",
      "(5.0, 'Penguins of Madagascar (2014)')\n",
      "(5.0, 'Other Guys, The (2010)')\n",
      "(5.0, 'Odd Couple, The (1968)')\n",
      "(5.0, 'Nebraska (2013)')\n",
      "(5.0, 'Namesake, The (2006)')\n",
      "(5.0, 'Mystery, Alaska (1999)')\n",
      "(5.0, 'Monuments Men, The (2014)')\n",
      "(5.0, 'Million Dollar Hotel, The (2001)')\n",
      "(5.0, 'Midnight Special (2015)')\n",
      "(5.0, 'Marathon Man (1976)')\n",
      "(5.0, 'Mad Hot Ballroom (2005)')\n",
      "(5.0, \"M. Hulot’s Holiday (Mr. Hulot's Holiday) (Vacances de Monsieur Hulot, Les) (1953)\")\n",
      "(5.0, 'Love and Other Drugs (2010)')\n",
      "(5.0, 'Looking for Richard (1996)')\n",
      "(5.0, 'Layer Cake (2004)')\n",
      "(5.0, 'Howards End (1992)')\n",
      "(5.0, 'Girl on the Bridge, The (Fille sur le pont, La) (1999)')\n",
      "(5.0, 'Fandango (1985)')\n",
      "(5.0, 'Don Jon (2013)')\n",
      "(5.0, 'Dark Days (2000)')\n",
      "(5.0, 'Bio-Dome (1996)')\n",
      "(5.0, 'Before Night Falls (2000)')\n",
      "(5.0, 'Aguirre: The Wrath of God (Aguirre, der Zorn Gottes) (1972)')\n",
      "(5.0, 'After Hours (1985)')\n",
      "(5.0, \"Adam's Rib (1949)\")\n",
      "(5.0, '13 Hours (2016)')\n",
      "(4.5, 'Wolf (1994)')\n",
      "(4.5, 'True Grit (1969)')\n",
      "(4.5, 'Tie Me Up! Tie Me Down! (¡Átame!) (1990)')\n"
     ]
    }
   ],
   "source": [
    "for result in get_recommended_items(prefs,itemsim,'87')[:40]:\n",
    "    print(result)\n"
   ]
  },
  {
   "cell_type": "code",
   "execution_count": null,
   "metadata": {},
   "outputs": [],
   "source": []
  }
 ],
 "metadata": {
  "colab": {
   "name": "Copy of recommendationSystems.ipynb",
   "provenance": [
    {
     "file_id": "https://github.com/Tviskaron/IDA2-2019/blob/master/sem-17/recommendationSystems.ipynb",
     "timestamp": 1559817469312
    }
   ],
   "toc_visible": true,
   "version": "0.3.2"
  },
  "kernelspec": {
   "display_name": "Python 3",
   "language": "python",
   "name": "python3"
  },
  "language_info": {
   "codemirror_mode": {
    "name": "ipython",
    "version": 3
   },
   "file_extension": ".py",
   "mimetype": "text/x-python",
   "name": "python",
   "nbconvert_exporter": "python",
   "pygments_lexer": "ipython3",
   "version": "3.5.2"
  }
 },
 "nbformat": 4,
 "nbformat_minor": 1
}
