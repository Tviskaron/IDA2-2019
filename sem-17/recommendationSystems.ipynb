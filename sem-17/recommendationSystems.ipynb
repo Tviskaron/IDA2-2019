{
 "cells": [
  {
   "cell_type": "markdown",
   "metadata": {
    "collapsed": true
   },
   "source": [
    "## Рекомендательные системы\n",
    "\n",
    "\n"
   ]
  },
  {
   "cell_type": "markdown",
   "metadata": {},
   "source": [
    "#### Словарь с предпочтениями пользователи-фильмы"
   ]
  },
  {
   "cell_type": "code",
   "execution_count": 4,
   "metadata": {},
   "outputs": [],
   "source": [
    "# Словарь кинокритиков и выставленных ими оценок для небольшого набора\n",
    "# данных о фильмах\n",
    "critics = {'Lisa Rose': {'Lady in the Water': 2.5, 'Snakes on a Plane': 3.5,\n",
    "                         'Just My Luck': 3.0, 'Superman Returns': 3.5, 'You, Me and Dupree': 2.5,\n",
    "                         'The Night Listener': 3.0},\n",
    "           'Gene Seymour': {'Lady in the Water': 3.0, 'Snakes on a Plane': 3.5,\n",
    "                            'Just My Luck': 1.5, 'Superman Returns': 5.0, 'The Night Listener': 3.0,\n",
    "                            'You, Me and Dupree': 3.5},\n",
    "           'Michael Phillips': {'Lady in the Water': 2.5, 'Snakes on a Plane': 3.0,\n",
    "                                'Superman Returns': 3.5, 'The Night Listener': 4.0},\n",
    "           'Claudia Puig': {'Snakes on a Plane': 3.5, 'Just My Luck': 3.0,\n",
    "                            'The Night Listener': 4.5, 'Superman Returns': 4.0,\n",
    "                            'You, Me and Dupree': 2.5},\n",
    "           'Mick LaSalle': {'Lady in the Water': 3.0, 'Snakes on a Plane': 4.0,\n",
    "                            'Just My Luck': 2.0, 'Superman Returns': 3.0, 'The Night Listener': 3.0,\n",
    "                            'You, Me and Dupree': 2.0},\n",
    "           'Jack Matthews': {'Lady in the Water': 3.0, 'Snakes on a Plane': 4.0,\n",
    "                             'The Night Listener': 3.0, 'Superman Returns': 5.0, 'You, Me and Dupree': 3.5},\n",
    "           'Toby': {'Snakes on a Plane': 4.5, 'You, Me and Dupree': 1.0, 'Superman Returns': 4.0}}"
   ]
  },
  {
   "cell_type": "code",
   "execution_count": 110,
   "metadata": {},
   "outputs": [
    {
     "data": {
      "text/plain": [
       "{'Snakes on a Plane': 4.5, 'You, Me and Dupree': 1.0, 'Superman Returns': 4.0}"
      ]
     },
     "execution_count": 110,
     "metadata": {},
     "output_type": "execute_result"
    }
   ],
   "source": [
    "critics['Toby']"
   ]
  },
  {
   "cell_type": "code",
   "execution_count": 111,
   "metadata": {},
   "outputs": [
    {
     "data": {
      "text/plain": [
       "2.5"
      ]
     },
     "execution_count": 111,
     "metadata": {},
     "output_type": "execute_result"
    }
   ],
   "source": [
    "critics['Lisa Rose']['Lady in the Water']"
   ]
  },
  {
   "cell_type": "code",
   "execution_count": 112,
   "metadata": {},
   "outputs": [
    {
     "name": "stdout",
     "output_type": "stream",
     "text": [
      "3.1622776601683795\n"
     ]
    }
   ],
   "source": [
    "# вычисление расстояния Евклида\n",
    "from math import sqrt\n",
    "\n",
    "print(sqrt(pow(5 - 4, 2) + pow(4 - 1, 2)))"
   ]
  },
  {
   "cell_type": "code",
   "execution_count": 113,
   "metadata": {},
   "outputs": [
    {
     "data": {
      "text/plain": [
       "0.6666666666666666"
      ]
     },
     "execution_count": 113,
     "metadata": {},
     "output_type": "execute_result"
    }
   ],
   "source": [
    "# вычисление сходства\n",
    "1 / (1 + sqrt(pow(5 - 4.5, 2) + pow(5 - 5, 2)))"
   ]
  },
  {
   "cell_type": "code",
   "execution_count": 114,
   "metadata": {},
   "outputs": [
    {
     "data": {
      "text/plain": [
       "0.8607079764250578"
      ]
     },
     "execution_count": 114,
     "metadata": {},
     "output_type": "execute_result"
    }
   ],
   "source": [
    "from numpy import exp\n",
    "\n",
    "exp(-0.3 * sqrt(pow(5 - 4.5, 2) + pow(5 - 5, 2)))"
   ]
  },
  {
   "cell_type": "markdown",
   "metadata": {},
   "source": [
    "### Задание 1\n",
    "По аналогии реализуйте функции для расчета расстояния между двумя пользователями: __sim_distance__(расстояние Еквликда) и __sim_kernel__. Если общих оценок нет - возвращаем __0__."
   ]
  },
  {
   "cell_type": "code",
   "execution_count": 115,
   "metadata": {},
   "outputs": [],
   "source": [
    "def sim_distance(prefs, person1, person2):\n",
    "    \"\"\"\n",
    "    Возвращает сходство person1 и person2 на основе расстояния    \n",
    "    \"\"\"\n",
    "    # Вак код здесь\n",
    "    result = \n",
    "    return result"
   ]
  },
  {
   "cell_type": "code",
   "execution_count": 116,
   "metadata": {},
   "outputs": [
    {
     "data": {
      "text/plain": [
       "0.3483314773547883"
      ]
     },
     "execution_count": 116,
     "metadata": {},
     "output_type": "execute_result"
    }
   ],
   "source": [
    "sim_distance(critics, 'Lisa Rose','Toby')"
   ]
  },
  {
   "cell_type": "code",
   "execution_count": 117,
   "metadata": {},
   "outputs": [],
   "source": [
    "def sim_kernel(prefs, person1, person2, alpha=0.3):\n",
    "    \"\"\"\n",
    "    Возвращает сходство person1 и person2 \n",
    "    :param alpha: \n",
    "    \"\"\"\n",
    "    # Ваш код здесь\n",
    "    result = \n",
    "    return result"
   ]
  },
  {
   "cell_type": "code",
   "execution_count": 118,
   "metadata": {},
   "outputs": [
    {
     "data": {
      "text/plain": [
       "0.3499377491111553"
      ]
     },
     "execution_count": 118,
     "metadata": {},
     "output_type": "execute_result"
    }
   ],
   "source": [
    "sim_kernel(critics, 'Lisa Rose','Toby')"
   ]
  },
  {
   "cell_type": "code",
   "execution_count": 119,
   "metadata": {},
   "outputs": [],
   "source": [
    "def sim_pearson(prefs, p1, p2):\n",
    "    \"\"\"\n",
    "    # Возвращает коэффициент корреляции Пирсона между p1 и p2    \n",
    "    :param prefs: \n",
    "    :param p1: \n",
    "    :param p2: \n",
    "    :return: \n",
    "    \"\"\"\n",
    "    # Получить список предметов, оцененных обоими\n",
    "    si = {}\n",
    "    for item in prefs[p1]:\n",
    "        if item in prefs[p2]: si[item] = 1\n",
    "\n",
    "    # Если нет ни одной общей оценки, вернуть 0\n",
    "    if len(si) == 0: return 0\n",
    "\n",
    "    # Количество соместно оцененных фильм\n",
    "    n = len(si)\n",
    "\n",
    "    # Вычислить сумму всех предпочтений\n",
    "    sum1 = sum([prefs[p1][it] for it in si])\n",
    "    sum2 = sum([prefs[p2][it] for it in si])\n",
    "\n",
    "    # Вычислить сумму квадратов\n",
    "    sum1Sq = sum([pow(prefs[p1][it], 2) for it in si])\n",
    "    sum2Sq = sum([pow(prefs[p2][it], 2) for it in si])\n",
    "\n",
    "    # Вычислить сумму произведений\n",
    "    pSum = sum([prefs[p1][it] * prefs[p2][it] for it in si])\n",
    "\n",
    "    # Вычислить коэффициент Пирсона\n",
    "    num = pSum - (sum1 * sum2 / n)\n",
    "    den = sqrt((sum1Sq - pow(sum1, 2) / n) * (sum2Sq - pow(sum2, 2) / n))\n",
    "    if den == 0: return 0\n",
    "\n",
    "    r = num / den\n",
    "\n",
    "    return r"
   ]
  },
  {
   "cell_type": "code",
   "execution_count": 120,
   "metadata": {},
   "outputs": [
    {
     "data": {
      "text/plain": [
       "(0.39605901719066977, 0.29429805508554946)"
      ]
     },
     "execution_count": 120,
     "metadata": {},
     "output_type": "execute_result"
    }
   ],
   "source": [
    "sim_pearson(critics,'Lisa Rose','Gene Seymour'), sim_distance(critics, 'Lisa Rose','Gene Seymour')"
   ]
  },
  {
   "cell_type": "markdown",
   "metadata": {},
   "source": [
    "## Ранжирование критиков\n",
    "### Задание 2\n",
    "Реализуйте функцию __top_mathes__ для поиска наилучших соответствий для конкретного человека\n"
   ]
  },
  {
   "cell_type": "code",
   "execution_count": 121,
   "metadata": {},
   "outputs": [],
   "source": [
    "def top_matches(prefs,person,n=5,similarity=sim_pearson):\n",
    "    \"\"\"\n",
    "    Возвращает список наилучших соответствий для человека из словаря prefs.\n",
    "    :param n: количество результатов\n",
    "    :param similarity: функция подобия\n",
    "    \"\"\"\n",
    "    # Ваш код здесь\n",
    "    result = \n",
    "    return result"
   ]
  },
  {
   "cell_type": "code",
   "execution_count": 122,
   "metadata": {},
   "outputs": [
    {
     "data": {
      "text/plain": [
       "[(0.4, 'Mick LaSalle'),\n",
       " (0.38742588672279304, 'Michael Phillips'),\n",
       " (0.3567891723253309, 'Claudia Puig')]"
      ]
     },
     "execution_count": 122,
     "metadata": {},
     "output_type": "execute_result"
    }
   ],
   "source": [
    "top_matches(critics,'Toby',n=3, similarity=sim_distance)"
   ]
  },
  {
   "cell_type": "code",
   "execution_count": 123,
   "metadata": {},
   "outputs": [
    {
     "data": {
      "text/plain": [
       "[(0.5091564206075492, 'Mick LaSalle'),\n",
       " (0.4723665527410147, 'Michael Phillips'),\n",
       " (0.37719235356315695, 'Claudia Puig')]"
      ]
     },
     "execution_count": 123,
     "metadata": {},
     "output_type": "execute_result"
    }
   ],
   "source": [
    "top_matches(critics,'Toby',n=3, similarity=sim_kernel)"
   ]
  },
  {
   "cell_type": "markdown",
   "metadata": {},
   "source": [
    "## Рекомендация фильмов (User-based подход)"
   ]
  },
  {
   "cell_type": "code",
   "execution_count": 124,
   "metadata": {},
   "outputs": [],
   "source": [
    "def get_recommendations(prefs, person, similarity=sim_pearson):\n",
    "    \"\"\"\n",
    "    Получить рекомендации для заданного человека, пользуясь взвешенным средним\n",
    "    оценок, данных всеми остальными пользователями\n",
    "    \"\"\"\n",
    "    totals = {}\n",
    "    simSums = {}\n",
    "    for other in prefs:\n",
    "        # сравнивать меня с собой же не нужно\n",
    "        if other == person: continue\n",
    "        sim = similarity(prefs, person, other)\n",
    "        # игнорировать нулевые и отрицательные оценки\n",
    "        if sim <= 0: continue\n",
    "        for item in prefs[other]:\n",
    "            # оценивать только фильмы, которые я еще не смотрел\n",
    "            if item not in prefs[person] or prefs[person][item] == 0:\n",
    "                # Коэффициент подобия * Оценка\n",
    "                totals.setdefault(item, 0)\n",
    "                totals[item] += prefs[other][item] * sim\n",
    "                # Сумма коэффициентов подобия\n",
    "                simSums.setdefault(item, 0)\n",
    "                simSums[item] += sim\n",
    "    # Создать нормированный список\n",
    "    rankings = [(total / simSums[item], item) for item, total in totals.items()]\n",
    "    # Вернуть отсортированный список\n",
    "    rankings.sort()\n",
    "    rankings.reverse()\n",
    "    return rankings"
   ]
  },
  {
   "cell_type": "code",
   "execution_count": 125,
   "metadata": {},
   "outputs": [
    {
     "data": {
      "text/plain": [
       "[(3.3477895267131017, 'The Night Listener'),\n",
       " (2.8325499182641614, 'Lady in the Water'),\n",
       " (2.530980703765565, 'Just My Luck')]"
      ]
     },
     "execution_count": 125,
     "metadata": {},
     "output_type": "execute_result"
    }
   ],
   "source": [
    "get_recommendations(critics,'Toby')\n"
   ]
  },
  {
   "cell_type": "code",
   "execution_count": 126,
   "metadata": {},
   "outputs": [
    {
     "data": {
      "text/plain": [
       "[(3.5469111370529656, 'The Night Listener'),\n",
       " (2.729687080418633, 'Lady in the Water'),\n",
       " (2.518799545549861, 'Just My Luck')]"
      ]
     },
     "execution_count": 126,
     "metadata": {},
     "output_type": "execute_result"
    }
   ],
   "source": [
    "get_recommendations(critics,'Toby', sim_kernel)"
   ]
  },
  {
   "cell_type": "markdown",
   "metadata": {},
   "source": [
    "## Сходство предметов\n",
    "### Задание 3 \n",
    "Написать функцию __transoform_prefs__ для замены :\n",
    "\n",
    "{'Lisa Rose': {'Lady in the Water': 2.5, 'Snakes on a Plane': 3.5},\n",
    "'Gene Seymour': {'Lady in the Water': 3.0, 'Snakes on a Plane': 3.5}}\n",
    "\n",
    "на:\n",
    "\n",
    "{'Lady in the Water':{'Lisa Rose':2.5,'Gene Seymour':3.0},\n",
    "'Snakes on a Plane':{'Lisa Rose':3.5,'Gene Seymour':3.5}}"
   ]
  },
  {
   "cell_type": "code",
   "execution_count": 2,
   "metadata": {},
   "outputs": [],
   "source": [
    "def transform_prefs(prefs):\n",
    "    result={}\n",
    "    # Ваш код здесь\n",
    "    return result"
   ]
  },
  {
   "cell_type": "code",
   "execution_count": 6,
   "metadata": {},
   "outputs": [
    {
     "name": "stdout",
     "output_type": "stream",
     "text": [
      "{'Lady in the Water': {'Lisa Rose': 2.5, 'Gene Seymour': 3.0, 'Michael Phillips': 2.5, 'Mick LaSalle': 3.0, 'Jack Matthews': 3.0}, 'Snakes on a Plane': {'Lisa Rose': 3.5, 'Gene Seymour': 3.5, 'Michael Phillips': 3.0, 'Claudia Puig': 3.5, 'Mick LaSalle': 4.0, 'Jack Matthews': 4.0, 'Toby': 4.5}, 'Just My Luck': {'Lisa Rose': 3.0, 'Gene Seymour': 1.5, 'Claudia Puig': 3.0, 'Mick LaSalle': 2.0}, 'Superman Returns': {'Lisa Rose': 3.5, 'Gene Seymour': 5.0, 'Michael Phillips': 3.5, 'Claudia Puig': 4.0, 'Mick LaSalle': 3.0, 'Jack Matthews': 5.0, 'Toby': 4.0}, 'You, Me and Dupree': {'Lisa Rose': 2.5, 'Gene Seymour': 3.5, 'Claudia Puig': 2.5, 'Mick LaSalle': 2.0, 'Jack Matthews': 3.5, 'Toby': 1.0}, 'The Night Listener': {'Lisa Rose': 3.0, 'Gene Seymour': 3.0, 'Michael Phillips': 4.0, 'Claudia Puig': 4.5, 'Mick LaSalle': 3.0, 'Jack Matthews': 3.0}}\n",
      "****************************************\n",
      "{'Lisa Rose': {'Lady in the Water': 2.5, 'Snakes on a Plane': 3.5, 'Just My Luck': 3.0, 'Superman Returns': 3.5, 'You, Me and Dupree': 2.5, 'The Night Listener': 3.0}, 'Gene Seymour': {'Lady in the Water': 3.0, 'Snakes on a Plane': 3.5, 'Just My Luck': 1.5, 'Superman Returns': 5.0, 'The Night Listener': 3.0, 'You, Me and Dupree': 3.5}, 'Michael Phillips': {'Lady in the Water': 2.5, 'Snakes on a Plane': 3.0, 'Superman Returns': 3.5, 'The Night Listener': 4.0}, 'Claudia Puig': {'Snakes on a Plane': 3.5, 'Just My Luck': 3.0, 'The Night Listener': 4.5, 'Superman Returns': 4.0, 'You, Me and Dupree': 2.5}, 'Mick LaSalle': {'Lady in the Water': 3.0, 'Snakes on a Plane': 4.0, 'Just My Luck': 2.0, 'Superman Returns': 3.0, 'The Night Listener': 3.0, 'You, Me and Dupree': 2.0}, 'Jack Matthews': {'Lady in the Water': 3.0, 'Snakes on a Plane': 4.0, 'The Night Listener': 3.0, 'Superman Returns': 5.0, 'You, Me and Dupree': 3.5}, 'Toby': {'Snakes on a Plane': 4.5, 'You, Me and Dupree': 1.0, 'Superman Returns': 4.0}}\n"
     ]
    }
   ],
   "source": [
    "movies = transform_prefs(critics)"
   ]
  },
  {
   "cell_type": "code",
   "execution_count": 129,
   "metadata": {},
   "outputs": [
    {
     "data": {
      "text/plain": [
       "{'Lady in the Water': {'Lisa Rose': 2.5,\n",
       "  'Gene Seymour': 3.0,\n",
       "  'Michael Phillips': 2.5,\n",
       "  'Mick LaSalle': 3.0,\n",
       "  'Jack Matthews': 3.0},\n",
       " 'Snakes on a Plane': {'Lisa Rose': 3.5,\n",
       "  'Gene Seymour': 3.5,\n",
       "  'Michael Phillips': 3.0,\n",
       "  'Claudia Puig': 3.5,\n",
       "  'Mick LaSalle': 4.0,\n",
       "  'Jack Matthews': 4.0,\n",
       "  'Toby': 4.5},\n",
       " 'Just My Luck': {'Lisa Rose': 3.0,\n",
       "  'Gene Seymour': 1.5,\n",
       "  'Claudia Puig': 3.0,\n",
       "  'Mick LaSalle': 2.0},\n",
       " 'Superman Returns': {'Lisa Rose': 3.5,\n",
       "  'Gene Seymour': 5.0,\n",
       "  'Michael Phillips': 3.5,\n",
       "  'Claudia Puig': 4.0,\n",
       "  'Mick LaSalle': 3.0,\n",
       "  'Jack Matthews': 5.0,\n",
       "  'Toby': 4.0},\n",
       " 'You, Me and Dupree': {'Lisa Rose': 2.5,\n",
       "  'Gene Seymour': 3.5,\n",
       "  'Claudia Puig': 2.5,\n",
       "  'Mick LaSalle': 2.0,\n",
       "  'Jack Matthews': 3.5,\n",
       "  'Toby': 1.0},\n",
       " 'The Night Listener': {'Lisa Rose': 3.0,\n",
       "  'Gene Seymour': 3.0,\n",
       "  'Michael Phillips': 4.0,\n",
       "  'Claudia Puig': 4.5,\n",
       "  'Mick LaSalle': 3.0,\n",
       "  'Jack Matthews': 3.0}}"
      ]
     },
     "execution_count": 129,
     "metadata": {},
     "output_type": "execute_result"
    }
   ],
   "source": [
    "movies"
   ]
  },
  {
   "cell_type": "code",
   "execution_count": 146,
   "metadata": {},
   "outputs": [
    {
     "data": {
      "text/plain": [
       "[(0.7637626158259785, 'Lady in the Water'),\n",
       " (0.11180339887498941, 'Superman Returns'),\n",
       " (-0.3333333333333333, 'Just My Luck'),\n",
       " (-0.5663521139548527, 'The Night Listener'),\n",
       " (-0.6454972243679047, 'You, Me and Dupree')]"
      ]
     },
     "execution_count": 146,
     "metadata": {},
     "output_type": "execute_result"
    }
   ],
   "source": [
    "top_matches(movies,'Snakes on a Plane', 5, sim_pearson)"
   ]
  },
  {
   "cell_type": "code",
   "execution_count": 131,
   "metadata": {},
   "outputs": [
    {
     "data": {
      "text/plain": [
       "[(3.4345467437304804, 'Claudia Puig'), (2.868767392626467, 'Toby')]"
      ]
     },
     "execution_count": 131,
     "metadata": {},
     "output_type": "execute_result"
    }
   ],
   "source": [
    "get_recommendations(movies,'Lady in the Water', sim_distance)"
   ]
  },
  {
   "cell_type": "markdown",
   "metadata": {},
   "source": [
    "## Коллаборативная фильтрация по сходству объектов (Item-based collaborative filtering)\n",
    "\n",
    "<img src='https://upload.wikimedia.org/wikipedia/commons/5/52/Collaborative_filtering.gif' style=\"width: 300px\">"
   ]
  },
  {
   "cell_type": "code",
   "execution_count": 132,
   "metadata": {},
   "outputs": [],
   "source": [
    "def calculate_similar_items(prefs, n=10):\n",
    "    # Создать словарь, содержащий для каждого образца те образцы, которые\n",
    "    # больше всего похожи на него.\n",
    "    result = {}\n",
    "    # Обратить матрицу предпочтений, чтобы строки соответствовали образцам\n",
    "    item_prefs = transform_prefs(prefs)\n",
    "    c = 0\n",
    "    for item in itemPrefs:\n",
    "        # Обновление состояния для больших наборов данных\n",
    "        c += 1\n",
    "        if c % 100 == 0:\n",
    "            print(\"%d / %d\" % (c, len(itemPrefs)))\n",
    "        # Найти образцы, максимально похожие на данный\n",
    "        scores = top_matches(item_prefs, item, n=n, similarity=sim_distance)\n",
    "        result[item] = scores\n",
    "    return result\n"
   ]
  },
  {
   "cell_type": "code",
   "execution_count": 133,
   "metadata": {},
   "outputs": [
    {
     "data": {
      "text/plain": [
       "{'Lady in the Water': [(0.4494897427831781, 'You, Me and Dupree'),\n",
       "  (0.38742588672279304, 'The Night Listener'),\n",
       "  (0.3483314773547883, 'Snakes on a Plane'),\n",
       "  (0.3483314773547883, 'Just My Luck'),\n",
       "  (0.2402530733520421, 'Superman Returns')],\n",
       " 'Snakes on a Plane': [(0.3483314773547883, 'Lady in the Water'),\n",
       "  (0.32037724101704074, 'The Night Listener'),\n",
       "  (0.3090169943749474, 'Superman Returns'),\n",
       "  (0.2553967929896867, 'Just My Luck'),\n",
       "  (0.1886378647726465, 'You, Me and Dupree')],\n",
       " 'Just My Luck': [(0.3483314773547883, 'Lady in the Water'),\n",
       "  (0.32037724101704074, 'You, Me and Dupree'),\n",
       "  (0.2989350844248255, 'The Night Listener'),\n",
       "  (0.2553967929896867, 'Snakes on a Plane'),\n",
       "  (0.20799159651347807, 'Superman Returns')],\n",
       " 'Superman Returns': [(0.3090169943749474, 'Snakes on a Plane'),\n",
       "  (0.252650308587072, 'The Night Listener'),\n",
       "  (0.2402530733520421, 'Lady in the Water'),\n",
       "  (0.20799159651347807, 'Just My Luck'),\n",
       "  (0.1918253663634734, 'You, Me and Dupree')],\n",
       " 'You, Me and Dupree': [(0.4494897427831781, 'Lady in the Water'),\n",
       "  (0.32037724101704074, 'Just My Luck'),\n",
       "  (0.29429805508554946, 'The Night Listener'),\n",
       "  (0.1918253663634734, 'Superman Returns'),\n",
       "  (0.1886378647726465, 'Snakes on a Plane')],\n",
       " 'The Night Listener': [(0.38742588672279304, 'Lady in the Water'),\n",
       "  (0.32037724101704074, 'Snakes on a Plane'),\n",
       "  (0.2989350844248255, 'Just My Luck'),\n",
       "  (0.29429805508554946, 'You, Me and Dupree'),\n",
       "  (0.252650308587072, 'Superman Returns')]}"
      ]
     },
     "execution_count": 133,
     "metadata": {},
     "output_type": "execute_result"
    }
   ],
   "source": [
    "itemsim=calculate_similar_items(critics)\n",
    "itemsim"
   ]
  },
  {
   "cell_type": "code",
   "execution_count": 134,
   "metadata": {},
   "outputs": [],
   "source": [
    "def get_recommended_items(prefs, itemMatch, user):\n",
    "    userRatings = prefs[user]\n",
    "    scores = {}\n",
    "    totalSim = {}\n",
    "\n",
    "    # Цикл по образцам, оцененным данным пользователем\n",
    "    for (item, rating) in userRatings.items():\n",
    "        # Цикл по образцам, похожим на данный\n",
    "        for (similarity, item2) in itemMatch[item]:\n",
    "            # Пропускаем, если пользователь уже оценивал данный образец\n",
    "            if item2 in userRatings: continue\n",
    "            # Взвешенная суммы оценок, умноженных на коэффициент подобия\n",
    "            scores.setdefault(item2, 0)\n",
    "            scores[item2] += similarity * rating\n",
    "            # Сумма всех коэффициентов подобия\n",
    "            totalSim.setdefault(item2, 0)\n",
    "            totalSim[item2] += similarity\n",
    "            if totalSim[item2] == 0: totalSim[item2] = 0.0000001  # чтобы избежать деления на ноль\n",
    "    # Делим каждую итоговую оценку на взвешенную сумму, чтобы вычислить\n",
    "    # среднее\n",
    "    rankings = [(score / totalSim[item], item) for item, score in scores.items()]\n",
    "\n",
    "    # Возвращает список rankings, отсортированный по убыванию\n",
    "    rankings.sort()\n",
    "    rankings.reverse()\n",
    "    return rankings"
   ]
  },
  {
   "cell_type": "code",
   "execution_count": 135,
   "metadata": {},
   "outputs": [
    {
     "data": {
      "text/plain": [
       "[(3.1667425234070894, 'The Night Listener'),\n",
       " (2.9366294028444346, 'Just My Luck'),\n",
       " (2.868767392626467, 'Lady in the Water')]"
      ]
     },
     "execution_count": 135,
     "metadata": {},
     "output_type": "execute_result"
    }
   ],
   "source": [
    "get_recommended_items(critics,itemsim,'Toby')"
   ]
  },
  {
   "cell_type": "markdown",
   "metadata": {},
   "source": [
    "## Рекомендация на данных MovieLens\n",
    "\n",
    "Источник: http://grouplens.org/datasets/movielens/\n",
    "\n",
    "### Задание 4 \n",
    "Загрузить данные по ссылке: http://files.grouplens.org/datasets/movielens/ml-latest-small.zip\n",
    "Реализовать функцию __load_movies__, которая создает словарь, аналогичный словарю __critics__. "
   ]
  },
  {
   "cell_type": "code",
   "execution_count": 144,
   "metadata": {},
   "outputs": [],
   "source": [
    "import csv\n",
    "def load_movies():\n",
    "    prefs = {}\n",
    "    # Ваш код здесь\n",
    "    return prefs"
   ]
  },
  {
   "cell_type": "code",
   "execution_count": 145,
   "metadata": {
    "scrolled": true
   },
   "outputs": [
    {
     "data": {
      "text/plain": [
       "{'Indian in the Cupboard, The (1995)': 3.0,\n",
       " 'Little Princess, A (1995)': 4.0,\n",
       " 'Tank Girl (1995)': 3.5,\n",
       " 'Secret Garden, The (1993)': 4.0,\n",
       " 'Mystery Science Theater 3000: The Movie (1996)': 4.5,\n",
       " 'Sleeper (1973)': 4.0,\n",
       " 'Monty Python and the Holy Grail (1975)': 5.0,\n",
       " 'Carrie (1976)': 3.5,\n",
       " 'Contact (1997)': 4.0,\n",
       " 'Soylent Green (1973)': 4.0,\n",
       " 'Secret of NIMH, The (1982)': 3.0,\n",
       " 'Producers, The (1968)': 4.5,\n",
       " 'Network (1976)': 4.5,\n",
       " 'Battlefield Earth (2000)': 2.0,\n",
       " 'Dancer in the Dark (2000)': 4.0,\n",
       " 'Family Man, The (2000)': 3.5,\n",
       " \"Bill & Ted's Excellent Adventure (1989)\": 3.5,\n",
       " \"Amelie (Fabuleux destin d'Amélie Poulain, Le) (2001)\": 5.0,\n",
       " 'Spirited Away (Sen to Chihiro no kamikakushi) (2001)': 5.0,\n",
       " 'My Neighbor Totoro (Tonari no Totoro) (1988)': 5.0,\n",
       " 'Battle Royale (Batoru rowaiaru) (2000)': 3.5}"
      ]
     },
     "execution_count": 145,
     "metadata": {},
     "output_type": "execute_result"
    }
   ],
   "source": [
    "prefs=load_movies()\n",
    "prefs['87']"
   ]
  },
  {
   "cell_type": "code",
   "execution_count": 138,
   "metadata": {},
   "outputs": [
    {
     "data": {
      "text/plain": [
       "21"
      ]
     },
     "execution_count": 138,
     "metadata": {},
     "output_type": "execute_result"
    }
   ],
   "source": [
    "len(prefs['87'])"
   ]
  },
  {
   "cell_type": "code",
   "execution_count": 139,
   "metadata": {
    "scrolled": true
   },
   "outputs": [
    {
     "data": {
      "text/plain": [
       "[(5.0, 'Zeitgeist: Moving Forward (2011)'),\n",
       " (5.0, 'Wow! A Talking Fish! (1983)'),\n",
       " (5.0, 'Wonder Woman (2009)'),\n",
       " (5.0, 'Woman Under the Influence, A (1974)'),\n",
       " (5.0, 'Woman Is a Woman, A (femme est une femme, Une) (1961)'),\n",
       " (5.0, 'Winter in Prostokvashino (1984)'),\n",
       " (5.0, 'Winnie the Pooh and the Day of Concern (1972)'),\n",
       " (5.0, 'Winnie the Pooh Goes Visiting (1971)'),\n",
       " (5.0, 'Winnie Pooh (1969)'),\n",
       " (5.0, 'Wings, Legs and Tails (1986)'),\n",
       " (5.0, 'When Worlds Collide (1951)'),\n",
       " (5.0, 'What Men Talk About (2010)'),\n",
       " (5.0, 'Watermark (2014)'),\n",
       " (5.0, 'War for the Planet of the Apes (2017)'),\n",
       " (5.0, 'Vovka in the Kingdom of Far Far Away (1965)'),\n",
       " (5.0, 'Very Potter Sequel, A (2010)'),\n",
       " (5.0, 'Vampire in Venice (Nosferatu a Venezia) (Nosferatu in Venice) (1986)'),\n",
       " (5.0, 'Vagabond (Sans toit ni loi) (1985)'),\n",
       " (5.0, 'Vacations in Prostokvashino (1980)'),\n",
       " (5.0, 'Unfaithfully Yours (1948)'),\n",
       " (5.0, \"Tyler Perry's I Can Do Bad All by Myself (2009)\"),\n",
       " (5.0, 'Two Family House (2000)'),\n",
       " (5.0, 'True Stories (1986)'),\n",
       " (5.0, 'Troll 2 (1990)'),\n",
       " (5.0, 'Travels of an Ant (1983)'),\n",
       " (5.0, 'Trailer Park Boys (1999)'),\n",
       " (5.0, 'Tokyo Tribe (2014)'),\n",
       " (5.0, 'Three from Prostokvashino (1978)'),\n",
       " (5.0, 'Thousand Clowns, A (1965)'),\n",
       " (5.0, 'There Once Was a Dog (1982)')]"
      ]
     },
     "execution_count": 139,
     "metadata": {},
     "output_type": "execute_result"
    }
   ],
   "source": [
    "get_recommendations(prefs,'87')[0:30]"
   ]
  },
  {
   "cell_type": "code",
   "execution_count": 140,
   "metadata": {},
   "outputs": [
    {
     "name": "stdout",
     "output_type": "stream",
     "text": [
      "100 / 9719\n",
      "200 / 9719\n",
      "300 / 9719\n",
      "400 / 9719\n",
      "500 / 9719\n",
      "600 / 9719\n",
      "700 / 9719\n",
      "800 / 9719\n",
      "900 / 9719\n",
      "1000 / 9719\n",
      "1100 / 9719\n",
      "1200 / 9719\n",
      "1300 / 9719\n",
      "1400 / 9719\n",
      "1500 / 9719\n",
      "1600 / 9719\n",
      "1700 / 9719\n",
      "1800 / 9719\n",
      "1900 / 9719\n",
      "2000 / 9719\n",
      "2100 / 9719\n",
      "2200 / 9719\n",
      "2300 / 9719\n",
      "2400 / 9719\n",
      "2500 / 9719\n",
      "2600 / 9719\n",
      "2700 / 9719\n",
      "2800 / 9719\n",
      "2900 / 9719\n",
      "3000 / 9719\n",
      "3100 / 9719\n",
      "3200 / 9719\n",
      "3300 / 9719\n",
      "3400 / 9719\n",
      "3500 / 9719\n",
      "3600 / 9719\n",
      "3700 / 9719\n",
      "3800 / 9719\n",
      "3900 / 9719\n",
      "4000 / 9719\n",
      "4100 / 9719\n",
      "4200 / 9719\n",
      "4300 / 9719\n",
      "4400 / 9719\n",
      "4500 / 9719\n",
      "4600 / 9719\n",
      "4700 / 9719\n",
      "4800 / 9719\n",
      "4900 / 9719\n",
      "5000 / 9719\n",
      "5100 / 9719\n",
      "5200 / 9719\n",
      "5300 / 9719\n",
      "5400 / 9719\n",
      "5500 / 9719\n",
      "5600 / 9719\n",
      "5700 / 9719\n",
      "5800 / 9719\n",
      "5900 / 9719\n",
      "6000 / 9719\n",
      "6100 / 9719\n",
      "6200 / 9719\n",
      "6300 / 9719\n",
      "6400 / 9719\n",
      "6500 / 9719\n",
      "6600 / 9719\n",
      "6700 / 9719\n",
      "6800 / 9719\n",
      "6900 / 9719\n",
      "7000 / 9719\n",
      "7100 / 9719\n",
      "7200 / 9719\n",
      "7300 / 9719\n",
      "7400 / 9719\n",
      "7500 / 9719\n",
      "7600 / 9719\n",
      "7700 / 9719\n",
      "7800 / 9719\n",
      "7900 / 9719\n",
      "8000 / 9719\n",
      "8100 / 9719\n",
      "8200 / 9719\n",
      "8300 / 9719\n",
      "8400 / 9719\n",
      "8500 / 9719\n",
      "8600 / 9719\n",
      "8700 / 9719\n",
      "8800 / 9719\n",
      "8900 / 9719\n",
      "9000 / 9719\n",
      "9100 / 9719\n",
      "9200 / 9719\n",
      "9300 / 9719\n",
      "9400 / 9719\n",
      "9500 / 9719\n",
      "9600 / 9719\n",
      "9700 / 9719\n"
     ]
    }
   ],
   "source": [
    "itemsim=calculate_similar_items(prefs,n=50)"
   ]
  },
  {
   "cell_type": "code",
   "execution_count": 141,
   "metadata": {},
   "outputs": [
    {
     "data": {
      "text/plain": [
       "[(1.0, 'Zone 39 (1997)'),\n",
       " (1.0,\n",
       "  'Zero de conduite (Zero for Conduct) (Zéro de conduite: Jeunes diables au collège) (1933)'),\n",
       " (1.0, 'Zelary (2003)'),\n",
       " (1.0, \"Your Sister's Sister (2011)\"),\n",
       " (1.0, 'Young Einstein (1988)'),\n",
       " (1.0, 'Yentl (1983)'),\n",
       " (1.0, 'Yearling, The (1946)'),\n",
       " (1.0, 'World of Henry Orient, The (1964)'),\n",
       " (1.0, 'World Traveler (2001)'),\n",
       " (1.0, 'World According to Garp, The (1982)'),\n",
       " (1.0, 'Wordplay (2006)'),\n",
       " (1.0, 'Wonderland (1999)'),\n",
       " (1.0, 'Women, The (1939)'),\n",
       " (1.0, 'Woman of the Year (1942)'),\n",
       " (1.0, 'Woman in the Dunes (Suna no onna) (1964)'),\n",
       " (1.0, 'Woman in Black, The (2012)'),\n",
       " (1.0, \"Woman Next Door, The (Femme d'à côté, La) (1981)\"),\n",
       " (1.0,\n",
       "  'With a Friend Like Harry... (Harry, un ami qui vous veut du bien) (2000)'),\n",
       " (1.0, 'With Six You Get Eggroll (1968)'),\n",
       " (1.0, 'Winter Passing (2005)'),\n",
       " (1.0, 'Winds of the Wasteland (1936)'),\n",
       " (1.0, 'Wide Awake (1998)'),\n",
       " (1.0, 'Why Man Creates (1968)'),\n",
       " (1.0, 'White Oleander (2002)'),\n",
       " (1.0, 'White Chicks (2004)'),\n",
       " (1.0, 'White Balloon, The (Badkonake sefid) (1995)'),\n",
       " (1.0, 'Whip It (2009)'),\n",
       " (1.0, 'Where the Money Is (2000)'),\n",
       " (1.0, 'Where the Day Takes You (1992)'),\n",
       " (1.0, 'When the Levees Broke: A Requiem in Four Acts (2006)'),\n",
       " (1.0, \"When You're Strange (2009)\"),\n",
       " (1.0,\n",
       "  'What Have I Done to Deserve This? (¿Qué he hecho yo para merecer esto!!) (1984)'),\n",
       " (1.0, 'What Happened Was... (1994)'),\n",
       " (1.0, 'What Ever Happened to Baby Jane? (1962)'),\n",
       " (1.0, \"Welcome to the Sticks (Bienvenue chez les Ch'tis) (2008)\"),\n",
       " (1.0, 'Wedding Date, The (2005)'),\n",
       " (1.0, 'We Are Marshall (2006)'),\n",
       " (1.0, 'Way South, The (De weg naar het zuiden) (1981)'),\n",
       " (1.0, 'Waterdance, The (1992)'),\n",
       " (1.0, 'Watch on the Rhine (1943)'),\n",
       " (1.0, 'War Zone, The (1999)'),\n",
       " (1.0, 'War Machine (2017)'),\n",
       " (1.0, 'War Horse (2011)'),\n",
       " (1.0, 'Wanderlust (2012)'),\n",
       " (1.0, 'Walking with Monsters (2005)'),\n",
       " (1.0, \"Waiting for 'Superman' (2010)\"),\n",
       " (1.0, 'Virunga (2014)'),\n",
       " (1.0, 'Virgin Spring, The (Jungfrukällan) (1960)'),\n",
       " (1.0, 'V. I. Warshawski (1991)'),\n",
       " (1.0, 'Up at the Villa (2000)')]"
      ]
     },
     "execution_count": 141,
     "metadata": {},
     "output_type": "execute_result"
    }
   ],
   "source": [
    "itemsim[\"What's Eating Gilbert Grape (1993)\"]"
   ]
  },
  {
   "cell_type": "code",
   "execution_count": 142,
   "metadata": {},
   "outputs": [
    {
     "data": {
      "text/plain": [
       "[(5.0, 'Zone, The (La Zona) (2007)'),\n",
       " (5.0, 'Zombie (a.k.a. Zombie 2: The Dead Are Among Us) (Zombi 2) (1979)'),\n",
       " (5.0, 'Zebraman (2004)'),\n",
       " (5.0, 'Youth of the Beast (Yaju no seishun) (1963)'),\n",
       " (5.0, 'You Can Count on Me (2000)'),\n",
       " (5.0, 'Yes Men Fix the World, The (2009)'),\n",
       " (5.0, 'Wrong Turn 2: Dead End (2007)'),\n",
       " (5.0, 'Wrong Cops (2013)'),\n",
       " (5.0, 'Wrong (2012)'),\n",
       " (5.0, 'World of Tomorrow (2015)'),\n",
       " (5.0, 'Woman in Black, The (2012)'),\n",
       " (5.0, 'Woman Is a Woman, A (femme est une femme, Une) (1961)'),\n",
       " (5.0, 'Why Man Creates (1968)'),\n",
       " (5.0, 'White Ribbon, The (Das weiße Band) (2009)'),\n",
       " (5.0, 'White Frog (2012)'),\n",
       " (5.0, 'Whipped (2000)'),\n",
       " (5.0, 'When the Levees Broke: A Requiem in Four Acts (2006)'),\n",
       " (5.0, \"When You're Strange (2009)\"),\n",
       " (5.0, 'What Time Is It There? (Ni neibian jidian) (2001)'),\n",
       " (5.0, \"Welcome to the Sticks (Bienvenue chez les Ch'tis) (2008)\"),\n",
       " (5.0, 'Waydowntown (2000)'),\n",
       " (5.0, 'Way South, The (De weg naar het zuiden) (1981)'),\n",
       " (5.0, 'Watchmen: Tales of the Black Freighter (2009)'),\n",
       " (5.0, 'Walled In (2009)'),\n",
       " (5.0, 'Walking with Monsters (2005)'),\n",
       " (5.0, \"Waiting for 'Superman' (2010)\"),\n",
       " (5.0, 'Voices of a Distant Star (Hoshi no koe) (2003)'),\n",
       " (5.0, 'Virunga (2014)'),\n",
       " (5.0, 'Venus in Fur (La Vénus à la fourrure) (2013)'),\n",
       " (5.0, 'Velvet Goldmine (1998)'),\n",
       " (5.0, 'Unvanquished, The (Aparajito) (1957)'),\n",
       " (5.0, 'Until the End of the World (Bis ans Ende der Welt) (1991)'),\n",
       " (5.0, 'Universal Soldier: Day of Reckoning (2012)'),\n",
       " (5.0, 'Union: The Business Behind Getting High, The (2007)'),\n",
       " (5.0, 'Uninvited, The (2009)'),\n",
       " (5.0, 'Unfaithfully Yours (1948)'),\n",
       " (5.0, 'Undisputed III: Redemption (2010)'),\n",
       " (5.0, 'Undisputed II: Last Man Standing (2006)'),\n",
       " (5.0, 'Under the Sand (2000)'),\n",
       " (5.0, 'U.S. vs. John Lennon, The (2006)'),\n",
       " (5.0, 'Tyrannosaur (2011)'),\n",
       " (5.0, 'Two Women (Ciociara, La) (1960)'),\n",
       " (5.0, 'Two Family House (2000)'),\n",
       " (5.0, \"Twelve Tasks of Asterix, The (Les douze travaux d'Astérix) (1976)\"),\n",
       " (5.0, 'Turning Point, The (1977)'),\n",
       " (5.0, 'Turkish Delight (Turks fruit) (1973)'),\n",
       " (5.0, 'True Grit (1969)'),\n",
       " (5.0, 'Trou, Le (Hole, The) (Night Watch, The) (1960)'),\n",
       " (5.0, 'Trip, The (2010)'),\n",
       " (5.0, 'Trial, The (Procès, Le) (1962)'),\n",
       " (5.0, 'Town is Quiet, The (Ville est tranquille, La) (2000)'),\n",
       " (5.0, 'Town Called Panic, A (Panique au village) (2009)'),\n",
       " (5.0, 'Touki Bouki (1973)'),\n",
       " (5.0, 'Tooth Fairy (2010)'),\n",
       " (5.0, 'Tokyo Decadence (Topâzu) (1992)'),\n",
       " (5.0, 'Times of Harvey Milk, The (1984)'),\n",
       " (5.0, 'Tiger and the Snow, The (La tigre e la neve) (2005)'),\n",
       " (5.0, 'Tie Xi Qu: West of the Tracks (Tiexi qu) (2003)'),\n",
       " (5.0, 'Thousand Words, A (2012)'),\n",
       " (5.0, 'Thousand Clowns, A (1965)'),\n",
       " (4.833333333333333, 'Vanya on 42nd Street (1994)'),\n",
       " (4.75,\n",
       "  'Zatoichi and the Chest of Gold (Zatôichi senryô-kubi) (Zatôichi 6) (1964)'),\n",
       " (4.75, 'Zabriskie Point (1970)'),\n",
       " (4.75, 'Wolf and Calf (1984)'),\n",
       " (4.75, 'White Sun of the Desert, The (Beloe solntse pustyni) (1970)'),\n",
       " (4.75, \"What's Up, Doc? (1972)\"),\n",
       " (4.75, 'What Men Still Talk About (2011)'),\n",
       " (4.75, 'Watch Out for the Automobile (Beregis avtomobilya) (1966)'),\n",
       " (4.75, 'Very Potter Musical, A (2009)'),\n",
       " (4.75, 'Vera Drake (2004)'),\n",
       " (4.666666666666667, 'Zeitgeist: The Movie (2007)'),\n",
       " (4.6, 'Zeitgeist: Addendum (2008)'),\n",
       " (4.6,\n",
       "  'When a Woman Ascends the Stairs (Onna ga kaidan wo agaru toki) (1960)'),\n",
       " (4.5,\n",
       "  'Zero de conduite (Zero for Conduct) (Zéro de conduite: Jeunes diables au collège) (1933)'),\n",
       " (4.5, 'Young Doctors in Love (1982)'),\n",
       " (4.5, 'You Only Live Once (1937)'),\n",
       " (4.5, 'Yesterday, Today and Tomorrow (Ieri, oggi, domani) (1963)'),\n",
       " (4.5, 'Wrong Arm of the Law, The (1963)'),\n",
       " (4.5, 'Woyzeck (1979)'),\n",
       " (4.5, 'World of Apu, The (Apur Sansar) (1959)'),\n",
       " (4.5, \"Woman Next Door, The (Femme d'à côté, La) (1981)\"),\n",
       " (4.5, 'Wolf of Wall Street, The (2013)'),\n",
       " (4.5, 'With Six You Get Eggroll (1968)'),\n",
       " (4.5, 'Wit (2001)'),\n",
       " (4.5, 'Winter Light (Nattvardsgästerna) (1963)'),\n",
       " (4.5, 'Winnie the Pooh (2011)'),\n",
       " (4.5, 'Wings of the Dove, The (1997)'),\n",
       " (4.5, 'Wind Will Carry Us, The (Bad ma ra khahad bord) (1999)'),\n",
       " (4.5, \"Winchester '73 (1950)\"),\n",
       " (4.5, 'Wild Things (1998)'),\n",
       " (4.5, 'Wild Tales (2014)'),\n",
       " (4.5, 'Wilbur Wants to Kill Himself (2002)'),\n",
       " (4.5, 'Widow of St. Pierre, The (Veuve de Saint-Pierre, La) (2000)'),\n",
       " (4.5, 'Whole Wide World, The (1996)'),\n",
       " (4.5, 'Whole Nine Yards, The (2000)'),\n",
       " (4.5, 'When Worlds Collide (1951)'),\n",
       " (4.5,\n",
       "  'What Have I Done to Deserve This? (¿Qué he hecho yo para merecer esto!!) (1984)'),\n",
       " (4.5, 'Welcome to Mooseport (2004)'),\n",
       " (4.5, \"We're the Millers (2013)\"),\n",
       " (4.5, 'War and Peace (1956)')]"
      ]
     },
     "execution_count": 142,
     "metadata": {},
     "output_type": "execute_result"
    }
   ],
   "source": [
    "get_recommended_items(prefs,itemsim,'87')[0:100]"
   ]
  }
 ],
 "metadata": {
  "kernelspec": {
   "display_name": "Python 3",
   "language": "python",
   "name": "python3"
  },
  "language_info": {
   "codemirror_mode": {
    "name": "ipython",
    "version": 3
   },
   "file_extension": ".py",
   "mimetype": "text/x-python",
   "name": "python",
   "nbconvert_exporter": "python",
   "pygments_lexer": "ipython3",
   "version": "3.6.8"
  },
  "name": "lesson11_recsys.ipynb"
 },
 "nbformat": 4,
 "nbformat_minor": 1
}
