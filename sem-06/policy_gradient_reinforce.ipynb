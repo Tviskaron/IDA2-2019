{
 "cells": [
  {
   "cell_type": "markdown",
   "metadata": {},
   "source": [
    "# Policy gradient"
   ]
  },
  {
   "cell_type": "markdown",
   "metadata": {},
   "source": [
    "## Алгоритм Reinforce\n",
    "В некоторых задачах для нахождения удовлетворяющей стратегии необязательно изучать структуру всей среды. Например, в задаче поднятия кубика робототехнической рукой вместо точной аппроксимации $Q(s,a)$ достаточно знать, что выгоднее двигаться вправо, если кубик справа, и влево в ином случае. Алгоритм Reinforce (Monte Carlo policy gradient) - это алгоритм поиска стратегий, в котором параметры, задающие стохастическую стратегию, изменяются в соответствии с градиентом математического ожидания награды: \n",
    "\n",
    "$$J(\\theta)=\\mathbb E_{\\tau\\sim p_{\\theta}(\\tau)}(\\sum_t\\gamma^tr(s_t,a_t))$$\n",
    "\n",
    "$$\\theta\\leftarrow\\theta+\\alpha\\nabla_{\\theta}J(\\theta)$$"
   ]
  },
  {
   "cell_type": "code",
   "execution_count": null,
   "metadata": {},
   "outputs": [],
   "source": [
    "import numpy as np\n",
    "import tensorflow as tf"
   ]
  },
  {
   "cell_type": "code",
   "execution_count": null,
   "metadata": {},
   "outputs": [],
   "source": [
    "import gym\n",
    "\n",
    "# Будем обучать агента, используя сначала простое окружение CartPole-v0,\n",
    "# а затем усложним задачу взяв Acrobot-v1\n",
    "\n",
    "# Создаем окружение \n",
    "# Здесь ваш код\n",
    "env = \n",
    "\n",
    "observation_shape = env.observation_space.shape\n",
    "n_actions = env.action_space.n\n",
    "gamma = 0.95\n",
    "\n",
    "print(\"Observation Space\", env.observation_space)\n",
    "print(\"Action Space\", env.action_space)"
   ]
  },
  {
   "cell_type": "markdown",
   "metadata": {},
   "source": [
    "### Задание 1. Определяем архитектуру сети\n",
    "Стратегия задается весами нейронной сети и является стохастической, т.е. в состоянии $s$ она представляет себой некоторое распределение $\\pi_\\theta(s)$, поэтому на вход сети будет подаваться состояние $s$, а на выходе будут вероятности действий.\n",
    "\n",
    "#### Задаем входы сети"
   ]
  },
  {
   "cell_type": "code",
   "execution_count": null,
   "metadata": {},
   "outputs": [],
   "source": [
    "# Задаем переменные, которые будут подаваться на вход нейронной сети\n",
    "\n",
    "# Состояния\n",
    "# Здесь ваш код\n",
    "observations =\n",
    "\n",
    "# Совершенные действия\n",
    "# Здесь ваш код\n",
    "actions =\n",
    "\n",
    "# Вознаграждение\n",
    "# Здесь ваш код\n",
    "discounted_episode_rewards =\n",
    "\n",
    "all_inputs = [observations, actions, discounted_episode_rewards]"
   ]
  },
  {
   "cell_type": "markdown",
   "metadata": {},
   "source": [
    "#### Определяем граф вычислений"
   ]
  },
  {
   "cell_type": "code",
   "execution_count": null,
   "metadata": {},
   "outputs": [],
   "source": [
    "sess = tf.InteractiveSession()\n",
    "\n",
    "# Задаем внутренние и выходной слои нейронной сети\n",
    "# Здесь ваш код\n",
    "nn1 = \n",
    "nn2 = \n",
    "nn3 =  \n",
    "\n",
    "probs_out = tf.nn.softmax(nn3) \n",
    "# Выход последнего слоя преобразуется в стохастическую стратегию, \n",
    "# поэтому количество нейронов должно быть равно n_actions"
   ]
  },
  {
   "cell_type": "code",
   "execution_count": null,
   "metadata": {},
   "outputs": [],
   "source": [
    "def discount_and_normalize_rewards(episode_rewards):\n",
    "    discounted_episode_rewards = np.zeros_like(episode_rewards)\n",
    "    cumulative = 0.0\n",
    "    \n",
    "    # Считаем дисконтированное вознаграждение \"G = r + gamma*r' + gamma^2*r'' + ...\"\n",
    "    for i in reversed(range(len(episode_rewards))):\n",
    "        cumulative = cumulative * gamma + episode_rewards[i]\n",
    "        discounted_episode_rewards[i] = cumulative\n",
    "    \n",
    "    # Нормализуем данные\n",
    "    mean = np.mean(discounted_episode_rewards)\n",
    "    std = np.std(discounted_episode_rewards)\n",
    "    discounted_episode_rewards = (discounted_episode_rewards - mean) / (std)\n",
    "    \n",
    "    return discounted_episode_rewards"
   ]
  },
  {
   "cell_type": "markdown",
   "metadata": {},
   "source": [
    "### Задание 2. Функция потерь\n",
    "\n",
    "Теперь определим функцию потерь (Crossentropy loss)\n",
    "\n",
    "Градиент стратегии выглядит следующим образом $\\nabla_{\\theta}J_{\\theta}\\approx\\frac{1}{N}\\sum_{i=1}^N\\sum_{t=1}^T\\nabla_{\\theta}log\\pi_{\\theta}(a_{i,t}|s_{i,t})R $. Чтобы автоматически вычислить градиент, необходимо задать граф, который имеет градиент такого же вида. Для этого используется \"псевдо\" функция потерь: $$\\tilde{J}_{\\theta}=\\frac{1}{N}\\sum_{i=1}^N\\sum_{t=1}^Tlog\\pi_{\\theta}(a_{i,t}|s_{i,t})R $$.\n",
    "\n",
    "Подробнее http://rail.eecs.berkeley.edu/deeprlcourse-fa17/index.html#lecture-videos (6 sep)"
   ]
  },
  {
   "cell_type": "code",
   "execution_count": null,
   "metadata": {},
   "outputs": [],
   "source": [
    "# Применяем кросс энтропию к последнему слою сети tf.nn.softmax_cross_entropy_with_logits_v2\n",
    "# Здесь ваш код\n",
    "neg_log_prob = \n",
    "\n",
    "# Умножаем на дисконтированное вознаграждение и берем среднее, чтобы получить искомую функцию потерь\n",
    "# Здесь ваш код\n",
    "loss =     \n",
    "\n",
    "# Задаем метод оптимизации, который будем использовать (например adam с lr 0.01)\n",
    "# Здесь ваш код\n",
    "optimizer = \n",
    "sess.run(tf.global_variables_initializer())"
   ]
  },
  {
   "cell_type": "markdown",
   "metadata": {},
   "source": [
    "Градиент имеет большую дисперсию. Для ее уменьшения можно использовать следующую функцию потерь: $$\\tilde{J}_{\\theta}=\\frac{1}{N}\\sum_{i=1}^N\\sum_{t=1}^Tlog\\pi_{\\theta}(a_{i,t}|s_{i,t})(R-b) $$.\n",
    "\n",
    "$b$ - может быть константой (это не сильно улучшит работу алгоритма), а может быть функцией от $s$, например $V(s)$. $V(s)$ может быть аппроксимированна другой нейронной сетью. Настройка может проходить по методу наименьших квадратов: необходимо задать функцию ошибок и можно добавить ее к loss'у с некоторым коэффициентом или минимизировать отдельно. Пример: https://github.com/yrlu/reinforcement_learning/blob/master/policy_gradient/reinforce_w_baseline.py"
   ]
  },
  {
   "cell_type": "code",
   "execution_count": null,
   "metadata": {},
   "outputs": [],
   "source": [
    "allRewards = []\n",
    "total_rewards = 0\n",
    "maximumRewardRecorded = 0\n",
    "episode = 0\n",
    "episode_states, episode_actions, episode_rewards = [],[],[]\n",
    "max_episodes = 1000\n",
    "\n",
    "with tf.Session() as sess:\n",
    "    sess.run(tf.global_variables_initializer())\n",
    "    \n",
    "    for episode in range(max_episodes):\n",
    "        \n",
    "        episode_rewards_sum = 0\n",
    "        state = env.reset()\n",
    "        # Можно посмотреть как выглядит окружение, если мы не используема google colab\n",
    "#         env.render()\n",
    "           \n",
    "        while True:\n",
    "            \n",
    "            # Получаем распределение вероятностей действий в соответствии со стохастической стратегией агента\n",
    "            # Здесь ваш код\n",
    "            probs = \n",
    "            \n",
    "            # Выбираем действие (согласно распределению)\n",
    "            # Здесь ваш код\n",
    "            action =  \n",
    "            \n",
    "            # Применяем действие в среде \n",
    "            # Здесь ваш код\n",
    "            new_state, reward, done, info = \n",
    "\n",
    "            episode_states.append(state)\n",
    "            action_ = np.zeros(n_actions)\n",
    "            action_[action] = 1\n",
    "            \n",
    "            episode_actions.append(action_)\n",
    "            \n",
    "            episode_rewards.append(reward)\n",
    "            if done:\n",
    "                episode_rewards_sum = np.sum(episode_rewards)\n",
    "                \n",
    "                allRewards.append(episode_rewards_sum)\n",
    "                \n",
    "                total_rewards = np.sum(allRewards)\n",
    "                \n",
    "                \n",
    "                mean_reward = np.divide(total_rewards, episode+1)\n",
    "                \n",
    "                \n",
    "                maximumRewardRecorded = np.amax(allRewards)\n",
    "                if episode % 50 == 0:\n",
    "                    print(\"==========================================\")\n",
    "                    print(\"Episode: \", episode)\n",
    "                    print(\"Reward: \", episode_rewards_sum)\n",
    "                    print(\"Mean Reward\", mean_reward)\n",
    "                    print(\"Max reward so far: \", maximumRewardRecorded)\n",
    "                \n",
    "                # Считаем дисконтированное вознаграждение\n",
    "                # Здесь ваш код\n",
    "                discounted_rewards = \n",
    "                                \n",
    "                # Считаем значение функции потерь и настраиваем веса сети при помощи оптимизатора\n",
    "                # Здесь ваш код\n",
    "                loss_, _ = \n",
    "                episode_states, episode_actions, episode_rewards = [],[],[]\n",
    "                \n",
    "                break\n",
    "            \n",
    "            state = new_state"
   ]
  },
  {
   "cell_type": "markdown",
   "metadata": {},
   "source": [
    "### Задание 3. Проводим эксперименты.\n",
    "\n",
    "Постройте график получаемого суммарного вознаграждения от номера эпизода.\n",
    "\n",
    "Сделайте тоже самое для задачи CartPole-v0. \n",
    "\n",
    "Усложните архитектуру сети. Улучшает ли это производительность?"
   ]
  },
  {
   "cell_type": "markdown",
   "metadata": {},
   "source": [
    "### Дополнительные материалы\n",
    "\n",
    "Пример алгоритма DDPG (https://arxiv.org/pdf/1509.02971.pdf) - алгоритм использующий градиент стратегий и позволяющий работать с непрерывным множеством действий:\n",
    "\n",
    "https://pemami4911.github.io/blog/2016/08/21/ddpg-rl.html"
   ]
  }
 ],
 "metadata": {
  "kernelspec": {
   "display_name": "Python 3",
   "language": "python",
   "name": "python3"
  },
  "language_info": {
   "codemirror_mode": {
    "name": "ipython",
    "version": 3
   },
   "file_extension": ".py",
   "mimetype": "text/x-python",
   "name": "python",
   "nbconvert_exporter": "python",
   "pygments_lexer": "ipython3",
   "version": "3.6.7"
  }
 },
 "nbformat": 4,
 "nbformat_minor": 2
}
