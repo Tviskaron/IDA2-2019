{
 "cells": [
  {
   "cell_type": "markdown",
   "metadata": {},
   "source": [
    "# Policy gradient"
   ]
  },
  {
   "cell_type": "code",
   "execution_count": 2,
   "metadata": {},
   "outputs": [],
   "source": [
    "import numpy as np\n",
    "import tensorflow as tf"
   ]
  },
  {
   "cell_type": "code",
   "execution_count": 2,
   "metadata": {},
   "outputs": [
    {
     "name": "stdout",
     "output_type": "stream",
     "text": [
      "\u001b[33mWARN: gym.spaces.Box autodetected dtype as <class 'numpy.float32'>. Please provide explicit dtype.\u001b[0m\n",
      "Observation Space Box(6,)\n",
      "Action Space Discrete(3)\n"
     ]
    }
   ],
   "source": [
    "import gym\n",
    "\n",
    "# Будем обучать агента, используя сначала простое окружение CartPole-v0,\n",
    "# а затем усложним задачу взяв Acrobot-v1\n",
    "\n",
    "# Создаем окружение \n",
    "# Здесь ваш код\n",
    "env = \n",
    "\n",
    "observation_shape = env.observation_space.shape\n",
    "n_actions = env.action_space.n\n",
    "gamma = 0.95\n",
    "\n",
    "print(\"Observation Space\", env.observation_space)\n",
    "print(\"Action Space\", env.action_space)"
   ]
  },
  {
   "cell_type": "markdown",
   "metadata": {},
   "source": [
    "# Reinforce algorithm"
   ]
  },
  {
   "cell_type": "code",
   "execution_count": 3,
   "metadata": {},
   "outputs": [],
   "source": [
    "# Задаем переменные, которые будут подаваться на вход нейронной сети\n",
    "\n",
    "# Состояния\n",
    "# Здесь ваш код\n",
    "observations =\n",
    "\n",
    "# Совершенные действия\n",
    "# Здесь ваш код\n",
    "actions =\n",
    "\n",
    "# Вознаграждение\n",
    "# Здесь ваш код\n",
    "discounted_episode_rewards =\n",
    "\n",
    "all_inputs = [observations, actions, discounted_episode_rewards]"
   ]
  },
  {
   "cell_type": "markdown",
   "metadata": {},
   "source": [
    "## Define network"
   ]
  },
  {
   "cell_type": "code",
   "execution_count": 4,
   "metadata": {},
   "outputs": [],
   "source": [
    "sess = tf.InteractiveSession()\n",
    "\n",
    "# Задаем внутренние и выходной слои нейронной сети\n",
    "# Здесь ваш код\n",
    "nn1 = \n",
    "nn2 = \n",
    "nn3 =  \n",
    "\n",
    "probs_out = tf.nn.softmax(nn3) \n",
    "# Выход последнего слоя преобразуется в стохастическую стратегию, \n",
    "# поэтому количество нейронов должно быть равно n_actions"
   ]
  },
  {
   "cell_type": "code",
   "execution_count": 5,
   "metadata": {},
   "outputs": [],
   "source": [
    "def discount_and_normalize_rewards(episode_rewards):\n",
    "    discounted_episode_rewards = np.zeros_like(episode_rewards)\n",
    "    cumulative = 0.0\n",
    "    \n",
    "    # Считаем дисконтированное вознаграждение \"G = r + gamma*r' + gamma^2*r'' + ...\"\n",
    "    for i in reversed(range(len(episode_rewards))):\n",
    "        cumulative = cumulative * gamma + episode_rewards[i]\n",
    "        discounted_episode_rewards[i] = cumulative\n",
    "    \n",
    "    # Нормализуем данные\n",
    "    mean = np.mean(discounted_episode_rewards)\n",
    "    std = np.std(discounted_episode_rewards)\n",
    "    discounted_episode_rewards = (discounted_episode_rewards - mean) / (std)\n",
    "    \n",
    "    return discounted_episode_rewards"
   ]
  },
  {
   "cell_type": "markdown",
   "metadata": {},
   "source": [
    "Определите функцию потерь (Crossentropy loss)"
   ]
  },
  {
   "cell_type": "markdown",
   "metadata": {},
   "source": [
    "Градиент стратегии выглядит следующим образом $\\nabla_{\\theta}J_{\\theta}\\approx\\frac{1}{N}\\sum_{i=1}^N\\sum_{t=1}^T\\nabla_{\\theta}log\\pi_{\\theta}(a_{i,t}|s_{i,t})G $. Чтобы автоматически вычислить градиент, необходимо задать граф, который имеет градиент такого же вида. Для этого используется \"псевдо\" функция потерь: $\\tilde{J}_{\\theta}=\\frac{1}{N}\\sum_{i=1}^N\\sum_{t=1}^Tlog\\pi_{\\theta}(a_{i,t}|s_{i,t})G $.\n",
    "Подробнее в четвертой лекции http://rail.eecs.berkeley.edu/deeprlcourse-fa17/index.html#lecture-videos (6 сентября)"
   ]
  },
  {
   "cell_type": "code",
   "execution_count": 7,
   "metadata": {},
   "outputs": [
    {
     "name": "stdout",
     "output_type": "stream",
     "text": [
      "WARNING:tensorflow:From <ipython-input-7-bf3ec51a0102>:6: get_global_step (from tensorflow.contrib.framework.python.ops.variables) is deprecated and will be removed in a future version.\n",
      "Instructions for updating:\n",
      "Please switch to tf.train.get_global_step\n"
     ]
    }
   ],
   "source": [
    "# Применяем кросс энтропию к последнему слою сети tf.nn.softmax_cross_entropy_with_logits_v2\n",
    "# Здесь ваш код\n",
    "neg_log_prob = \n",
    "\n",
    "# Умножаем на дисконтированное вознаграждение и берем среднее, чтобы получить искомую функцию потерь\n",
    "# Здесь ваш код\n",
    "loss =     \n",
    "\n",
    "# Задаем метод оптимизации, который будем использовать (например adam с lr 0.01)\n",
    "# Здесь ваш код\n",
    "optimizer = \n",
    "sess.run(tf.global_variables_initializer())"
   ]
  },
  {
   "cell_type": "code",
   "execution_count": 1,
   "metadata": {},
   "outputs": [
    {
     "ename": "SyntaxError",
     "evalue": "invalid syntax (<ipython-input-1-87e54dcb44a8>, line 22)",
     "output_type": "error",
     "traceback": [
      "\u001b[0;36m  File \u001b[0;32m\"<ipython-input-1-87e54dcb44a8>\"\u001b[0;36m, line \u001b[0;32m22\u001b[0m\n\u001b[0;31m    probs =\u001b[0m\n\u001b[0m            ^\u001b[0m\n\u001b[0;31mSyntaxError\u001b[0m\u001b[0;31m:\u001b[0m invalid syntax\n"
     ]
    }
   ],
   "source": [
    "allRewards = []\n",
    "total_rewards = 0\n",
    "maximumRewardRecorded = 0\n",
    "episode = 0\n",
    "episode_states, episode_actions, episode_rewards = [],[],[]\n",
    "max_episodes = 1000\n",
    "\n",
    "with tf.Session() as sess:\n",
    "    sess.run(tf.global_variables_initializer())\n",
    "    \n",
    "    for episode in range(max_episodes):\n",
    "        \n",
    "        episode_rewards_sum = 0\n",
    "        state = env.reset()\n",
    "        # Можно посмотреть как выглядит окружение, если мы не используема google colab\n",
    "#         env.render()\n",
    "           \n",
    "        while True:\n",
    "            \n",
    "            # Получаем распределение вероятностей действий в соответствии со стохастической стратегией агента\n",
    "            # Здесь ваш код\n",
    "            probs = \n",
    "            \n",
    "            # Выбираем действие (согласно распределению)\n",
    "            # Здесь ваш код\n",
    "            action =  \n",
    "            \n",
    "            # Применяем действие в среде \n",
    "            # Здесь ваш код\n",
    "            new_state, reward, done, info = \n",
    "\n",
    "            episode_states.append(state)\n",
    "            action_ = np.zeros(n_actions)\n",
    "            action_[action] = 1\n",
    "            \n",
    "            episode_actions.append(action_)\n",
    "            \n",
    "            episode_rewards.append(reward)\n",
    "            if done:\n",
    "                episode_rewards_sum = np.sum(episode_rewards)\n",
    "                \n",
    "                allRewards.append(episode_rewards_sum)\n",
    "                \n",
    "                total_rewards = np.sum(allRewards)\n",
    "                \n",
    "                \n",
    "                mean_reward = np.divide(total_rewards, episode+1)\n",
    "                \n",
    "                \n",
    "                maximumRewardRecorded = np.amax(allRewards)\n",
    "                if episode % 50 == 0:\n",
    "                    print(\"==========================================\")\n",
    "                    print(\"Episode: \", episode)\n",
    "                    print(\"Reward: \", episode_rewards_sum)\n",
    "                    print(\"Mean Reward\", mean_reward)\n",
    "                    print(\"Max reward so far: \", maximumRewardRecorded)\n",
    "                \n",
    "                # Считаем дисконтированное вознаграждение\n",
    "                # Здесь ваш код\n",
    "                discounted_rewards = \n",
    "                                \n",
    "                # Считаем значение функции потерь и настраиваем веса сети при помощи оптимизатора\n",
    "                # Здесь ваш код\n",
    "                loss_, _ = \n",
    "                episode_states, episode_actions, episode_rewards = [],[],[]\n",
    "                \n",
    "                break\n",
    "            \n",
    "            state = new_state"
   ]
  }
 ],
 "metadata": {
  "kernelspec": {
   "display_name": "Python 3",
   "language": "python",
   "name": "python3"
  },
  "language_info": {
   "codemirror_mode": {
    "name": "ipython",
    "version": 3
   },
   "file_extension": ".py",
   "mimetype": "text/x-python",
   "name": "python",
   "nbconvert_exporter": "python",
   "pygments_lexer": "ipython3",
   "version": "3.6.7"
  }
 },
 "nbformat": 4,
 "nbformat_minor": 2
}
