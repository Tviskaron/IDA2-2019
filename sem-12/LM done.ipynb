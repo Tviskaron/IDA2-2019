{
 "cells": [
  {
   "cell_type": "markdown",
   "metadata": {
    "collapsed": true,
    "slideshow": {
     "slide_type": "-"
    }
   },
   "source": [
    "# Языковые модели\n",
    "\n",
    "Какое слово в последовательности вероятнее: \n",
    "\n",
    "Поезд прибыл на\n",
    "* вокзал\n",
    "* север\n",
    "\n",
    "Какая последовательность вероятнее:\n",
    "* Вокзал прибыл поезд на\n",
    "* Поезд прибыл на вокзал\n",
    "\n",
    "Языковая модель [language model, LM]  позволяет оценить вероятность следующего слова в последовательности  $P(w_n | w_1, \\ldots, w_{n-1})$ и оценить вероятность всей последовательности слов $P(w_1, \\ldots, w_n)$."
   ]
  },
  {
   "cell_type": "markdown",
   "metadata": {
    "slideshow": {
     "slide_type": "subslide"
    }
   },
   "source": [
    "### Приложения:\n",
    "* Задачи, в которых нужно обработать сложный и зашумленный вход: распознавание речи, распознавание сканированных и рукописных текстов;\n",
    "* Исправление опечаток\n",
    "* Машинный перевод\n",
    "* Подсказка при наборе "
   ]
  },
  {
   "cell_type": "markdown",
   "metadata": {
    "slideshow": {
     "slide_type": "subslide"
    }
   },
   "source": [
    "### Виды моделей:\n",
    "* Счетные модели\n",
    "    * цепи Маркова\n",
    "* Нейронные модели, обычно реккурентные нейронные сети с LSTM/GRU\n",
    "* seq2seq архитектуры"
   ]
  },
  {
   "cell_type": "markdown",
   "metadata": {
    "slideshow": {
     "slide_type": "slide"
    }
   },
   "source": [
    "## Модель $n$-грам\n",
    "\n",
    "Пусть $w_{1:n}=w_1,\\ldots,w_m$ – последовательность слов.\n",
    "\n",
    "Цепное правило:\n",
    "$ P(w_{1:m}) = P(w_1) P(w_2 | w_1) P(w_3 | w_{1:2}) \\ldots P(w_m | w_{1:m-1}) = \\prod_{k=1}^{m} P(w_k | w_{1:k-1}) $\n",
    "\n",
    "Но оценить $P(w_k | w_{1:k-1})$ не легче! "
   ]
  },
  {
   "cell_type": "markdown",
   "metadata": {
    "slideshow": {
     "slide_type": "subslide"
    }
   },
   "source": [
    "Переходим к $n$-грамам: $P(w_{i+1} | w_{1:i}) \\approx P(w_{i+1} | w_{i-n:i})  $ , то есть, учитываем $n-1$ предыдущее слово. \n",
    "\n",
    "Модель\n",
    "* униграм: $P(w_k)$\n",
    "* биграм: $P(w_k | w_{k-1})$\n",
    "* триграм: $P(w_k | w_{k-1} w_{k-2})$\n",
    "\n",
    "\n",
    "Т.е. используем Марковские допущения о длине запоминаемой цепочки."
   ]
  },
  {
   "cell_type": "markdown",
   "metadata": {
    "slideshow": {
     "slide_type": "fragment"
    }
   },
   "source": [
    "* Вероятность следующего слова в последовательности: $ P(w_{i+1} | w_{1:i}) \\approx P(w_{i-n:i}) $\n",
    "* Вероятность всей последовательности слов: $P(w_{1:n}) = \\prod_{k=1}^l P(w_k | w_{k-n+1: k-1}) $"
   ]
  },
  {
   "cell_type": "markdown",
   "metadata": {
    "slideshow": {
     "slide_type": "subslide"
    }
   },
   "source": [
    "### Качество модели  $n$-грам\n",
    "\n",
    "Перплексия: насколько хорошо модель предсказывает выборку. Чем ниже значение перплексии, тем лучше.\n",
    "\n",
    "$PP(\\texttt{LM}) = 2 ^ {-\\frac{1}{m} \\log_2 \\texttt{LM} (w_i | w_{1:i-1})}$"
   ]
  },
  {
   "cell_type": "markdown",
   "metadata": {
    "slideshow": {
     "slide_type": "slide"
    }
   },
   "source": [
    "## Счетные языковые модели\n",
    "\n",
    "### ММП оценки вероятностей\n",
    "$ P_{MLE}(w_k | w_{k-n+1:k-1}) = \\frac{\\texttt{count}(w_{k-n+1:k-1} w_k )}{\\texttt{count}(w_{k-n+1:k-1} )} $\n",
    "\n",
    "В модели биграм:\n",
    "\n",
    "$ P_{MLE}(w_k | w_{k-1}) = \\frac{\\texttt{count}(w_{k-1} w_k )}{\\texttt{count}(w_{k-1} )} $\n",
    "\n",
    "Возникает проблема нулевых вероятностей!"
   ]
  },
  {
   "cell_type": "markdown",
   "metadata": {
    "slideshow": {
     "slide_type": "subslide"
    }
   },
   "source": [
    "### Аддитивное сглаживание Лапласа\n",
    "\n",
    "$ P(w_k | w_{k-1}) = \\frac{\\texttt{count}(w_{k-1} w_k ) + \\alpha}{\\texttt{count}(w_{k-1} ) + \\alpha |V|} $"
   ]
  },
  {
   "cell_type": "markdown",
   "metadata": {
    "slideshow": {
     "slide_type": "subslide"
    }
   },
   "source": [
    "![AiB](https://raw.githubusercontent.com/artemovae/nlp-course-sberbank/e70ab4acb696c00e170ea91d1bb28fd9ba31c170/img/aib.png)  "
   ]
  },
  {
   "cell_type": "markdown",
   "metadata": {
    "slideshow": {
     "slide_type": "subslide"
    }
   },
   "source": [
    "BOS А и Б сидели на трубе EOS\n",
    "\n",
    "BOS А упало Б пропало EOS\n",
    "\n",
    "BOS что осталось на трубе EOS\n",
    "\n",
    "\n",
    "\n",
    "\n",
    "$P($ и $| $ A $) = \\frac{1}{2}$\n",
    "\n",
    "$P($ Б $| $ и $) = \\frac{1}{1}$\n",
    "\n",
    "$P($ трубе $| $ на $) = \\frac{2}{2}$\n",
    "\n",
    "$P($ сидели $| $ Б $) = \\frac{1}{2}$\n",
    "\n",
    "$P($ на $| $ сидели $) = \\frac{1}{2}$\n"
   ]
  },
  {
   "cell_type": "markdown",
   "metadata": {
    "collapsed": true,
    "slideshow": {
     "slide_type": "slide"
    }
   },
   "source": [
    "## Модели биграм в NLTK"
   ]
  },
  {
   "cell_type": "code",
   "execution_count": 1,
   "metadata": {
    "slideshow": {
     "slide_type": "skip"
    }
   },
   "outputs": [
    {
     "name": "stderr",
     "output_type": "stream",
     "text": [
      "Using TensorFlow backend.\n"
     ]
    }
   ],
   "source": [
    "import nltk\n",
    "\n",
    "from sklearn.utils import shuffle\n",
    "\n",
    "from keras.preprocessing.text import Tokenizer\n",
    "from keras.preprocessing.sequence import pad_sequences\n",
    "from keras.layers import LSTM, TimeDistributed, Bidirectional\n",
    "from keras.models import Sequential\n",
    "from keras.layers import Dense, Activation, Embedding, Flatten, Dropout"
   ]
  },
  {
   "cell_type": "code",
   "execution_count": 2,
   "metadata": {
    "slideshow": {
     "slide_type": "subslide"
    }
   },
   "outputs": [
    {
     "name": "stdout",
     "output_type": "stream",
     "text": [
      "['aachenosaurus', 'aardonyx', 'abdallahsaurus', 'abelisaurus', 'abrictosaurus', 'abrosaurus', 'abydosaurus', 'acanthopholis', 'achelousaurus', 'acheroraptor']\n"
     ]
    }
   ],
   "source": [
    "names = [name.strip().lower() for name in open('dinos.txt').readlines()]\n",
    "print(names[:10])"
   ]
  },
  {
   "cell_type": "code",
   "execution_count": 3,
   "metadata": {
    "slideshow": {
     "slide_type": "subslide"
    }
   },
   "outputs": [
    {
     "name": "stdout",
     "output_type": "stream",
     "text": [
      "['a', 'c', 'h', 'e', 'n', 'o', 's', 'u', 'r', 'd', 'y', 'x', 'b', 'l', 'i', 't', 'p', 'v', 'm', 'g', 'f', 'j', 'k', 'w', 'z', 'q']\n"
     ]
    }
   ],
   "source": [
    "chars = [char  for name in names for char in name]\n",
    "freq = nltk.FreqDist(chars)\n",
    "\n",
    "print(list(freq.keys()))"
   ]
  },
  {
   "cell_type": "code",
   "execution_count": 4,
   "metadata": {
    "slideshow": {
     "slide_type": "subslide"
    }
   },
   "outputs": [
    {
     "data": {
      "text/plain": [
       "FreqDist({'u': 792, 'n': 354, 't': 213, 's': 187, 'l': 146, 'r': 131, 'c': 109, 'p': 96, 'm': 74, 'e': 48, ...})"
      ]
     },
     "execution_count": 4,
     "metadata": {},
     "output_type": "execute_result"
    }
   ],
   "source": [
    "cfreq = nltk.ConditionalFreqDist(nltk.bigrams(chars))\n",
    "cfreq['a']"
   ]
  },
  {
   "cell_type": "code",
   "execution_count": 5,
   "metadata": {
    "slideshow": {
     "slide_type": "subslide"
    }
   },
   "outputs": [
    {
     "name": "stdout",
     "output_type": "stream",
     "text": [
      "p(a a) = 0.0105\n",
      "p(a b) = 0.0129\n",
      "p(a u) = 0.3185\n"
     ]
    }
   ],
   "source": [
    "cprob = nltk.ConditionalProbDist(cfreq, nltk.MLEProbDist)\n",
    "print('p(a a) = %1.4f' %cprob['a'].prob('a'))\n",
    "print('p(a b) = %1.4f' %cprob['a'].prob('b'))\n",
    "print('p(a u) = %1.4f' %cprob['a'].prob('u'))"
   ]
  },
  {
   "cell_type": "code",
   "execution_count": 6,
   "metadata": {},
   "outputs": [
    {
     "data": {
      "text/plain": [
       "-12.041317008359863"
      ]
     },
     "execution_count": 6,
     "metadata": {},
     "output_type": "execute_result"
    }
   ],
   "source": [
    "from math import log\n",
    "log(cprob['a'].prob('a')) + log(cprob['a'].prob('b')) + log(cprob['a'].prob('c'))"
   ]
  },
  {
   "cell_type": "code",
   "execution_count": 7,
   "metadata": {
    "slideshow": {
     "slide_type": "subslide"
    }
   },
   "outputs": [
    {
     "name": "stdout",
     "output_type": "stream",
     "text": [
      "p(a) = 0.1354\n"
     ]
    }
   ],
   "source": [
    "l = sum([freq[char] for char in freq])\n",
    "def unigram_prob(char):\n",
    "    return freq[char] / l\n",
    "print('p(a) = %1.4f' %unigram_prob('a'))"
   ]
  },
  {
   "cell_type": "code",
   "execution_count": 8,
   "metadata": {},
   "outputs": [
    {
     "data": {
      "text/plain": [
       "[('a', 'a'),\n",
       " ('a', 'c'),\n",
       " ('c', 'h'),\n",
       " ('h', 'e'),\n",
       " ('e', 'n'),\n",
       " ('n', 'o'),\n",
       " ('o', 's'),\n",
       " ('s', 'a'),\n",
       " ('a', 'u'),\n",
       " ('u', 'r'),\n",
       " ('r', 'u'),\n",
       " ('u', 's')]"
      ]
     },
     "execution_count": 8,
     "metadata": {},
     "output_type": "execute_result"
    }
   ],
   "source": [
    "[bi for bi in nltk.bigrams('aachenosaurus')]"
   ]
  },
  {
   "cell_type": "markdown",
   "metadata": {
    "slideshow": {
     "slide_type": "subslide"
    }
   },
   "source": [
    "#### Задание 1\n",
    "\n",
    "1. Напишите функцию для оценки вероятности имени динозавра. \n",
    "2. Найдите наиболее вероятное имя динозавра из данного списка. "
   ]
  },
  {
   "cell_type": "code",
   "execution_count": 9,
   "metadata": {
    "slideshow": {
     "slide_type": "subslide"
    }
   },
   "outputs": [
    {
     "name": "stdout",
     "output_type": "stream",
     "text": [
      "mei 0.00010014627316970464\n",
      "talos 4.2780851816444834e-05\n",
      "anzu 1.871385047467327e-05\n",
      "tawa 1.4336483998265067e-05\n",
      "elosaurus 5.254759599316491e-06\n",
      "orosaurus 4.760754322335631e-06\n",
      "inosaurus 4.088680704517327e-06\n",
      "haya 3.344748855213057e-06\n",
      "balaur 2.5496164419344336e-06\n",
      "almas 2.271023504969294e-06\n"
     ]
    }
   ],
   "source": [
    "def name_prob(name):\n",
    "    p = unigram_prob(name[0])\n",
    "    for i in range(len(name)-1):\n",
    "        p *=  cprob[name[i]].prob(name[i+1])\n",
    "    return p\n",
    "\n",
    "sorted_names = sorted(names, key=lambda name: name_prob(name), reverse=True)\n",
    "for name in sorted_names[:10]:\n",
    "    print(name, name_prob(name))"
   ]
  },
  {
   "cell_type": "markdown",
   "metadata": {
    "slideshow": {
     "slide_type": "subslide"
    }
   },
   "source": [
    "#### Задание 2\n",
    "\n",
    "Напишите функцию для генерации нового имени динозавра фиксированной длины."
   ]
  },
  {
   "cell_type": "code",
   "execution_count": 10,
   "metadata": {},
   "outputs": [
    {
     "name": "stdout",
     "output_type": "stream",
     "text": [
      "rteiubos\n"
     ]
    }
   ],
   "source": [
    "import random\n",
    "\n",
    "def dino_name(c=None, n=12):\n",
    "    c = chr(random.randint(ord('a'), ord('z'))) if c is None else c\n",
    "    return c if n == 1 else c + dino_name(cprob[c].generate(), n - 1)\n",
    "\n",
    "print(dino_name(n=8))"
   ]
  },
  {
   "cell_type": "markdown",
   "metadata": {
    "slideshow": {
     "slide_type": "slide"
    }
   },
   "source": [
    "## Нейронные языковые модели\n",
    "\n",
    "* Вход: $n$-грамы $w_{1:k}$\n",
    "* $v(w_i)$ – эмбеддинг слова $w_i$, $v(w_i) \\in \\mathbb{R}^{d_{emb}}$, $d_{emb}$ – размерность эмбеддинга, $v(w) = E_{[w]}$\n",
    "* $x = [v(w_1), v(w_2), \\ldots , v(w_k)]$\n",
    "\n",
    "$\\widehat{y} = P(w_i | w_{1:k} ) = \\texttt{LM}(w_{1:k}) = \\texttt{softmax}(hW^2 +b^2)$\n",
    "\n",
    "$h = g(xW^1+b^1)$\n",
    "\n",
    "$w_i \\in V$, $E \\in \\mathbb{R}^{|V|\\times d_{emb}}, W^1 \\in \\mathbb{R}^{k \\cdot d_{emb} \\times d_{hid}}, b^1 \\in \\mathbb{R} ^ {d_{hid}}, W^2 \\in \\mathbb{R}^{d_{hid} \\times |V|}, b^2 \\in \\mathbb{R} ^ {|V|}$"
   ]
  },
  {
   "cell_type": "markdown",
   "metadata": {
    "slideshow": {
     "slide_type": "subslide"
    }
   },
   "source": [
    "![nnlm](https://raw.githubusercontent.com/artemovae/nlp-course-sberbank/e70ab4acb696c00e170ea91d1bb28fd9ba31c170/img/nlm1.png)"
   ]
  },
  {
   "cell_type": "markdown",
   "metadata": {
    "slideshow": {
     "slide_type": "subslide"
    }
   },
   "source": [
    "### Семплирование в нейронных языковых моделях \n",
    "### (Генерация текстов с помощью нейронных языковых моделей)\n",
    "\n",
    "1. Задать начальную последовательность символов длины $k$ (/слов)\n",
    "2. Предсказать распределение вероятностей слов с условием на $k$ предыдущих слов\n",
    "3. 1. Выбрать слово с наибольшей вероятностью\n",
    "3. 2. Выбрать слово по предсказаному распределению\n",
    "4. Сдвинуть окно на одно слово и повторить \n",
    "\n",
    "#### Линейный поиск  (beam search)\n",
    "Всегда помним $h$ наиболее вероятных гипотез:\n",
    "1. Для генерации первого слова в последоватительности генерируем $h$ кандидатов, а не 1\n",
    "2. Генерируем $h \\times h$ кандидатов для второго слова и храним только $h$ наиболее вероятных\n"
   ]
  },
  {
   "cell_type": "markdown",
   "metadata": {
    "slideshow": {
     "slide_type": "subslide"
    }
   },
   "source": [
    "![nnlm](https://raw.githubusercontent.com/artemovae/nlp-course-sberbank/e70ab4acb696c00e170ea91d1bb28fd9ba31c170/img/nlm2.png)"
   ]
  },
  {
   "cell_type": "code",
   "execution_count": 11,
   "metadata": {
    "slideshow": {
     "slide_type": "subslide"
    }
   },
   "outputs": [
    {
     "name": "stdout",
     "output_type": "stream",
     "text": [
      "total chars: 26\n"
     ]
    }
   ],
   "source": [
    "alphabet = list(set(chars))\n",
    "print('total chars:', len(alphabet))"
   ]
  },
  {
   "cell_type": "code",
   "execution_count": 12,
   "metadata": {
    "slideshow": {
     "slide_type": "subslide"
    }
   },
   "outputs": [
    {
     "name": "stdout",
     "output_type": "stream",
     "text": [
      "nb ngrams: 10701\n",
      "a a c h e n\n",
      "a c h e n o\n"
     ]
    }
   ],
   "source": [
    "maxlen = 5\n",
    "step = 1\n",
    "ngrams = []\n",
    "next_chars = []\n",
    "for name in names:\n",
    "    for i in range(0, len(name) - maxlen, step):\n",
    "        ngrams.append(' '.join([char for char in name[i: i + maxlen]]))\n",
    "        next_chars.append(name[i + maxlen])\n",
    "print('nb ngrams:', len(ngrams))\n",
    "print(ngrams[0],next_chars[0])\n",
    "print(ngrams[1],next_chars[1])"
   ]
  },
  {
   "cell_type": "code",
   "execution_count": 13,
   "metadata": {
    "slideshow": {
     "slide_type": "subslide"
    }
   },
   "outputs": [
    {
     "data": {
      "text/plain": [
       "array([ 1,  1, 12, 11,  7], dtype=int32)"
      ]
     },
     "execution_count": 13,
     "metadata": {},
     "output_type": "execute_result"
    }
   ],
   "source": [
    "tokenizer = Tokenizer(num_words=len(alphabet))\n",
    "tokenizer.fit_on_texts(ngrams)\n",
    "\n",
    "sequences = tokenizer.texts_to_sequences(ngrams)\n",
    "X_train = pad_sequences(sequences, maxlen=maxlen)\n",
    "sequences = tokenizer.texts_to_sequences(next_chars)\n",
    "y_train = tokenizer.sequences_to_matrix(sequences)\n",
    "X_train[0]"
   ]
  },
  {
   "cell_type": "code",
   "execution_count": 14,
   "metadata": {},
   "outputs": [
    {
     "data": {
      "text/plain": [
       "array([0., 0., 0., 0., 0., 0., 1., 0., 0., 0., 0., 0., 0., 0., 0., 0., 0.,\n",
       "       0., 0., 0., 0., 0., 0., 0., 0., 0.])"
      ]
     },
     "execution_count": 14,
     "metadata": {},
     "output_type": "execute_result"
    }
   ],
   "source": [
    "y_train[0]"
   ]
  },
  {
   "cell_type": "code",
   "execution_count": 33,
   "metadata": {
    "slideshow": {
     "slide_type": "subslide"
    }
   },
   "outputs": [],
   "source": [
    "char_index = tokenizer.word_index\n",
    "index_char = {i: c for c, i in char_index.items()}"
   ]
  },
  {
   "cell_type": "code",
   "execution_count": 35,
   "metadata": {
    "slideshow": {
     "slide_type": "subslide"
    }
   },
   "outputs": [],
   "source": [
    "model = Sequential()\n",
    "\n",
    "model.add(Embedding(len(alphabet), 50, input_length=maxlen))\n",
    "model.add(Flatten())\n",
    "model.add(Dense(256, activation = 'relu'))\n",
    "model.add(Dropout(0.2))\n",
    "model.add(Dense(128, activation = 'relu'))\n",
    "model.add(Dropout(0.2))\n",
    "model.add(Dense(len(alphabet), activation = 'softmax'))\n",
    "\n",
    "model.compile(loss='categorical_crossentropy', optimizer='adam', metrics=['accuracy'])"
   ]
  },
  {
   "cell_type": "code",
   "execution_count": 36,
   "metadata": {
    "slideshow": {
     "slide_type": "subslide"
    }
   },
   "outputs": [
    {
     "name": "stdout",
     "output_type": "stream",
     "text": [
      "Epoch 1/100\n",
      "10701/10701 [==============================] - 1s 64us/step - loss: 3.1424 - acc: 0.3048\n",
      "Epoch 2/100\n",
      "10701/10701 [==============================] - 0s 27us/step - loss: 2.6231 - acc: 0.4008\n",
      "Epoch 3/100\n",
      "10701/10701 [==============================] - 0s 27us/step - loss: 2.1499 - acc: 0.4359\n",
      "Epoch 4/100\n",
      "10701/10701 [==============================] - 0s 25us/step - loss: 1.8755 - acc: 0.4760\n",
      "Epoch 5/100\n",
      "10701/10701 [==============================] - 0s 24us/step - loss: 1.7488 - acc: 0.5054\n",
      "Epoch 6/100\n",
      "10701/10701 [==============================] - 0s 25us/step - loss: 1.6480 - acc: 0.5342\n",
      "Epoch 7/100\n",
      "10701/10701 [==============================] - 0s 25us/step - loss: 1.5766 - acc: 0.5493\n",
      "Epoch 8/100\n",
      "10701/10701 [==============================] - 0s 24us/step - loss: 1.5208 - acc: 0.5651\n",
      "Epoch 9/100\n",
      "10701/10701 [==============================] - 0s 25us/step - loss: 1.4739 - acc: 0.5786\n",
      "Epoch 10/100\n",
      "10701/10701 [==============================] - 0s 24us/step - loss: 1.4369 - acc: 0.5871\n",
      "Epoch 11/100\n",
      "10701/10701 [==============================] - 0s 25us/step - loss: 1.4032 - acc: 0.5948\n",
      "Epoch 12/100\n",
      "10701/10701 [==============================] - 0s 25us/step - loss: 1.3675 - acc: 0.6061\n",
      "Epoch 13/100\n",
      "10701/10701 [==============================] - 0s 28us/step - loss: 1.3439 - acc: 0.6135\n",
      "Epoch 14/100\n",
      "10701/10701 [==============================] - 0s 26us/step - loss: 1.3230 - acc: 0.6183\n",
      "Epoch 15/100\n",
      "10701/10701 [==============================] - 0s 25us/step - loss: 1.3042 - acc: 0.6209\n",
      "Epoch 16/100\n",
      "10701/10701 [==============================] - 0s 38us/step - loss: 1.2832 - acc: 0.6292\n",
      "Epoch 17/100\n",
      "10701/10701 [==============================] - 0s 41us/step - loss: 1.2676 - acc: 0.6322\n",
      "Epoch 18/100\n",
      "10701/10701 [==============================] - 0s 30us/step - loss: 1.2445 - acc: 0.6422\n",
      "Epoch 19/100\n",
      "10701/10701 [==============================] - 0s 26us/step - loss: 1.2247 - acc: 0.6457\n",
      "Epoch 20/100\n",
      "10701/10701 [==============================] - 0s 27us/step - loss: 1.2123 - acc: 0.6484\n",
      "Epoch 21/100\n",
      "10701/10701 [==============================] - 0s 26us/step - loss: 1.1919 - acc: 0.6575\n",
      "Epoch 22/100\n",
      "10701/10701 [==============================] - 0s 30us/step - loss: 1.1840 - acc: 0.6623\n",
      "Epoch 23/100\n",
      "10701/10701 [==============================] - 0s 26us/step - loss: 1.1680 - acc: 0.6638\n",
      "Epoch 24/100\n",
      "10701/10701 [==============================] - 0s 26us/step - loss: 1.1475 - acc: 0.6699\n",
      "Epoch 25/100\n",
      "10701/10701 [==============================] - 0s 26us/step - loss: 1.1432 - acc: 0.6715\n",
      "Epoch 26/100\n",
      "10701/10701 [==============================] - 0s 26us/step - loss: 1.1319 - acc: 0.6715\n",
      "Epoch 27/100\n",
      "10701/10701 [==============================] - 0s 27us/step - loss: 1.1122 - acc: 0.6800\n",
      "Epoch 28/100\n",
      "10701/10701 [==============================] - 0s 26us/step - loss: 1.1026 - acc: 0.6866\n",
      "Epoch 29/100\n",
      "10701/10701 [==============================] - 0s 26us/step - loss: 1.0909 - acc: 0.6854\n",
      "Epoch 30/100\n",
      "10701/10701 [==============================] - 0s 38us/step - loss: 1.0782 - acc: 0.6893\n",
      "Epoch 31/100\n",
      "10701/10701 [==============================] - 0s 29us/step - loss: 1.0659 - acc: 0.6882\n",
      "Epoch 32/100\n",
      "10701/10701 [==============================] - 0s 27us/step - loss: 1.0556 - acc: 0.6942\n",
      "Epoch 33/100\n",
      "10701/10701 [==============================] - 0s 25us/step - loss: 1.0409 - acc: 0.7005\n",
      "Epoch 34/100\n",
      "10701/10701 [==============================] - 0s 26us/step - loss: 1.0321 - acc: 0.7008\n",
      "Epoch 35/100\n",
      "10701/10701 [==============================] - 0s 25us/step - loss: 1.0177 - acc: 0.7020\n",
      "Epoch 36/100\n",
      "10701/10701 [==============================] - 0s 25us/step - loss: 1.0137 - acc: 0.7056\n",
      "Epoch 37/100\n",
      "10701/10701 [==============================] - 0s 26us/step - loss: 1.0012 - acc: 0.7086\n",
      "Epoch 38/100\n",
      "10701/10701 [==============================] - 0s 27us/step - loss: 0.9887 - acc: 0.7142\n",
      "Epoch 39/100\n",
      "10701/10701 [==============================] - 0s 26us/step - loss: 0.9727 - acc: 0.7178\n",
      "Epoch 40/100\n",
      "10701/10701 [==============================] - 0s 25us/step - loss: 0.9727 - acc: 0.7143\n",
      "Epoch 41/100\n",
      "10701/10701 [==============================] - 0s 27us/step - loss: 0.9555 - acc: 0.7193\n",
      "Epoch 42/100\n",
      "10701/10701 [==============================] - 0s 26us/step - loss: 0.9410 - acc: 0.7248\n",
      "Epoch 43/100\n",
      "10701/10701 [==============================] - 0s 25us/step - loss: 0.9377 - acc: 0.7220\n",
      "Epoch 44/100\n",
      "10701/10701 [==============================] - 0s 27us/step - loss: 0.9270 - acc: 0.7286\n",
      "Epoch 45/100\n",
      "10701/10701 [==============================] - 0s 26us/step - loss: 0.9181 - acc: 0.7317\n",
      "Epoch 46/100\n",
      "10701/10701 [==============================] - 0s 25us/step - loss: 0.9096 - acc: 0.7314\n",
      "Epoch 47/100\n",
      "10701/10701 [==============================] - 0s 27us/step - loss: 0.9002 - acc: 0.7341\n",
      "Epoch 48/100\n",
      "10701/10701 [==============================] - 0s 26us/step - loss: 0.8935 - acc: 0.7352\n",
      "Epoch 49/100\n",
      "10701/10701 [==============================] - 0s 25us/step - loss: 0.8810 - acc: 0.7390\n",
      "Epoch 50/100\n",
      "10701/10701 [==============================] - 0s 27us/step - loss: 0.8717 - acc: 0.7391\n",
      "Epoch 51/100\n",
      "10701/10701 [==============================] - 0s 26us/step - loss: 0.8613 - acc: 0.7425\n",
      "Epoch 52/100\n",
      "10701/10701 [==============================] - 0s 27us/step - loss: 0.8580 - acc: 0.7455\n",
      "Epoch 53/100\n",
      "10701/10701 [==============================] - 0s 30us/step - loss: 0.8471 - acc: 0.7474\n",
      "Epoch 54/100\n",
      "10701/10701 [==============================] - 0s 26us/step - loss: 0.8349 - acc: 0.7543\n",
      "Epoch 55/100\n",
      "10701/10701 [==============================] - 0s 26us/step - loss: 0.8270 - acc: 0.7537\n",
      "Epoch 56/100\n",
      "10701/10701 [==============================] - 0s 31us/step - loss: 0.8247 - acc: 0.7550\n",
      "Epoch 57/100\n",
      "10701/10701 [==============================] - 0s 28us/step - loss: 0.8174 - acc: 0.7550\n",
      "Epoch 58/100\n",
      "10701/10701 [==============================] - 0s 28us/step - loss: 0.8148 - acc: 0.7536\n",
      "Epoch 59/100\n",
      "10701/10701 [==============================] - 0s 28us/step - loss: 0.7915 - acc: 0.7635\n",
      "Epoch 60/100\n",
      "10701/10701 [==============================] - 0s 34us/step - loss: 0.7953 - acc: 0.7582\n",
      "Epoch 61/100\n",
      "10701/10701 [==============================] - 0s 36us/step - loss: 0.7755 - acc: 0.7659\n",
      "Epoch 62/100\n",
      "10701/10701 [==============================] - 0s 28us/step - loss: 0.7705 - acc: 0.7654\n",
      "Epoch 63/100\n",
      "10701/10701 [==============================] - 0s 30us/step - loss: 0.7687 - acc: 0.7666\n",
      "Epoch 64/100\n",
      "10701/10701 [==============================] - 0s 35us/step - loss: 0.7579 - acc: 0.7679\n",
      "Epoch 65/100\n",
      "10701/10701 [==============================] - 0s 30us/step - loss: 0.7538 - acc: 0.7689\n",
      "Epoch 66/100\n",
      "10701/10701 [==============================] - 0s 36us/step - loss: 0.7485 - acc: 0.7722\n",
      "Epoch 67/100\n",
      "10701/10701 [==============================] - 0s 37us/step - loss: 0.7439 - acc: 0.7749\n",
      "Epoch 68/100\n",
      "10701/10701 [==============================] - 0s 32us/step - loss: 0.7321 - acc: 0.7809\n",
      "Epoch 69/100\n",
      "10701/10701 [==============================] - 0s 36us/step - loss: 0.7213 - acc: 0.7780\n",
      "Epoch 70/100\n",
      "10701/10701 [==============================] - 0s 27us/step - loss: 0.7131 - acc: 0.7828\n",
      "Epoch 71/100\n",
      "10701/10701 [==============================] - 0s 26us/step - loss: 0.7097 - acc: 0.7847\n",
      "Epoch 72/100\n",
      "10701/10701 [==============================] - 0s 28us/step - loss: 0.7088 - acc: 0.7823\n",
      "Epoch 73/100\n",
      "10701/10701 [==============================] - 0s 32us/step - loss: 0.6970 - acc: 0.7894\n",
      "Epoch 74/100\n",
      "10701/10701 [==============================] - 0s 36us/step - loss: 0.6901 - acc: 0.7896\n",
      "Epoch 75/100\n",
      "10701/10701 [==============================] - 0s 31us/step - loss: 0.6789 - acc: 0.7909\n",
      "Epoch 76/100\n",
      "10701/10701 [==============================] - 0s 28us/step - loss: 0.6758 - acc: 0.7940\n",
      "Epoch 77/100\n",
      "10701/10701 [==============================] - 0s 35us/step - loss: 0.6716 - acc: 0.7927\n",
      "Epoch 78/100\n",
      "10701/10701 [==============================] - 0s 38us/step - loss: 0.6572 - acc: 0.7963\n",
      "Epoch 79/100\n",
      "10701/10701 [==============================] - 0s 31us/step - loss: 0.6605 - acc: 0.7936\n",
      "Epoch 80/100\n",
      "10701/10701 [==============================] - 0s 30us/step - loss: 0.6558 - acc: 0.7956\n",
      "Epoch 81/100\n"
     ]
    },
    {
     "name": "stdout",
     "output_type": "stream",
     "text": [
      "10701/10701 [==============================] - 0s 31us/step - loss: 0.6391 - acc: 0.7970\n",
      "Epoch 82/100\n",
      "10701/10701 [==============================] - 0s 23us/step - loss: 0.6301 - acc: 0.8049\n",
      "Epoch 83/100\n",
      "10701/10701 [==============================] - 0s 23us/step - loss: 0.6373 - acc: 0.7969\n",
      "Epoch 84/100\n",
      "10701/10701 [==============================] - 0s 31us/step - loss: 0.6265 - acc: 0.8068\n",
      "Epoch 85/100\n",
      "10701/10701 [==============================] - 0s 26us/step - loss: 0.6324 - acc: 0.7996\n",
      "Epoch 86/100\n",
      "10701/10701 [==============================] - 0s 28us/step - loss: 0.6212 - acc: 0.8043\n",
      "Epoch 87/100\n",
      "10701/10701 [==============================] - 0s 27us/step - loss: 0.6032 - acc: 0.8110\n",
      "Epoch 88/100\n",
      "10701/10701 [==============================] - 0s 32us/step - loss: 0.6182 - acc: 0.8049\n",
      "Epoch 89/100\n",
      "10701/10701 [==============================] - 0s 25us/step - loss: 0.6052 - acc: 0.8086\n",
      "Epoch 90/100\n",
      "10701/10701 [==============================] - 0s 28us/step - loss: 0.6027 - acc: 0.8098\n",
      "Epoch 91/100\n",
      "10701/10701 [==============================] - 0s 27us/step - loss: 0.5972 - acc: 0.8080\n",
      "Epoch 92/100\n",
      "10701/10701 [==============================] - 0s 32us/step - loss: 0.5799 - acc: 0.8148\n",
      "Epoch 93/100\n",
      "10701/10701 [==============================] - 0s 30us/step - loss: 0.5735 - acc: 0.8174\n",
      "Epoch 94/100\n",
      "10701/10701 [==============================] - 0s 26us/step - loss: 0.5765 - acc: 0.8200\n",
      "Epoch 95/100\n",
      "10701/10701 [==============================] - 0s 32us/step - loss: 0.5797 - acc: 0.8159\n",
      "Epoch 96/100\n",
      "10701/10701 [==============================] - 0s 25us/step - loss: 0.5727 - acc: 0.8162\n",
      "Epoch 97/100\n",
      "10701/10701 [==============================] - 0s 26us/step - loss: 0.5706 - acc: 0.8174\n",
      "Epoch 98/100\n",
      "10701/10701 [==============================] - 0s 30us/step - loss: 0.5458 - acc: 0.8242\n",
      "Epoch 99/100\n",
      "10701/10701 [==============================] - 0s 31us/step - loss: 0.5557 - acc: 0.8220\n",
      "Epoch 100/100\n",
      "10701/10701 [==============================] - 0s 28us/step - loss: 0.5490 - acc: 0.8221\n"
     ]
    },
    {
     "data": {
      "text/plain": [
       "<keras.callbacks.History at 0x7fcd2febcb38>"
      ]
     },
     "execution_count": 36,
     "metadata": {},
     "output_type": "execute_result"
    }
   ],
   "source": [
    "model.fit(X_train, y_train, batch_size=1024, epochs=100)"
   ]
  },
  {
   "cell_type": "code",
   "execution_count": 37,
   "metadata": {
    "slideshow": {
     "slide_type": "subslide"
    }
   },
   "outputs": [],
   "source": [
    "def sample(preds):\n",
    "    # helper function to sample an index from a probability array\n",
    "    preds = np.asarray(preds).astype('float64')\n",
    "    preds = np.log(preds) #/ temperature\n",
    "    exp_preds = np.exp(preds)\n",
    "    preds = exp_preds / np.sum(exp_preds)\n",
    "    probas = np.random.choice(range(len(alphabet)), p = preds)\n",
    "    return probas"
   ]
  },
  {
   "cell_type": "code",
   "execution_count": 49,
   "metadata": {
    "slideshow": {
     "slide_type": "subslide"
    }
   },
   "outputs": [
    {
     "name": "stdout",
     "output_type": "stream",
     "text": [
      "katyanniasaurus\n",
      "elosaurusxidesaurus\n"
     ]
    }
   ],
   "source": [
    "import random\n",
    "import sys\n",
    "import numpy as np\n",
    "\n",
    "\n",
    "def generate_name(name=\"\", length=10):\n",
    "    generated = name\n",
    "\n",
    "    for i in range(length):\n",
    "        sequences = tokenizer.texts_to_sequences([' '.join([char for char in generated[-maxlen:]])])\n",
    "        X_pred = pad_sequences(sequences, maxlen=maxlen)\n",
    "        preds = model.predict(X_pred, verbose=0)[0]\n",
    "        next_index = sample(preds)\n",
    "        next_char = index_char[next_index]\n",
    "        generated += next_char\n",
    "    return generated\n",
    "\n",
    "print(generate_name(\"katya\"))\n",
    "print(generate_name(\"elosaurus\"))"
   ]
  },
  {
   "cell_type": "markdown",
   "metadata": {
    "slideshow": {
     "slide_type": "subslide"
    }
   },
   "source": [
    "#### Задание 3\n",
    "\n",
    "Измените код выше так, чтобы генерировались панграмы – имена динозавров, не содержащие повторяющихся букв"
   ]
  },
  {
   "cell_type": "code",
   "execution_count": 61,
   "metadata": {},
   "outputs": [
    {
     "name": "stdout",
     "output_type": "stream",
     "text": [
      "niosa\n",
      "peusalognbihrmy\n",
      "nosauriveltymhzbgfcpj\n"
     ]
    }
   ],
   "source": [
    "def generate_pangram(length=5):\n",
    "    generated = ''\n",
    "    for i in range(length):\n",
    "        sequences = tokenizer.texts_to_sequences([' '.join([char for char in generated[-maxlen:]])])\n",
    "        X_pred = pad_sequences(sequences, maxlen=maxlen)\n",
    "        preds = model.predict(X_pred, verbose=0)[0]\n",
    "        next_index = sample(preds)\n",
    "        next_char = index_char[next_index]\n",
    "        for _ in range(10000):\n",
    "            if next_char not in generated:\n",
    "                break\n",
    "            next_index = sample(preds)\n",
    "            next_char = index_char[next_index]\n",
    "        else:\n",
    "            break\n",
    "        generated += next_char\n",
    "    assert(len(generated) == len(set(generated)))\n",
    "    return generated\n",
    "print(generate_pangram(5))\n",
    "print(generate_pangram(15))\n",
    "print(generate_pangram(25))"
   ]
  },
  {
   "cell_type": "markdown",
   "metadata": {
    "slideshow": {
     "slide_type": "subslide"
    }
   },
   "source": [
    "#### Задание 4\n",
    "\n",
    "Измените функцию семлирования `sample`: добавьте параметр `t`, изпольузуемый для шкалирования вероятностей  `preds`: ```\n",
    "preds /= t\n",
    "``` \n",
    "\n",
    "Как использование этого параметра влияет на генерируемые имена?"
   ]
  },
  {
   "cell_type": "code",
   "execution_count": 63,
   "metadata": {},
   "outputs": [
    {
     "name": "stdout",
     "output_type": "stream",
     "text": [
      "[0.8 0.2] t = 1\n",
      "[0.66666667 0.33333333] t = 2\n",
      "[0.61351179 0.38648821] t = 3\n",
      "[0.58578644 0.41421356] t = 4\n",
      "[0.56887407 0.43112593] t = 5\n",
      "[0.55750667 0.44249333] t = 6\n",
      "[0.54934933 0.45065067] t = 7\n",
      "[0.54321362 0.45678638] t = 8\n",
      "[0.53843222 0.46156778] t = 9\n"
     ]
    }
   ],
   "source": [
    "def sample(preds, t=1):\n",
    "    # helper function to sample an index from a probability array\n",
    "    preds = np.asarray(preds).astype('float64')\n",
    "    preds = np.log(preds) / t\n",
    "    exp_preds = np.exp(preds)\n",
    "    preds = exp_preds / np.sum(exp_preds)\n",
    "    print(preds, \"t =\", t)\n",
    "    probas = np.random.choice(range(len(preds)), p = preds)\n",
    "    return probas\n",
    "\n",
    "for t in range(1, 10, 1):\n",
    "    sample([0.8, 0.2], t)\n"
   ]
  },
  {
   "cell_type": "markdown",
   "metadata": {
    "slideshow": {
     "slide_type": "slide"
    }
   },
   "source": [
    "### Рекуррентные нейронные языковые модели\n",
    "\n",
    "RNN позволяют уйти от Марковских допущений и позволяют учитывать предысторию произвольной длины.\n",
    "\n",
    "$x_{1:n} = x_1, x_2, \\ldots, x_n$, $x_i \\in \\mathbb{R}^{d_{in}}$\n",
    "\n",
    "$y_n = RNN(x_{1:n})$, $y_n \\in \\mathbb{R}^{d_{out}}$\n",
    "\n",
    "Для каждого префикса $x_{i:i}$ $y_i$ – выходной вектор.\n",
    "\n",
    "$y_i = RNN(x_{1:i})$\n",
    "\n",
    "$y_{1:n} = RNN^{*}(x_{1:n})$, $y_i \\in \\mathbb{R}^{d_{out}}$"
   ]
  },
  {
   "cell_type": "markdown",
   "metadata": {
    "slideshow": {
     "slide_type": "subslide"
    }
   },
   "source": [
    "![rnn](https://raw.githubusercontent.com/artemovae/nlp-course-sberbank/e70ab4acb696c00e170ea91d1bb28fd9ba31c170/img/rnn1.png)"
   ]
  },
  {
   "cell_type": "markdown",
   "metadata": {
    "slideshow": {
     "slide_type": "subslide"
    }
   },
   "source": [
    "$R$ –  рекурсивная функция с двумя входами: $x_i$ и $s_{i-1}$ (вектор состояния)\n",
    "\n",
    "$RNN^{*}(x_{1:n}, s_0) = y_{1:n}$\n",
    "\n",
    "$y_i = O(s_i)$\n",
    "\n",
    "$s_i = R(s_{i-1}, x_i)$\n",
    "\n",
    "$s_i = R(s_{i-1}, x_i) = g(s_{i-1} W^s + x_i W^x +b)$\n",
    "\n",
    "$x_i \\in \\mathbb{R}^{d_{in}}$, $y_i \\in \\mathbb{R}^{d_{out}}$, $s_i \\in \\mathbb{R}^{d_{out}}$\n",
    "\n",
    "$W^x \\in \\mathbb{R}^{d_{in} \\times d_{in}}$, $W^s \\in \\mathbb{R}^{d_{out} \\times d_{out}}$"
   ]
  },
  {
   "cell_type": "markdown",
   "metadata": {
    "slideshow": {
     "slide_type": "subslide"
    }
   },
   "source": [
    "![rnn](https://raw.githubusercontent.com/artemovae/nlp-course-sberbank/e70ab4acb696c00e170ea91d1bb28fd9ba31c170/img/rnn4.png)"
   ]
  },
  {
   "cell_type": "markdown",
   "metadata": {
    "slideshow": {
     "slide_type": "subslide"
    }
   },
   "source": [
    "#### Обучение RNN: backpropogation through time (BPTT)\n",
    "\n",
    "![rnn](https://raw.githubusercontent.com/artemovae/nlp-course-sberbank/e70ab4acb696c00e170ea91d1bb28fd9ba31c170/img/rnn3.png)"
   ]
  },
  {
   "cell_type": "markdown",
   "metadata": {
    "slideshow": {
     "slide_type": "subslide"
    }
   },
   "source": [
    "#### Сценарии использования RNN\n",
    "\n",
    "* Acceptor: только $y_n$, используемый для дальнейшего предсказания / классификации\n",
    "\n",
    "![rnn](https://raw.githubusercontent.com/artemovae/nlp-course-sberbank/e70ab4acb696c00e170ea91d1bb28fd9ba31c170/img/rnn5.png)\n"
   ]
  },
  {
   "cell_type": "markdown",
   "metadata": {
    "slideshow": {
     "slide_type": "subslide"
    }
   },
   "source": [
    "* Encoder: только $y_n$\n",
    "\n",
    "![rnn](https://raw.githubusercontent.com/artemovae/nlp-course-sberbank/e70ab4acb696c00e170ea91d1bb28fd9ba31c170/img/rnn5.png)"
   ]
  },
  {
   "cell_type": "markdown",
   "metadata": {
    "slideshow": {
     "slide_type": "subslide"
    }
   },
   "source": [
    "* Transducer: выход $t_i$ для каждого входа $x_{1:i}$ – языковые модели,  sequence labelling\n",
    "\n",
    "![rnn](https://raw.githubusercontent.com/artemovae/nlp-course-sberbank/e70ab4acb696c00e170ea91d1bb28fd9ba31c170/img/rnn2.png)"
   ]
  },
  {
   "cell_type": "markdown",
   "metadata": {
    "slideshow": {
     "slide_type": "subslide"
    }
   },
   "source": [
    "#### Двунаправленная рекуррентная нейронная сеть\n",
    "\n",
    "$x_{1:n}$ – входная последовательность\n",
    "\n",
    "$s_i^f$ –  \"прошлое / прямое состояние\" – основано на $x_{1:i}$\n",
    "\n",
    "$s_i^b$ –  \"будущее / обратное состояние\" – основано на $x_{n:i}$\n",
    "\n",
    "$y_i = [O(s_i^f), O(s_i^b)] = [y_i^f, y_i^b]$\n",
    "\n",
    "![rnn](https://raw.githubusercontent.com/artemovae/nlp-course-sberbank/e70ab4acb696c00e170ea91d1bb28fd9ba31c170/img/birnn.png)"
   ]
  },
  {
   "cell_type": "markdown",
   "metadata": {
    "slideshow": {
     "slide_type": "subslide"
    }
   },
   "source": [
    "#### Управляемые архитектуры\n",
    "\n",
    "RNN трудно обучать: проблема исчезающего градиента. Уйти от нее помогают управляемые нейроны специального вида: LSTM и GRU.\n",
    "\n",
    "$s_i$ – память нейронной сети. Каждое использование $R$ считывает и видоизменяет всю память. \n",
    "\n",
    "Управляемый доступ к памяти: $g \\in {0,1}^n$:\n",
    "\n",
    "$s_{i+1} \\leftarrow g \\odot x + (1-g) \\odot s_{i}$\n",
    "\n",
    "Дифференцируемое управление:\n",
    "\n",
    "$g \\in \\mathbb{R}^n $:\n",
    "\n",
    "$s_{i+1} \\leftarrow \\sigma(g) \\odot x + (1-g) \\odot s_{i}$\n",
    "\n",
    "http://colah.github.io/posts/2015-08-Understanding-LSTMs/\n",
    "    "
   ]
  },
  {
   "cell_type": "code",
   "execution_count": 64,
   "metadata": {
    "slideshow": {
     "slide_type": "subslide"
    }
   },
   "outputs": [],
   "source": [
    "from keras.utils import to_categorical\n",
    "import numpy as np\n",
    "\n",
    "X_names = ['bos ' + ' '.join(name) for name in names]\n",
    "Y_names = [' '.join(name) + ' eos' for name in names]\n",
    "maxlen = max([len(name) for name in names])+1"
   ]
  },
  {
   "cell_type": "code",
   "execution_count": 65,
   "metadata": {
    "slideshow": {
     "slide_type": "subslide"
    }
   },
   "outputs": [],
   "source": [
    "tokenizer = Tokenizer(num_words=len(alphabet)+2)\n",
    "tokenizer.fit_on_texts(X_names+Y_names)\n",
    "\n",
    "sequences = tokenizer.texts_to_sequences(X_names)\n",
    "X_train = pad_sequences(sequences, maxlen=maxlen, padding='post')\n",
    "\n",
    "\n",
    "sequences = tokenizer.texts_to_sequences(Y_names)\n",
    "Y_train = pad_sequences(sequences, padding='post')\n",
    "\n",
    "\n",
    "Y_train_cat  = [to_categorical(sent, num_classes=len(alphabet)+2) for sent in Y_train]\n",
    "Y_train =  np.asarray(Y_train_cat)"
   ]
  },
  {
   "cell_type": "code",
   "execution_count": 66,
   "metadata": {
    "slideshow": {
     "slide_type": "subslide"
    }
   },
   "outputs": [
    {
     "name": "stdout",
     "output_type": "stream",
     "text": [
      "bos a a c h e n o s a u r u s\n",
      "a a c h e n o s a u r u s eos\n",
      "(1536, 27)\n",
      "(1536, 27, 28)\n",
      "10\n",
      "11\n"
     ]
    }
   ],
   "source": [
    "print(X_names[0])\n",
    "print(Y_names[0])\n",
    "\n",
    "\n",
    "print(X_train.shape)\n",
    "print(Y_train.shape)\n",
    "\n",
    "print(tokenizer.word_index['bos'])\n",
    "print(tokenizer.word_index['eos'])"
   ]
  },
  {
   "cell_type": "code",
   "execution_count": 67,
   "metadata": {
    "slideshow": {
     "slide_type": "subslide"
    }
   },
   "outputs": [],
   "source": [
    "char_index = tokenizer.word_index\n",
    "index_char = {i: c for c, i in char_index.items()}"
   ]
  },
  {
   "cell_type": "code",
   "execution_count": 68,
   "metadata": {
    "slideshow": {
     "slide_type": "subslide"
    }
   },
   "outputs": [],
   "source": [
    "model = Sequential()\n",
    "\n",
    "model.add(Embedding(len(alphabet)+2, 30, input_length=maxlen))\n",
    "model.add(LSTM(128, return_sequences = True))\n",
    "\n",
    "model.add(Dense(len(alphabet)+2, activation = 'softmax'))\n",
    "model.compile(loss='categorical_crossentropy', optimizer='adam', metrics=['accuracy'])"
   ]
  },
  {
   "cell_type": "code",
   "execution_count": 69,
   "metadata": {
    "scrolled": true,
    "slideshow": {
     "slide_type": "subslide"
    }
   },
   "outputs": [
    {
     "name": "stdout",
     "output_type": "stream",
     "text": [
      "Epoch 1/1\n",
      "1536/1536 [==============================] - 2s 1ms/step - loss: 3.3329 - acc: 0.0433\n",
      "Epoch 1/1\n",
      "1536/1536 [==============================] - 1s 635us/step - loss: 3.3171 - acc: 0.5329\n",
      "Epoch 1/1\n",
      "1536/1536 [==============================] - 1s 657us/step - loss: 3.3011 - acc: 0.5264\n",
      "Epoch 1/1\n",
      "1536/1536 [==============================] - 1s 610us/step - loss: 3.2841 - acc: 0.5246\n",
      "Epoch 1/1\n",
      "1536/1536 [==============================] - 1s 648us/step - loss: 3.2650 - acc: 0.5205\n",
      "Epoch 1/1\n",
      "1536/1536 [==============================] - 1s 732us/step - loss: 3.2426 - acc: 0.5205\n",
      "Epoch 1/1\n",
      "1536/1536 [==============================] - 1s 652us/step - loss: 3.2161 - acc: 0.5205\n",
      "Epoch 1/1\n",
      "1536/1536 [==============================] - 1s 663us/step - loss: 3.1816 - acc: 0.5205\n",
      "Epoch 1/1\n",
      "1536/1536 [==============================] - 1s 602us/step - loss: 3.1362 - acc: 0.5205\n",
      "Epoch 1/1\n",
      "1536/1536 [==============================] - 1s 601us/step - loss: 3.0747 - acc: 0.5205\n",
      "Epoch 1/1\n",
      "1536/1536 [==============================] - 1s 612us/step - loss: 2.9884 - acc: 0.5205\n",
      "Epoch 1/1\n",
      "1536/1536 [==============================] - 1s 601us/step - loss: 2.8631 - acc: 0.5205\n",
      "Epoch 1/1\n",
      "1536/1536 [==============================] - 1s 599us/step - loss: 2.6780 - acc: 0.5205\n",
      "Epoch 1/1\n",
      "1536/1536 [==============================] - 1s 647us/step - loss: 2.4179 - acc: 0.5205\n",
      "Epoch 1/1\n",
      "1536/1536 [==============================] - 1s 669us/step - loss: 2.1236 - acc: 0.5205\n",
      "Epoch 1/1\n",
      "1536/1536 [==============================] - 1s 604us/step - loss: 1.8915 - acc: 0.5205\n",
      "Epoch 1/1\n",
      "1536/1536 [==============================] - 1s 644us/step - loss: 1.7657 - acc: 0.5205\n",
      "Epoch 1/1\n",
      "1536/1536 [==============================] - 1s 606us/step - loss: 1.7387 - acc: 0.5205\n",
      "Epoch 1/1\n",
      "1536/1536 [==============================] - 1s 637us/step - loss: 1.7781 - acc: 0.5205\n"
     ]
    }
   ],
   "source": [
    "for iteration in range(1, 20):\n",
    "    X_train_shuffled, y_train_shuffled = shuffle(X_train, Y_train)\n",
    "    model.fit(X_train_shuffled, y_train_shuffled, batch_size=len(X_train), epochs=1, verbose = 1)"
   ]
  },
  {
   "cell_type": "code",
   "execution_count": 70,
   "metadata": {
    "slideshow": {
     "slide_type": "subslide"
    }
   },
   "outputs": [],
   "source": [
    "def sample(preds):\n",
    "    # helper function to sample an index from a probability array\n",
    "    preds = np.asarray(preds).astype('float64')\n",
    "    preds = np.log(preds) #/ temperature\n",
    "    exp_preds = np.exp(preds)\n",
    "    preds = exp_preds / np.sum(exp_preds)\n",
    "    probas = np.random.choice(range(len(alphabet)+2), p = preds)\n",
    "    return probas"
   ]
  },
  {
   "cell_type": "code",
   "execution_count": 71,
   "metadata": {
    "slideshow": {
     "slide_type": "subslide"
    }
   },
   "outputs": [
    {
     "name": "stdout",
     "output_type": "stream",
     "text": [
      "----- Generating with seed: \"bos\"\n",
      "bos \n",
      "bos e \n",
      "bos e eos \n"
     ]
    }
   ],
   "source": [
    "generated = ''\n",
    "seed = 'bos'\n",
    "generated += seed + ' '\n",
    "print('----- Generating with seed: \"' + seed + '\"')\n",
    "print(generated)\n",
    "\n",
    "\n",
    "for i in range(7): \n",
    "    sequences = tokenizer.texts_to_sequences([seed])\n",
    "    X_pred = pad_sequences(sequences, maxlen=maxlen, padding = 'post')\n",
    "\n",
    "    preds = model.predict(X_pred, verbose=0)[0]\n",
    "    samples = [sample(p) for p in preds]\n",
    "    next_index = samples[i]\n",
    "    while next_index == 0 or next_index == 10:\n",
    "        samples = [sample(p) for p in preds]\n",
    "        next_index = samples[i]\n",
    "    next_char = index_char[next_index]\n",
    "    generated += next_char + ' '\n",
    "    print(generated)\n",
    "    seed += next_char\n",
    "    if next_char == 'eos':\n",
    "        break\n",
    "    "
   ]
  },
  {
   "cell_type": "markdown",
   "metadata": {
    "slideshow": {
     "slide_type": "subslide"
    }
   },
   "source": [
    "#### Задание 5\n",
    "\n",
    "Измените функцию семлирования `sample`: сейчас в ней используется простой выбор наиболее вероятного следующего элемента. Замените его на лучевой поиск [beam search].\n",
    "\n",
    "Как использование этой функции семплирования влияет на генерируемые имена?"
   ]
  }
 ],
 "metadata": {
  "celltoolbar": "Slideshow",
  "kernelspec": {
   "display_name": "Python 3",
   "language": "python",
   "name": "python3"
  },
  "language_info": {
   "codemirror_mode": {
    "name": "ipython",
    "version": 3
   },
   "file_extension": ".py",
   "mimetype": "text/x-python",
   "name": "python",
   "nbconvert_exporter": "python",
   "pygments_lexer": "ipython3",
   "version": "3.6.8"
  }
 },
 "nbformat": 4,
 "nbformat_minor": 2
}
