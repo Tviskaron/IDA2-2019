{
 "cells": [
  {
   "cell_type": "markdown",
   "metadata": {
    "colab_type": "text",
    "id": "U4u6dGwXXFEU"
   },
   "source": [
    "## Векторная модель текста в NLTK\n",
    "### Задание 1\n",
    "Возьмем файл alice.txt с прошлого семинара. Мы уже научились разбивать его на токены и удалять стоп-слова.\n",
    "Используя nltk.FreqDist, выведите 20 самых часто встречающихся слов в тексте (не удаляя стоп символы).\n",
    "\n",
    "Ответьте на вопросы:\n",
    "\n",
    "    Какое слово стоит на 1 месте?\n",
    "    Сколько раз встречается слово, стоящее на 20 месте?\n",
    "    Сколько не стоп-слов среди первых десяти?\n",
    "    Сколько раз встречается слово \"крокет\"? (понятно, что оно не входит в top20)\n"
   ]
  },
  {
   "cell_type": "code",
   "execution_count": null,
   "metadata": {
    "colab": {
     "base_uri": "https://localhost:8080/",
     "height": 719
    },
    "colab_type": "code",
    "id": "F2g5hGU5XQhW",
    "outputId": "32151768-5259-4a12-ccc8-48cf90b15f10"
   },
   "outputs": [],
   "source": [
    "# скачиваем текста, стоп слова, пунктуацию и устанавливаем pymorphy/gensim\n",
    "!wget https://raw.githubusercontent.com/Tviskaron/IDA2-2019/master/sem-11/alice.txt -N\n",
    "!wget https://raw.githubusercontent.com/Tviskaron/IDA2-2019/master/sem-11/dinos.txt -N\n",
    "import nltk\n",
    "nltk.download('punkt')\n",
    "import nltk\n",
    "nltk.download('stopwords')\n",
    "!pip install pymorphy2\n",
    "!pip install -U gensim"
   ]
  },
  {
   "cell_type": "code",
   "execution_count": 3,
   "metadata": {
    "colab": {},
    "colab_type": "code",
    "id": "G-jUrPpuXFEU"
   },
   "outputs": [],
   "source": [
    "s = \"\"\n",
    "with open(\"alice.txt\") as infile:\n",
    "    for line in infile:\n",
    "        s += line.strip() + ' '\n",
    "from nltk.corpus import stopwords\n",
    "from string import punctuation\n",
    "from nltk.tokenize import word_tokenize\n",
    "tokenized = word_tokenize(s)"
   ]
  },
  {
   "cell_type": "code",
   "execution_count": 4,
   "metadata": {
    "colab": {
     "base_uri": "https://localhost:8080/",
     "height": 377
    },
    "colab_type": "code",
    "id": "n12_fG-EXFEX",
    "outputId": "79f6cf71-2ca1-4877-af37-d8511d2fbeb7"
   },
   "outputs": [
    {
     "data": {
      "text/plain": [
       "[(',', 2429),\n",
       " ('–', 1936),\n",
       " ('.', 1532),\n",
       " ('и', 748),\n",
       " ('!', 575),\n",
       " ('не', 542),\n",
       " ('в', 390),\n",
       " ('алиса', 377),\n",
       " ('она', 366),\n",
       " ('что', 340),\n",
       " ('на', 282),\n",
       " ('я', 270),\n",
       " ('?', 243),\n",
       " ('а', 232),\n",
       " ('с', 215),\n",
       " ('как', 189),\n",
       " (':', 185),\n",
       " ('это', 176),\n",
       " ('все', 174),\n",
       " ('он', 140)]"
      ]
     },
     "execution_count": 4,
     "metadata": {},
     "output_type": "execute_result"
    }
   ],
   "source": [
    "l1 = list(map(lambda x: x.lower(), tokenized))\n",
    "import nltk\n",
    "\n",
    "d1 = nltk.FreqDist(l1)\n",
    "d1.most_common(20)"
   ]
  },
  {
   "cell_type": "code",
   "execution_count": 5,
   "metadata": {
    "colab": {
     "base_uri": "https://localhost:8080/",
     "height": 35
    },
    "colab_type": "code",
    "id": "_5oEdi94XFEa",
    "outputId": "9f1e48a0-05bf-4261-9ad4-73cb8989d0e7"
   },
   "outputs": [
    {
     "name": "stdout",
     "output_type": "stream",
     "text": [
      "В1. Какое слово стоит на 1 месте? Ответ: ,\n"
     ]
    }
   ],
   "source": [
    "# 1. \n",
    "print(\"В1. Какое слово стоит на 1 месте? Ответ:\", d1.most_common(100)[0][0])"
   ]
  },
  {
   "cell_type": "code",
   "execution_count": 6,
   "metadata": {
    "colab": {
     "base_uri": "https://localhost:8080/",
     "height": 35
    },
    "colab_type": "code",
    "id": "iAeFhfAlXFEc",
    "outputId": "b8804e78-1c8e-408f-fd0b-a06ffd20d177"
   },
   "outputs": [
    {
     "name": "stdout",
     "output_type": "stream",
     "text": [
      "В2. Сколько раз встречается слово, стоящее на 20 месте? Ответ: 140\n"
     ]
    }
   ],
   "source": [
    "# 2. \n",
    "print(\"В2. Сколько раз встречается слово, стоящее на 20 месте? Ответ:\", d1.most_common(100)[19][1])"
   ]
  },
  {
   "cell_type": "code",
   "execution_count": 7,
   "metadata": {
    "colab": {
     "base_uri": "https://localhost:8080/",
     "height": 125
    },
    "colab_type": "code",
    "id": "MN4ld8YHXFEf",
    "outputId": "453c364f-af69-4874-9214-2d26dfccac5d"
   },
   "outputs": [
    {
     "name": "stdout",
     "output_type": "stream",
     "text": [
      "Топ 10 слов:\n",
      " [',', '–', '.', 'и', '!', 'не', 'в', 'алиса', 'она', 'что']\n",
      "Топ 10 слов, без стоп слов:\n",
      " [',', '–', '.', '!', 'алиса']\n",
      "\n",
      "В3. Сколько не стоп-слов среди первых десяти? Ответ: 5\n"
     ]
    }
   ],
   "source": [
    "# 3. \n",
    "top10 = [word[0] for word in d1.most_common(10)]\n",
    "print(\"Топ 10 слов:\\n\", top10)\n",
    "top10without_stop_words = [word for word in top10 if word not in stopwords.words('russian')]\n",
    "print(\"Топ 10 слов, без стоп слов:\\n\", top10without_stop_words)\n",
    "print(\"\\nВ3. Сколько не стоп-слов среди первых десяти? Ответ:\", len(top10without_stop_words))"
   ]
  },
  {
   "cell_type": "code",
   "execution_count": 8,
   "metadata": {
    "colab": {
     "base_uri": "https://localhost:8080/",
     "height": 35
    },
    "colab_type": "code",
    "id": "uOqofbY8XFEh",
    "outputId": "aef26998-b02e-4c2d-fc8b-1b7d8c9a1d7f"
   },
   "outputs": [
    {
     "name": "stdout",
     "output_type": "stream",
     "text": [
      "В4. Сколько раз встречается слово 'крокет'? Ответ: 7\n"
     ]
    }
   ],
   "source": [
    "# 4. \n",
    "print(\"В4. Сколько раз встречается слово 'крокет'? Ответ:\", dict(d1)[\"крокет\"])"
   ]
  },
  {
   "cell_type": "markdown",
   "metadata": {
    "colab_type": "text",
    "id": "OeEcRS-5XFEk"
   },
   "source": [
    "### Задание 2\n",
    "Избавьтесь от стоп-слов с помощью списка stopwords из nltk.corpus. Используйте pymorphy2 или Mystem, чтобы привести слова к нормальной форме. Ответьте на вопросы:\n",
    "\n",
    "    Какое слово стоит на 1 месте?\n",
    "    Сколько раз встречается слово, стоящее на 20 месте?\n",
    "    Остались ли какие-то стоп-слова среди первых 10? 20?\n",
    "    Сколько раз встречается слово \"крокет\"? Почему результат изменился?\n"
   ]
  },
  {
   "cell_type": "code",
   "execution_count": 9,
   "metadata": {
    "colab": {
     "base_uri": "https://localhost:8080/",
     "height": 377
    },
    "colab_type": "code",
    "id": "VIivv8DnXFEl",
    "outputId": "70fe801b-9d86-4be9-f948-f68ca09e7437"
   },
   "outputs": [
    {
     "data": {
      "text/plain": [
       "[(',', 2429),\n",
       " ('–', 1936),\n",
       " ('.', 1532),\n",
       " ('!', 575),\n",
       " ('алиса', 417),\n",
       " ('сказать', 257),\n",
       " ('?', 243),\n",
       " (':', 185),\n",
       " ('это', 183),\n",
       " ('*', 108),\n",
       " ('спросить', 78),\n",
       " ('«', 76),\n",
       " ('»', 76),\n",
       " ('королева', 75),\n",
       " ('подумать', 73),\n",
       " ('король', 65),\n",
       " ('очень', 64),\n",
       " ('свой', 64),\n",
       " ('мочь', 63),\n",
       " ('один', 63)]"
      ]
     },
     "execution_count": 9,
     "metadata": {},
     "output_type": "execute_result"
    }
   ],
   "source": [
    "import pymorphy2\n",
    "morph = pymorphy2.MorphAnalyzer()\n",
    "l3 = [morph.parse(token)[0].normal_form for token in l1 if not token in stopwords.words('russian')]\n",
    "d3 = nltk.FreqDist(l3)\n",
    "d3.most_common(20)"
   ]
  },
  {
   "cell_type": "markdown",
   "metadata": {
    "colab_type": "text",
    "id": "Dfm-PwQ4XFEn"
   },
   "source": [
    "Давайте построим кумулятивный график частот слов. Как он выглядит и почему так? Попробуйте поменять количество слов, какие тенденции вы видите?\n"
   ]
  },
  {
   "cell_type": "code",
   "execution_count": 10,
   "metadata": {
    "colab": {
     "base_uri": "https://localhost:8080/",
     "height": 35
    },
    "colab_type": "code",
    "id": "0yx7qWZjXFEo",
    "outputId": "94270837-12f5-4eb8-a15a-8592fd42192d"
   },
   "outputs": [
    {
     "name": "stdout",
     "output_type": "stream",
     "text": [
      "В1. Какое слово стоит на 1 месте? Ответ: ,\n"
     ]
    }
   ],
   "source": [
    "# 1. \n",
    "print(\"В1. Какое слово стоит на 1 месте? Ответ:\", d3.most_common(100)[0][0])"
   ]
  },
  {
   "cell_type": "code",
   "execution_count": 11,
   "metadata": {
    "colab": {
     "base_uri": "https://localhost:8080/",
     "height": 35
    },
    "colab_type": "code",
    "id": "uKhG4mG2XFEq",
    "outputId": "6dc80923-3846-4553-abe3-f1f47a8ec0fa"
   },
   "outputs": [
    {
     "name": "stdout",
     "output_type": "stream",
     "text": [
      "В2. Сколько раз встречается слово, стоящее на 20 месте? Ответ: 63\n"
     ]
    }
   ],
   "source": [
    "# 2. \n",
    "print(\"В2. Сколько раз встречается слово, стоящее на 20 месте? Ответ:\", d3.most_common(100)[19][1])"
   ]
  },
  {
   "cell_type": "code",
   "execution_count": 12,
   "metadata": {
    "colab": {
     "base_uri": "https://localhost:8080/",
     "height": 53
    },
    "colab_type": "code",
    "id": "LA_bKxFgXFEs",
    "outputId": "55be307c-ad78-4b05-a004-1b34cbf5b693"
   },
   "outputs": [
    {
     "name": "stdout",
     "output_type": "stream",
     "text": [
      "Оставшиеся стоп слова: ['один']\n",
      "В3. Остались ли какие-то стоп-слова среди первых 10? 20? Ответ: Да\n"
     ]
    }
   ],
   "source": [
    "# 3. \n",
    "stop_inside = [word[0] for word in d3.most_common(20) if word[0] in stopwords.words('russian')]\n",
    "print(\"Оставшиеся стоп слова:\", stop_inside)\n",
    "print(\"В3. Остались ли какие-то стоп-слова среди первых 10? 20? Ответ:\", \"Да\" if len(stop_inside) else \"Нет\")"
   ]
  },
  {
   "cell_type": "code",
   "execution_count": 13,
   "metadata": {
    "colab": {
     "base_uri": "https://localhost:8080/",
     "height": 53
    },
    "colab_type": "code",
    "id": "u2WyO_Z0XFEv",
    "outputId": "1d6d5dae-47a8-4889-ecf4-fb349230cc11"
   },
   "outputs": [
    {
     "name": "stdout",
     "output_type": "stream",
     "text": [
      "В4-1. Сколько раз встречается слово \"крокет\"? Ответ: 8\n",
      "В4-2. Почему результат изменился? Ответ: крокету -> крокет\n"
     ]
    }
   ],
   "source": [
    "# 4. \n",
    "for word in l1:\n",
    "    if word.find(\"крокет\") != -1 and word != \"крокет\" and morph.parse(word)[0].normal_form == \"крокет\":\n",
    "        answer = word + \" -> \" + morph.parse(word)[0].normal_form\n",
    "\n",
    "print('В4-1. Сколько раз встречается слово \"крокет\"? Ответ:', dict(d3)[\"крокет\"])\n",
    "print(\"В4-2. Почему результат изменился? Ответ:\", answer)"
   ]
  },
  {
   "cell_type": "code",
   "execution_count": 14,
   "metadata": {
    "colab": {
     "base_uri": "https://localhost:8080/",
     "height": 332
    },
    "colab_type": "code",
    "id": "x5via1XBXFEy",
    "outputId": "78138b3b-410a-4bb2-a25c-11d692271f52"
   },
   "outputs": [
    {
     "data": {
      "text/plain": [
       "<Figure size 640x480 with 1 Axes>"
      ]
     },
     "metadata": {},
     "output_type": "display_data"
    }
   ],
   "source": [
    "d3.plot(30, cumulative = True)"
   ]
  },
  {
   "cell_type": "markdown",
   "metadata": {
    "colab_type": "text",
    "id": "Ef_buSNwXFE1"
   },
   "source": [
    "### Задание 3\n",
    "\n",
    "Найдите распределение длин слов в тексте, выведите top5 и ответьте на вопросы:\n",
    "\n",
    "    Сколько всего в данном тексте вариантов длин слов (вместе со стоп-словами)?\n",
    "    Слов какой длины в тексте больше всего?\n",
    "    Какую долю занимают слова этой длины?\n",
    "    Сколько слов длины 1?\n",
    "\n",
    "Выведите в алфавитном поредке длинные слова (длиннее 15 символов).\n",
    "\n",
    "    Сколько их?"
   ]
  },
  {
   "cell_type": "code",
   "execution_count": 15,
   "metadata": {
    "colab": {
     "base_uri": "https://localhost:8080/",
     "height": 53
    },
    "colab_type": "code",
    "id": "JcdmfA3TXFE1",
    "outputId": "9bae1a25-9de0-41b6-9842-49e113566685"
   },
   "outputs": [
    {
     "name": "stdout",
     "output_type": "stream",
     "text": [
      "<FreqDist with 17 samples and 27333 outcomes>\n",
      "[(1, 9446), (3, 2899), (5, 2765), (6, 2477), (2, 2433)]\n"
     ]
    }
   ],
   "source": [
    "fdist = nltk.FreqDist(len(w) for w in l1)  \n",
    "print(fdist)  \n",
    "print (fdist.most_common(5))"
   ]
  },
  {
   "cell_type": "code",
   "execution_count": 16,
   "metadata": {
    "colab": {
     "base_uri": "https://localhost:8080/",
     "height": 53
    },
    "colab_type": "code",
    "id": "8Mm6GCtPXFE5",
    "outputId": "1ac4fcdc-463b-47fa-f58e-7ad81cfc014c"
   },
   "outputs": [
    {
     "name": "stdout",
     "output_type": "stream",
     "text": [
      "['крабом-старичком', 'многозначительно', 'несправедливости…']\n",
      "Сколько их? Ответ: 3\n"
     ]
    }
   ],
   "source": [
    "long_words = [w for w in l1 if len(w) > 15]\n",
    "print(sorted(long_words))\n",
    "print(\"Сколько их? Ответ:\", len(long_words))"
   ]
  },
  {
   "cell_type": "code",
   "execution_count": 17,
   "metadata": {
    "colab": {
     "base_uri": "https://localhost:8080/",
     "height": 35
    },
    "colab_type": "code",
    "id": "UfIuHa1eXFFA",
    "outputId": "be8ab4e7-3b05-4606-dd97-3df769764afb"
   },
   "outputs": [
    {
     "name": "stdout",
     "output_type": "stream",
     "text": [
      "Сколько всего в данном тексте вариантов длин слов (вместе со стоп-словами)? Ответ: 17\n"
     ]
    }
   ],
   "source": [
    "# 1.\n",
    "print(\"Сколько всего в данном тексте вариантов длин слов (вместе со стоп-словами)? Ответ:\", len(fdist))"
   ]
  },
  {
   "cell_type": "code",
   "execution_count": 18,
   "metadata": {
    "colab": {
     "base_uri": "https://localhost:8080/",
     "height": 35
    },
    "colab_type": "code",
    "id": "iob-hDI8XFFE",
    "outputId": "30ae7fb2-5ebf-47c3-a17e-c53b6edff96a"
   },
   "outputs": [
    {
     "name": "stdout",
     "output_type": "stream",
     "text": [
      "Слов какой длины в тексте больше всего? Ответ: 1\n"
     ]
    }
   ],
   "source": [
    "# 2. \n",
    "sorted_by_length = sorted(fdist.most_common(None), key=lambda x: x[1], reverse=True)\n",
    "print(\"Слов какой длины в тексте больше всего? Ответ:\", sorted_by_length[0][0])"
   ]
  },
  {
   "cell_type": "code",
   "execution_count": 19,
   "metadata": {
    "colab": {
     "base_uri": "https://localhost:8080/",
     "height": 35
    },
    "colab_type": "code",
    "id": "8eGOSYiaXFFK",
    "outputId": "1353e688-cf72-4c77-e923-a4e5c981ee9e"
   },
   "outputs": [
    {
     "name": "stdout",
     "output_type": "stream",
     "text": [
      "Какую долю занимают слова этой длины? Ответ: 0.35\n"
     ]
    }
   ],
   "source": [
    "# 3. \n",
    "answer = sorted_by_length[0][1] / (sum([_[1] for _ in sorted_by_length]))\n",
    "print(\"Какую долю занимают слова этой длины? Ответ:\", round(answer, 2))"
   ]
  },
  {
   "cell_type": "markdown",
   "metadata": {
    "colab_type": "text",
    "id": "pXFWyaPFXFFO"
   },
   "source": [
    "### Задание 4\n",
    "\n",
    "Превратите строку в NLTK-текст и проверьте, как работают спецфункции, на собственных примерах.\n"
   ]
  },
  {
   "cell_type": "code",
   "execution_count": 20,
   "metadata": {
    "colab": {
     "base_uri": "https://localhost:8080/",
     "height": 791
    },
    "colab_type": "code",
    "id": "eYCXUfEXXFFO",
    "outputId": "b122ac02-c293-4fa8-a0d7-d78c3d52f851"
   },
   "outputs": [
    {
     "name": "stdout",
     "output_type": "stream",
     "text": [
      "Displaying 25 of 140 matches:\n",
      "и только-только успела заметить , что он юркнул в нору под изгородью . в тот ж\n",
      "и , то ли ключик слишком мал , только он не подошел ни к одной , как она ни ст\n",
      "ажину – и , к величайшей ее радости , он подошел ! она открыла дверцу и увидел\n",
      ". напиток был очень приятен на вкус – он чем-то напоминал вишневый пирог с кре\n",
      ". это возвращался белый кролик . одет он был парадно , в одной руке держал пар\n",
      ", а в другой – большой веер . на бегу он тихо бормотал : – ах , боже мой , что\n",
      "я над песком прилежно пенит нил ! как он умело шевелит опрятным коготком ! – к\n",
      "велит опрятным коготком ! – как рыбок он благодарит , глотая целиком ! – слова\n",
      " волнистая ! бросишь ему что-нибудь , он тотчас несет назад , а потом сядет на\n",
      "чтобы ему дали косточку ! чего только он ни делает – всего не упомнишь ! хозяи\n",
      " не упомнишь ! хозяин у него фермер , он говорит : этому песику цены нет ! он \n",
      " он говорит : этому песику цены нет ! он всех крыс перебил в округе и всех мыш\n",
      "то к чему ! алиса потребовала , чтобы он сказал , сколько ему лет , но попугай\n",
      "ий , нашел это благоразумным… » – что он нашел ? – спросил робин гусь . – « … \n",
      "ажу тебе , что делал додо . ) сначала он нарисовал на земле круг . правда , кр\n",
      "г ответить , не подумав как следует . он застыл на месте , приложив ко лбу пал\n",
      "ает в трубу но это был белый кролик . он медленно трусил назад , с волнением г\n",
      "о что-то искал . алиса услышала , как он бормочет про себя : – ах , герцогиня \n",
      "терял ? алиса тут же догадалась , что он ищет веер и белые перчатки , и принял\n",
      ". – эй , мэри-энн , – сердито крикнул он , – а ты что здесь делаешь ? беги-ка \n",
      "не попыталась объяснить кролику , что он ошибся . – он , верно , принял меня з\n",
      "объяснить кролику , что он ошибся . – он , верно , принял меня за горничную , \n",
      " ! – подумала алиса . подождав , пока он по ее расчетам должен был подойти к о\n",
      ", зазвенело разбитое стекло . видно , он упал в теплицы , в которых выращивали\n",
      " , ваша честь ! ( последние два слова он произносил как одно – получалось что-\n",
      "None\n",
      "********************************************************************************\n",
      "король грифон только увидела там отломила все алиса четырехугольные\n",
      "кухарка же она подремать снова разделив нет бы уныло вздыхал отошла\n",
      "None\n",
      "********************************************************************************\n",
      "но_не\n",
      "None\n",
      "********************************************************************************\n",
      "черепаха квази; мартовский заяц; белый кролик; про себя; сказала\n",
      "алиса; подумала алиса; все равно; сказал король; всяком случае;\n",
      "спросила алиса; своем уме; отвечала алиса; эту минуту; немного спустя;\n",
      "ваше величество; этими словами; мораль отсюда; должно быть; блаженная\n",
      "еда; отсюда такова; блаже-э-нная е-да-а; вашего величества; позволения\n",
      "вашего; прежде всего; сказал грифон; бедная алиса; бедные мои; боже\n",
      "мой; тех пор; убить время\n",
      "None\n"
     ]
    }
   ],
   "source": [
    "text = nltk.Text(l1)\n",
    "# A concordance view shows us every occurrence of a given word, together with some context\n",
    "print (text.concordance(\"он\"))\n",
    "print(\"********\" * 10)\n",
    "# Using similar(token) returns a list of words that appear in the same context as token. \n",
    "# In this case the the context is just the words directly on either side of token.\n",
    "print (text.similar('он'))\n",
    "print(\"********\" * 10)\n",
    "# The term common_contexts allows us to examine just the contexts that are shared by two or more words\n",
    "print (text.common_contexts([\"алиса\", \"он\"]))\n",
    "print(\"********\" * 10)\n",
    "# A collocation is a sequence of words that occur together unusually often.\n",
    "print (text.collocations(30))"
   ]
  },
  {
   "cell_type": "markdown",
   "metadata": {
    "colab_type": "text",
    "id": "3hpLNNN8XFFQ"
   },
   "source": [
    "## Эмбеддинги\n"
   ]
  },
  {
   "cell_type": "code",
   "execution_count": 21,
   "metadata": {
    "colab": {},
    "colab_type": "code",
    "id": "Zb6KxtrmXFFQ"
   },
   "outputs": [],
   "source": [
    "import pandas as pd\n",
    "import matplotlib.pyplot as plt\n",
    "import seaborn as sns\n",
    "import random\n",
    "import numpy as np\n",
    "from sklearn.metrics import *\n",
    "from sklearn.feature_extraction.text import *\n",
    "from sklearn.model_selection import train_test_split\n",
    "from collections import Counter, defaultdict\n",
    "import warnings\n",
    "warnings.filterwarnings('ignore')\n",
    "random.seed(1228)\n",
    "\n",
    "%matplotlib inline"
   ]
  },
  {
   "cell_type": "markdown",
   "metadata": {
    "colab_type": "text",
    "id": "1PbxkU9rXFFT"
   },
   "source": [
    "Скачиваем куски датасета твитов ([источник](http://study.mokoron.com/)): [положительные](https://www.dropbox.com/s/fnpq3z4bcnoktiv/positive.csv?dl=0), [отрицательные](https://www.dropbox.com/s/ilkte35m35l38mr/negative.sql)."
   ]
  },
  {
   "cell_type": "code",
   "execution_count": 22,
   "metadata": {
    "colab": {
     "base_uri": "https://localhost:8080/",
     "height": 793
    },
    "colab_type": "code",
    "id": "kT7SORVLXFFT",
    "outputId": "a5889771-c177-4b04-b733-aa88a45fafd9"
   },
   "outputs": [
    {
     "name": "stdout",
     "output_type": "stream",
     "text": [
      "--2019-04-23 17:21:40--  https://www.dropbox.com/s/fnpq3z4bcnoktiv/positive.csv?dl=0\n",
      "Resolving www.dropbox.com (www.dropbox.com)... 162.125.71.1, 2620:100:6028:1::a27d:4701\n",
      "Connecting to www.dropbox.com (www.dropbox.com)|162.125.71.1|:443... connected.\n",
      "HTTP request sent, awaiting response... 301 Moved Permanently\n",
      "Location: /s/raw/fnpq3z4bcnoktiv/positive.csv [following]\n",
      "--2019-04-23 17:21:41--  https://www.dropbox.com/s/raw/fnpq3z4bcnoktiv/positive.csv\n",
      "Reusing existing connection to www.dropbox.com:443.\n",
      "HTTP request sent, awaiting response... 302 Found\n",
      "Location: https://uc6333defcc51b094318875dea91.dl.dropboxusercontent.com/cd/0/inline/AfmiYWDL4jgwRv6lORTDNaYG4GONf7IA-CTeAmMqRJCxRImMhw_6vF3yF7Y42VYgwBRbch5b7V0rhSWbEn_HLX2OFPTSvRw5mY4-BTqSaRQau76VSVER7VJcmHNw2y4vdUM/file# [following]\n",
      "--2019-04-23 17:21:41--  https://uc6333defcc51b094318875dea91.dl.dropboxusercontent.com/cd/0/inline/AfmiYWDL4jgwRv6lORTDNaYG4GONf7IA-CTeAmMqRJCxRImMhw_6vF3yF7Y42VYgwBRbch5b7V0rhSWbEn_HLX2OFPTSvRw5mY4-BTqSaRQau76VSVER7VJcmHNw2y4vdUM/file\n",
      "Resolving uc6333defcc51b094318875dea91.dl.dropboxusercontent.com (uc6333defcc51b094318875dea91.dl.dropboxusercontent.com)... 162.125.71.6, 2620:100:6027:6::a27d:4806\n",
      "Connecting to uc6333defcc51b094318875dea91.dl.dropboxusercontent.com (uc6333defcc51b094318875dea91.dl.dropboxusercontent.com)|162.125.71.6|:443... connected.\n",
      "HTTP request sent, awaiting response... 200 OK\n",
      "Length: 26233379 (25M) [text/plain]\n",
      "Saving to: ‘positive.csv?dl=0’\n",
      "\n",
      "positive.csv?dl=0   100%[===================>]  25,02M  8,37MB/s    in 3,0s    \n",
      "\n",
      "Last-modified header missing -- time-stamps turned off.\n",
      "2019-04-23 17:21:45 (8,37 MB/s) - ‘positive.csv?dl=0’ saved [26233379/26233379]\n",
      "\n",
      "--2019-04-23 17:21:45--  https://www.dropbox.com/s/r6u59ljhhjdg6j0/negative.csv?dl=0\n",
      "Resolving www.dropbox.com (www.dropbox.com)... 162.125.71.1, 2620:100:6028:1::a27d:4701\n",
      "Connecting to www.dropbox.com (www.dropbox.com)|162.125.71.1|:443... connected.\n",
      "HTTP request sent, awaiting response... 301 Moved Permanently\n",
      "Location: /s/raw/r6u59ljhhjdg6j0/negative.csv [following]\n",
      "--2019-04-23 17:21:45--  https://www.dropbox.com/s/raw/r6u59ljhhjdg6j0/negative.csv\n",
      "Reusing existing connection to www.dropbox.com:443.\n",
      "HTTP request sent, awaiting response... 302 Found\n",
      "Location: https://uc84f6988d706229bd190aef9789.dl.dropboxusercontent.com/cd/0/inline/AfkoyNslD-TPukfQj9uwo-SCyA_GVX5ixbsaB9Ha--BWdTnwYCNLzX-nLVeh87bMbQVXHJjF2-8Erg9jR6FqzsEP2Ofq3ek-MQyheMReQgOv7LrIFUFvmalbjZXefzAdf-U/file# [following]\n",
      "--2019-04-23 17:21:46--  https://uc84f6988d706229bd190aef9789.dl.dropboxusercontent.com/cd/0/inline/AfkoyNslD-TPukfQj9uwo-SCyA_GVX5ixbsaB9Ha--BWdTnwYCNLzX-nLVeh87bMbQVXHJjF2-8Erg9jR6FqzsEP2Ofq3ek-MQyheMReQgOv7LrIFUFvmalbjZXefzAdf-U/file\n",
      "Resolving uc84f6988d706229bd190aef9789.dl.dropboxusercontent.com (uc84f6988d706229bd190aef9789.dl.dropboxusercontent.com)... 162.125.71.6, 2620:100:6027:6::a27d:4806\n",
      "Connecting to uc84f6988d706229bd190aef9789.dl.dropboxusercontent.com (uc84f6988d706229bd190aef9789.dl.dropboxusercontent.com)|162.125.71.6|:443... connected.\n",
      "HTTP request sent, awaiting response... 200 OK\n",
      "Length: 24450101 (23M) [text/plain]\n",
      "Saving to: ‘negative.csv?dl=0’\n",
      "\n",
      "negative.csv?dl=0   100%[===================>]  23,32M  8,01MB/s    in 2,9s    \n",
      "\n",
      "Last-modified header missing -- time-stamps turned off.\n",
      "2019-04-23 17:21:50 (8,01 MB/s) - ‘negative.csv?dl=0’ saved [24450101/24450101]\n",
      "\n"
     ]
    }
   ],
   "source": [
    "!wget https://www.dropbox.com/s/fnpq3z4bcnoktiv/positive.csv?dl=0 -N\n",
    "!wget https://www.dropbox.com/s/r6u59ljhhjdg6j0/negative.csv?dl=0 -N"
   ]
  },
  {
   "cell_type": "markdown",
   "metadata": {
    "colab_type": "text",
    "id": "Doc-qzQnXFFX"
   },
   "source": [
    "Загружаем лемматизированные статьи без стоп-слов и создаем массив текстов"
   ]
  },
  {
   "cell_type": "code",
   "execution_count": 23,
   "metadata": {
    "colab": {},
    "colab_type": "code",
    "id": "haFP1nseXFFb"
   },
   "outputs": [],
   "source": [
    "from pymystem3 import Mystem\n",
    "import re\n",
    "\n",
    "from pymorphy2 import MorphAnalyzer\n",
    "pymorphy2_analyzer = MorphAnalyzer()\n",
    "\n",
    "\n",
    "regex = re.compile(\"[А-Яа-я:=!\\)\\()A-z\\_\\%/|]+\")\n",
    "\n",
    "def words_only(text, regex=regex):\n",
    "    try:\n",
    "        return \" \".join(regex.findall(text))\n",
    "    except:\n",
    "        return \"\"\n",
    "\n",
    "\n",
    "\n",
    "def lemmatize(text):\n",
    "  return \" \".join(pymorphy2_analyzer.parse(word)[0].normal_form for word in word_tokenize(text))\n",
    "    \n",
    "# уменьшим число строк, для ускорения работы (~7-10 минут)\n",
    "max_rows_to_load = 50000\n",
    "df_neg = pd.read_csv(\"negative.csv?dl=0\", sep=';', header = None, usecols = [3], nrows=max_rows_to_load)\n",
    "df_pos = pd.read_csv(\"positive.csv?dl=0\", sep=';', header = None, usecols = [3], nrows=max_rows_to_load)\n",
    "\n",
    "df_neg['sent'] = 'neg'\n",
    "df_pos['sent'] = 'pos'\n",
    "df_pos['text'] = df_pos[3]\n",
    "df_neg['text'] = df_neg[3]\n",
    "df = pd.concat([df_neg, df_pos])\n",
    "df = df[['text', 'sent']]\n",
    "df.text = df.text.apply(words_only)\n",
    "df.text = df.text.apply(lemmatize)\n",
    "df.text = df.text.apply(lambda text: text.lower())"
   ]
  },
  {
   "cell_type": "code",
   "execution_count": 24,
   "metadata": {
    "colab": {
     "base_uri": "https://localhost:8080/",
     "height": 222
    },
    "colab_type": "code",
    "id": "z9P8yg6WXFFd",
    "outputId": "3f609e3e-bc94-43f9-9570-ab70b1ac9c20"
   },
   "outputs": [
    {
     "name": "stdout",
     "output_type": "stream",
     "text": [
      "(100000, 2)\n"
     ]
    },
    {
     "data": {
      "text/html": [
       "<div>\n",
       "<style scoped>\n",
       "    .dataframe tbody tr th:only-of-type {\n",
       "        vertical-align: middle;\n",
       "    }\n",
       "\n",
       "    .dataframe tbody tr th {\n",
       "        vertical-align: top;\n",
       "    }\n",
       "\n",
       "    .dataframe thead th {\n",
       "        text-align: right;\n",
       "    }\n",
       "</style>\n",
       "<table border=\"1\" class=\"dataframe\">\n",
       "  <thead>\n",
       "    <tr style=\"text-align: right;\">\n",
       "      <th></th>\n",
       "      <th>text</th>\n",
       "      <th>sent</th>\n",
       "    </tr>\n",
       "  </thead>\n",
       "  <tbody>\n",
       "    <tr>\n",
       "      <th>0</th>\n",
       "      <td>на работа быть полный пиддес : | и так каждый ...</td>\n",
       "      <td>neg</td>\n",
       "    </tr>\n",
       "    <tr>\n",
       "      <th>1</th>\n",
       "      <td>коллега сидеть рубиться в urban terror а я из ...</td>\n",
       "      <td>neg</td>\n",
       "    </tr>\n",
       "    <tr>\n",
       "      <th>2</th>\n",
       "      <td>elina_ post как говорят обещаной три год ждать...</td>\n",
       "      <td>neg</td>\n",
       "    </tr>\n",
       "    <tr>\n",
       "      <th>3</th>\n",
       "      <td>желать хороший половина тот и удачный посадка ...</td>\n",
       "      <td>neg</td>\n",
       "    </tr>\n",
       "    <tr>\n",
       "      <th>4</th>\n",
       "      <td>обновить за какой то леший surf теперь не рабо...</td>\n",
       "      <td>neg</td>\n",
       "    </tr>\n",
       "  </tbody>\n",
       "</table>\n",
       "</div>"
      ],
      "text/plain": [
       "                                                text sent\n",
       "0  на работа быть полный пиддес : | и так каждый ...  neg\n",
       "1  коллега сидеть рубиться в urban terror а я из ...  neg\n",
       "2  elina_ post как говорят обещаной три год ждать...  neg\n",
       "3  желать хороший половина тот и удачный посадка ...  neg\n",
       "4  обновить за какой то леший surf теперь не рабо...  neg"
      ]
     },
     "execution_count": 24,
     "metadata": {},
     "output_type": "execute_result"
    }
   ],
   "source": [
    "print(df.shape)\n",
    "df.head()"
   ]
  },
  {
   "cell_type": "code",
   "execution_count": 25,
   "metadata": {
    "colab": {
     "base_uri": "https://localhost:8080/",
     "height": 204
    },
    "colab_type": "code",
    "id": "kQRBlhAfXFFf",
    "outputId": "8cd7eb5a-5a14-439e-d07d-9efd147f5f01"
   },
   "outputs": [
    {
     "data": {
      "text/html": [
       "<div>\n",
       "<style scoped>\n",
       "    .dataframe tbody tr th:only-of-type {\n",
       "        vertical-align: middle;\n",
       "    }\n",
       "\n",
       "    .dataframe tbody tr th {\n",
       "        vertical-align: top;\n",
       "    }\n",
       "\n",
       "    .dataframe thead th {\n",
       "        text-align: right;\n",
       "    }\n",
       "</style>\n",
       "<table border=\"1\" class=\"dataframe\">\n",
       "  <thead>\n",
       "    <tr style=\"text-align: right;\">\n",
       "      <th></th>\n",
       "      <th>text</th>\n",
       "      <th>sent</th>\n",
       "    </tr>\n",
       "  </thead>\n",
       "  <tbody>\n",
       "    <tr>\n",
       "      <th>49995</th>\n",
       "      <td>для счастие много не надо : ) ) нашеместо унив...</td>\n",
       "      <td>pos</td>\n",
       "    </tr>\n",
       "    <tr>\n",
       "      <th>49996</th>\n",
       "      <td>vyatkina_ ты сам говорить что парка на весь тп...</td>\n",
       "      <td>pos</td>\n",
       "    </tr>\n",
       "    <tr>\n",
       "      <th>49997</th>\n",
       "      <td>patronusholmes showmethedoctor можно в принцип )</td>\n",
       "      <td>pos</td>\n",
       "    </tr>\n",
       "    <tr>\n",
       "      <th>49998</th>\n",
       "      <td>rt tbnttepckne : одноклассник в соц сеть делит...</td>\n",
       "      <td>pos</td>\n",
       "    </tr>\n",
       "    <tr>\n",
       "      <th>49999</th>\n",
       "      <td>так вот я сидеть с идиотский улыбка на лицо и ...</td>\n",
       "      <td>pos</td>\n",
       "    </tr>\n",
       "  </tbody>\n",
       "</table>\n",
       "</div>"
      ],
      "text/plain": [
       "                                                    text sent\n",
       "49995  для счастие много не надо : ) ) нашеместо унив...  pos\n",
       "49996  vyatkina_ ты сам говорить что парка на весь тп...  pos\n",
       "49997   patronusholmes showmethedoctor можно в принцип )  pos\n",
       "49998  rt tbnttepckne : одноклассник в соц сеть делит...  pos\n",
       "49999  так вот я сидеть с идиотский улыбка на лицо и ...  pos"
      ]
     },
     "execution_count": 25,
     "metadata": {},
     "output_type": "execute_result"
    }
   ],
   "source": [
    "df.tail()"
   ]
  },
  {
   "cell_type": "code",
   "execution_count": 26,
   "metadata": {
    "colab": {},
    "colab_type": "code",
    "id": "EbPQ2BVKXFFh"
   },
   "outputs": [],
   "source": [
    "texts = [df.text.iloc[i].split() for i in range(len(df))]"
   ]
  },
  {
   "cell_type": "markdown",
   "metadata": {
    "colab_type": "text",
    "id": "85trYYyWXFFi"
   },
   "source": [
    "### Обучение модели в gensim"
   ]
  },
  {
   "cell_type": "code",
   "execution_count": 27,
   "metadata": {
    "colab": {
     "base_uri": "https://localhost:8080/",
     "height": 341
    },
    "colab_type": "code",
    "id": "DyrMrjifXFFi",
    "outputId": "ec1f46a0-b7f6-43d9-c6cd-6bafd639b3ea"
   },
   "outputs": [
    {
     "data": {
      "text/plain": [
       "['на',\n",
       " 'работа',\n",
       " 'быть',\n",
       " 'полный',\n",
       " 'пиддес',\n",
       " ':',\n",
       " '|',\n",
       " 'и',\n",
       " 'так',\n",
       " 'каждый',\n",
       " 'закрытие',\n",
       " 'месяц',\n",
       " 'я',\n",
       " 'же',\n",
       " 'свихнуться',\n",
       " 'так',\n",
       " 'd',\n",
       " ':']"
      ]
     },
     "execution_count": 27,
     "metadata": {},
     "output_type": "execute_result"
    }
   ],
   "source": [
    "texts[0]"
   ]
  },
  {
   "cell_type": "code",
   "execution_count": 28,
   "metadata": {
    "colab": {},
    "colab_type": "code",
    "id": "8L-0lmdnXFFr"
   },
   "outputs": [],
   "source": [
    "# %%time\n",
    "from gensim.models import Word2Vec\n",
    "model = Word2Vec(texts, size=100, window=5, min_count=5, workers=4)\n",
    "model.save(\"word2v.model\")"
   ]
  },
  {
   "cell_type": "code",
   "execution_count": 29,
   "metadata": {
    "colab": {
     "base_uri": "https://localhost:8080/",
     "height": 35
    },
    "colab_type": "code",
    "id": "YD9tKZQbXFFs",
    "outputId": "7e9e0544-21bd-4c2a-dc9f-db36817b079f"
   },
   "outputs": [
    {
     "name": "stdout",
     "output_type": "stream",
     "text": [
      "Vocab(count:3641, index:44, sample_int:4294967296)\n"
     ]
    }
   ],
   "source": [
    "# здесь можно посмотреть все слова, к которым мы имеем вектора\n",
    "print(model.wv.vocab[\"она\"])"
   ]
  },
  {
   "cell_type": "markdown",
   "metadata": {
    "colab_type": "text",
    "id": "U5wAjK8PXFFu"
   },
   "source": [
    "Загружаем обученную модель (для скорости):"
   ]
  },
  {
   "cell_type": "code",
   "execution_count": 30,
   "metadata": {
    "colab": {},
    "colab_type": "code",
    "id": "X4JDv0kxXFFv"
   },
   "outputs": [],
   "source": [
    "from gensim.models import Word2Vec\n",
    "model = Word2Vec.load(\"word2v.model\")"
   ]
  },
  {
   "cell_type": "markdown",
   "metadata": {
    "colab_type": "text",
    "id": "03i2FnUCXFFx"
   },
   "source": [
    "Теперь можно воспользjваться функциями поиска похожих / непохожих слов на данное\n",
    "\n",
    "    model.most_similar\n",
    "    model.doesnt_match\n",
    "    etc"
   ]
  },
  {
   "cell_type": "code",
   "execution_count": 31,
   "metadata": {
    "colab": {
     "base_uri": "https://localhost:8080/",
     "height": 197
    },
    "colab_type": "code",
    "id": "MFS2J_AhXFFy",
    "outputId": "0a2759ca-3a7f-43d5-d846-5a65a5bcd238"
   },
   "outputs": [
    {
     "data": {
      "text/plain": [
       "[('бутерброд', 0.9506134986877441),\n",
       " ('ростелеком', 0.9442381858825684),\n",
       " ('вечеринка', 0.9397419691085815),\n",
       " ('кофта', 0.9397047758102417),\n",
       " ('джинса', 0.9389002323150635),\n",
       " ('марс', 0.9387116432189941),\n",
       " ('шоколадный', 0.93784099817276),\n",
       " ('ушлепок', 0.935908854007721),\n",
       " ('танцевальный', 0.9343730807304382),\n",
       " ('залить', 0.9342857599258423)]"
      ]
     },
     "execution_count": 31,
     "metadata": {},
     "output_type": "execute_result"
    }
   ],
   "source": [
    "model.most_similar(\"корпоратив\")"
   ]
  },
  {
   "cell_type": "code",
   "execution_count": 32,
   "metadata": {
    "colab": {
     "base_uri": "https://localhost:8080/",
     "height": 197
    },
    "colab_type": "code",
    "id": "UFFgMTFOXFF0",
    "outputId": "5945eb5a-7959-4b7b-a975-d28fadbe8d4d"
   },
   "outputs": [
    {
     "data": {
      "text/plain": [
       "[('пора', 0.320669949054718),\n",
       " ('сей', 0.26959872245788574),\n",
       " ('достучаться', 0.24627098441123962),\n",
       " ('новое', 0.23131196200847626),\n",
       " ('%', 0.22743961215019226),\n",
       " ('они', 0.22462570667266846),\n",
       " ('вдохный', 0.2240377962589264),\n",
       " ('ли', 0.2143060863018036),\n",
       " ('коляна', 0.2107544243335724),\n",
       " ('донести', 0.21067167818546295)]"
      ]
     },
     "execution_count": 32,
     "metadata": {},
     "output_type": "execute_result"
    }
   ],
   "source": [
    "model.most_similar(positive=[\"он\"], negative=[\"она\"])"
   ]
  },
  {
   "cell_type": "code",
   "execution_count": 33,
   "metadata": {
    "colab": {
     "base_uri": "https://localhost:8080/",
     "height": 35
    },
    "colab_type": "code",
    "id": "Go0A9AD5XFF4",
    "outputId": "477e4146-5f21-430b-a6c5-5b7bd80d5c88"
   },
   "outputs": [
    {
     "data": {
      "text/plain": [
       "'знать'"
      ]
     },
     "execution_count": 33,
     "metadata": {},
     "output_type": "execute_result"
    }
   ],
   "source": [
    "#  Which word from the given list doesn't go with the others?\n",
    "model.doesnt_match(\"каждый охотник желает знать где сидит фазан\".split())"
   ]
  },
  {
   "cell_type": "markdown",
   "metadata": {
    "colab_type": "text",
    "id": "P5QZ9U7nXFF6"
   },
   "source": [
    "### Задание 5\n",
    "Выделите top 100 самых частотных слов и получите для них только что обученные вектора"
   ]
  },
  {
   "cell_type": "code",
   "execution_count": 34,
   "metadata": {
    "colab": {},
    "colab_type": "code",
    "id": "Kz99gL6rXFF6"
   },
   "outputs": [],
   "source": [
    "from nltk import FreqDist\n",
    "all_words = []\n",
    "for sentence in texts[:5]:\n",
    "    for word in sentence:\n",
    "        all_words.append(word)\n",
    "fd = FreqDist(all_words)\n"
   ]
  },
  {
   "cell_type": "code",
   "execution_count": 35,
   "metadata": {
    "colab": {
     "base_uri": "https://localhost:8080/",
     "height": 485
    },
    "colab_type": "code",
    "id": "u-R6fGlCXFF7",
    "outputId": "38783526-0c95-4200-af73-0750adec25dc"
   },
   "outputs": [
    {
     "data": {
      "text/plain": [
       "array([-0.0016786 ,  0.8428996 ,  0.37428376, -0.4773741 ,  0.01469737,\n",
       "        0.6950027 , -0.04184497, -0.6290486 , -0.07632744,  0.57401943,\n",
       "        0.9284937 ,  0.08569787,  0.37261966, -0.04862919,  0.20780079,\n",
       "       -0.24029358, -0.32442242, -0.69173443,  0.25654638, -0.23697433,\n",
       "        0.06546174, -0.39026648, -0.2994018 ,  0.36531302, -0.36116764,\n",
       "        0.00356974, -0.01199344,  0.040558  , -0.08056056,  0.16500273,\n",
       "        0.3192431 , -0.33287615,  0.31558207,  0.13465485,  1.2850443 ,\n",
       "        0.7364161 ,  0.08157333, -0.9238841 , -0.75665474, -0.3082403 ,\n",
       "       -0.06176785, -0.08383584, -0.5371716 ,  0.8230298 , -1.2809279 ,\n",
       "        0.70369434, -0.06469582, -0.04500343, -0.49477705,  0.38902637,\n",
       "       -0.00775438,  0.65773183, -0.05086815, -0.16326904, -0.17802328,\n",
       "       -0.39334244,  0.2494551 ,  0.16835514,  0.16572376,  0.01758221,\n",
       "        0.7765917 , -0.14661625, -0.36355585,  0.18548872,  0.50955397,\n",
       "        1.051127  ,  0.25810006,  0.7004601 ,  0.74995834, -0.27632228,\n",
       "       -0.51591486,  0.46656895,  0.3436006 , -0.22868805, -0.7531762 ,\n",
       "        1.203734  , -0.06909628, -0.33900446,  0.55728906,  0.43732387,\n",
       "       -0.02693831, -0.27017248, -0.41479892,  0.29989642, -0.8681081 ,\n",
       "        0.8712771 ,  0.37426087,  0.04396436, -0.3522947 , -0.4461247 ,\n",
       "        0.08398991, -0.97667897, -0.6352229 ,  0.434729  ,  0.90379834,\n",
       "        0.45790452, -0.5322747 ,  1.4337817 , -0.26173547,  0.759704  ],\n",
       "      dtype=float32)"
      ]
     },
     "execution_count": 35,
     "metadata": {},
     "output_type": "execute_result"
    }
   ],
   "source": [
    "model['рабочий']"
   ]
  },
  {
   "cell_type": "code",
   "execution_count": 36,
   "metadata": {
    "colab": {},
    "colab_type": "code",
    "id": "lboS2szAXFGN"
   },
   "outputs": [],
   "source": [
    "top_words_vec = []\n",
    "top_words = []\n",
    "for word, count in fd.most_common(200):\n",
    "    if word in model:\n",
    "        top_words_vec.append(model[word])\n",
    "        top_words.append(word)\n",
    "    if len(top_words_vec) == 100:\n",
    "        break"
   ]
  },
  {
   "cell_type": "markdown",
   "metadata": {
    "colab_type": "text",
    "id": "cjBNmmhmXFGU"
   },
   "source": [
    "Визуализируем вектора. Для этого воспользуемся методом снижения размерности t-sne"
   ]
  },
  {
   "cell_type": "code",
   "execution_count": 37,
   "metadata": {
    "colab": {},
    "colab_type": "code",
    "id": "5w3_PwfXXFGU"
   },
   "outputs": [],
   "source": [
    "from sklearn.manifold import TSNE\n",
    "tsne = TSNE(n_components=2, random_state=0)\n",
    "top_words_tsne = tsne.fit_transform(top_words_vec)"
   ]
  },
  {
   "cell_type": "code",
   "execution_count": 38,
   "metadata": {
    "colab": {
     "base_uri": "https://localhost:8080/",
     "height": 647
    },
    "colab_type": "code",
    "id": "BhsR5TcuXFGZ",
    "outputId": "6ca3f6a9-a588-453d-dbe4-3ac24444128b"
   },
   "outputs": [
    {
     "data": {
      "text/html": [
       "\n",
       "    <div class=\"bk-root\">\n",
       "        <a href=\"https://bokeh.pydata.org\" target=\"_blank\" class=\"bk-logo bk-logo-small bk-logo-notebook\"></a>\n",
       "        <span id=\"1001\">Loading BokehJS ...</span>\n",
       "    </div>"
      ]
     },
     "metadata": {},
     "output_type": "display_data"
    },
    {
     "data": {
      "application/javascript": [
       "\n",
       "(function(root) {\n",
       "  function now() {\n",
       "    return new Date();\n",
       "  }\n",
       "\n",
       "  var force = true;\n",
       "\n",
       "  if (typeof root._bokeh_onload_callbacks === \"undefined\" || force === true) {\n",
       "    root._bokeh_onload_callbacks = [];\n",
       "    root._bokeh_is_loading = undefined;\n",
       "  }\n",
       "\n",
       "  var JS_MIME_TYPE = 'application/javascript';\n",
       "  var HTML_MIME_TYPE = 'text/html';\n",
       "  var EXEC_MIME_TYPE = 'application/vnd.bokehjs_exec.v0+json';\n",
       "  var CLASS_NAME = 'output_bokeh rendered_html';\n",
       "\n",
       "  /**\n",
       "   * Render data to the DOM node\n",
       "   */\n",
       "  function render(props, node) {\n",
       "    var script = document.createElement(\"script\");\n",
       "    node.appendChild(script);\n",
       "  }\n",
       "\n",
       "  /**\n",
       "   * Handle when an output is cleared or removed\n",
       "   */\n",
       "  function handleClearOutput(event, handle) {\n",
       "    var cell = handle.cell;\n",
       "\n",
       "    var id = cell.output_area._bokeh_element_id;\n",
       "    var server_id = cell.output_area._bokeh_server_id;\n",
       "    // Clean up Bokeh references\n",
       "    if (id != null && id in Bokeh.index) {\n",
       "      Bokeh.index[id].model.document.clear();\n",
       "      delete Bokeh.index[id];\n",
       "    }\n",
       "\n",
       "    if (server_id !== undefined) {\n",
       "      // Clean up Bokeh references\n",
       "      var cmd = \"from bokeh.io.state import curstate; print(curstate().uuid_to_server['\" + server_id + \"'].get_sessions()[0].document.roots[0]._id)\";\n",
       "      cell.notebook.kernel.execute(cmd, {\n",
       "        iopub: {\n",
       "          output: function(msg) {\n",
       "            var id = msg.content.text.trim();\n",
       "            if (id in Bokeh.index) {\n",
       "              Bokeh.index[id].model.document.clear();\n",
       "              delete Bokeh.index[id];\n",
       "            }\n",
       "          }\n",
       "        }\n",
       "      });\n",
       "      // Destroy server and session\n",
       "      var cmd = \"import bokeh.io.notebook as ion; ion.destroy_server('\" + server_id + \"')\";\n",
       "      cell.notebook.kernel.execute(cmd);\n",
       "    }\n",
       "  }\n",
       "\n",
       "  /**\n",
       "   * Handle when a new output is added\n",
       "   */\n",
       "  function handleAddOutput(event, handle) {\n",
       "    var output_area = handle.output_area;\n",
       "    var output = handle.output;\n",
       "\n",
       "    // limit handleAddOutput to display_data with EXEC_MIME_TYPE content only\n",
       "    if ((output.output_type != \"display_data\") || (!output.data.hasOwnProperty(EXEC_MIME_TYPE))) {\n",
       "      return\n",
       "    }\n",
       "\n",
       "    var toinsert = output_area.element.find(\".\" + CLASS_NAME.split(' ')[0]);\n",
       "\n",
       "    if (output.metadata[EXEC_MIME_TYPE][\"id\"] !== undefined) {\n",
       "      toinsert[toinsert.length - 1].firstChild.textContent = output.data[JS_MIME_TYPE];\n",
       "      // store reference to embed id on output_area\n",
       "      output_area._bokeh_element_id = output.metadata[EXEC_MIME_TYPE][\"id\"];\n",
       "    }\n",
       "    if (output.metadata[EXEC_MIME_TYPE][\"server_id\"] !== undefined) {\n",
       "      var bk_div = document.createElement(\"div\");\n",
       "      bk_div.innerHTML = output.data[HTML_MIME_TYPE];\n",
       "      var script_attrs = bk_div.children[0].attributes;\n",
       "      for (var i = 0; i < script_attrs.length; i++) {\n",
       "        toinsert[toinsert.length - 1].firstChild.setAttribute(script_attrs[i].name, script_attrs[i].value);\n",
       "      }\n",
       "      // store reference to server id on output_area\n",
       "      output_area._bokeh_server_id = output.metadata[EXEC_MIME_TYPE][\"server_id\"];\n",
       "    }\n",
       "  }\n",
       "\n",
       "  function register_renderer(events, OutputArea) {\n",
       "\n",
       "    function append_mime(data, metadata, element) {\n",
       "      // create a DOM node to render to\n",
       "      var toinsert = this.create_output_subarea(\n",
       "        metadata,\n",
       "        CLASS_NAME,\n",
       "        EXEC_MIME_TYPE\n",
       "      );\n",
       "      this.keyboard_manager.register_events(toinsert);\n",
       "      // Render to node\n",
       "      var props = {data: data, metadata: metadata[EXEC_MIME_TYPE]};\n",
       "      render(props, toinsert[toinsert.length - 1]);\n",
       "      element.append(toinsert);\n",
       "      return toinsert\n",
       "    }\n",
       "\n",
       "    /* Handle when an output is cleared or removed */\n",
       "    events.on('clear_output.CodeCell', handleClearOutput);\n",
       "    events.on('delete.Cell', handleClearOutput);\n",
       "\n",
       "    /* Handle when a new output is added */\n",
       "    events.on('output_added.OutputArea', handleAddOutput);\n",
       "\n",
       "    /**\n",
       "     * Register the mime type and append_mime function with output_area\n",
       "     */\n",
       "    OutputArea.prototype.register_mime_type(EXEC_MIME_TYPE, append_mime, {\n",
       "      /* Is output safe? */\n",
       "      safe: true,\n",
       "      /* Index of renderer in `output_area.display_order` */\n",
       "      index: 0\n",
       "    });\n",
       "  }\n",
       "\n",
       "  // register the mime type if in Jupyter Notebook environment and previously unregistered\n",
       "  if (root.Jupyter !== undefined) {\n",
       "    var events = require('base/js/events');\n",
       "    var OutputArea = require('notebook/js/outputarea').OutputArea;\n",
       "\n",
       "    if (OutputArea.prototype.mime_types().indexOf(EXEC_MIME_TYPE) == -1) {\n",
       "      register_renderer(events, OutputArea);\n",
       "    }\n",
       "  }\n",
       "\n",
       "  \n",
       "  if (typeof (root._bokeh_timeout) === \"undefined\" || force === true) {\n",
       "    root._bokeh_timeout = Date.now() + 5000;\n",
       "    root._bokeh_failed_load = false;\n",
       "  }\n",
       "\n",
       "  var NB_LOAD_WARNING = {'data': {'text/html':\n",
       "     \"<div style='background-color: #fdd'>\\n\"+\n",
       "     \"<p>\\n\"+\n",
       "     \"BokehJS does not appear to have successfully loaded. If loading BokehJS from CDN, this \\n\"+\n",
       "     \"may be due to a slow or bad network connection. Possible fixes:\\n\"+\n",
       "     \"</p>\\n\"+\n",
       "     \"<ul>\\n\"+\n",
       "     \"<li>re-rerun `output_notebook()` to attempt to load from CDN again, or</li>\\n\"+\n",
       "     \"<li>use INLINE resources instead, as so:</li>\\n\"+\n",
       "     \"</ul>\\n\"+\n",
       "     \"<code>\\n\"+\n",
       "     \"from bokeh.resources import INLINE\\n\"+\n",
       "     \"output_notebook(resources=INLINE)\\n\"+\n",
       "     \"</code>\\n\"+\n",
       "     \"</div>\"}};\n",
       "\n",
       "  function display_loaded() {\n",
       "    var el = document.getElementById(\"1001\");\n",
       "    if (el != null) {\n",
       "      el.textContent = \"BokehJS is loading...\";\n",
       "    }\n",
       "    if (root.Bokeh !== undefined) {\n",
       "      if (el != null) {\n",
       "        el.textContent = \"BokehJS \" + root.Bokeh.version + \" successfully loaded.\";\n",
       "      }\n",
       "    } else if (Date.now() < root._bokeh_timeout) {\n",
       "      setTimeout(display_loaded, 100)\n",
       "    }\n",
       "  }\n",
       "\n",
       "\n",
       "  function run_callbacks() {\n",
       "    try {\n",
       "      root._bokeh_onload_callbacks.forEach(function(callback) {\n",
       "        if (callback != null)\n",
       "          callback();\n",
       "      });\n",
       "    } finally {\n",
       "      delete root._bokeh_onload_callbacks\n",
       "    }\n",
       "    console.debug(\"Bokeh: all callbacks have finished\");\n",
       "  }\n",
       "\n",
       "  function load_libs(css_urls, js_urls, callback) {\n",
       "    if (css_urls == null) css_urls = [];\n",
       "    if (js_urls == null) js_urls = [];\n",
       "\n",
       "    root._bokeh_onload_callbacks.push(callback);\n",
       "    if (root._bokeh_is_loading > 0) {\n",
       "      console.debug(\"Bokeh: BokehJS is being loaded, scheduling callback at\", now());\n",
       "      return null;\n",
       "    }\n",
       "    if (js_urls == null || js_urls.length === 0) {\n",
       "      run_callbacks();\n",
       "      return null;\n",
       "    }\n",
       "    console.debug(\"Bokeh: BokehJS not loaded, scheduling load and callback at\", now());\n",
       "    root._bokeh_is_loading = css_urls.length + js_urls.length;\n",
       "\n",
       "    function on_load() {\n",
       "      root._bokeh_is_loading--;\n",
       "      if (root._bokeh_is_loading === 0) {\n",
       "        console.debug(\"Bokeh: all BokehJS libraries/stylesheets loaded\");\n",
       "        run_callbacks()\n",
       "      }\n",
       "    }\n",
       "\n",
       "    function on_error() {\n",
       "      console.error(\"failed to load \" + url);\n",
       "    }\n",
       "\n",
       "    for (var i = 0; i < css_urls.length; i++) {\n",
       "      var url = css_urls[i];\n",
       "      const element = document.createElement(\"link\");\n",
       "      element.onload = on_load;\n",
       "      element.onerror = on_error;\n",
       "      element.rel = \"stylesheet\";\n",
       "      element.type = \"text/css\";\n",
       "      element.href = url;\n",
       "      console.debug(\"Bokeh: injecting link tag for BokehJS stylesheet: \", url);\n",
       "      document.body.appendChild(element);\n",
       "    }\n",
       "\n",
       "    for (var i = 0; i < js_urls.length; i++) {\n",
       "      var url = js_urls[i];\n",
       "      var element = document.createElement('script');\n",
       "      element.onload = on_load;\n",
       "      element.onerror = on_error;\n",
       "      element.async = false;\n",
       "      element.src = url;\n",
       "      console.debug(\"Bokeh: injecting script tag for BokehJS library: \", url);\n",
       "      document.head.appendChild(element);\n",
       "    }\n",
       "  };var element = document.getElementById(\"1001\");\n",
       "  if (element == null) {\n",
       "    console.error(\"Bokeh: ERROR: autoload.js configured with elementid '1001' but no matching script tag was found. \")\n",
       "    return false;\n",
       "  }\n",
       "\n",
       "  function inject_raw_css(css) {\n",
       "    const element = document.createElement(\"style\");\n",
       "    element.appendChild(document.createTextNode(css));\n",
       "    document.body.appendChild(element);\n",
       "  }\n",
       "\n",
       "  var js_urls = [\"https://cdn.pydata.org/bokeh/release/bokeh-1.1.0.min.js\", \"https://cdn.pydata.org/bokeh/release/bokeh-widgets-1.1.0.min.js\", \"https://cdn.pydata.org/bokeh/release/bokeh-tables-1.1.0.min.js\", \"https://cdn.pydata.org/bokeh/release/bokeh-gl-1.1.0.min.js\"];\n",
       "  var css_urls = [\"https://cdn.pydata.org/bokeh/release/bokeh-1.1.0.min.css\", \"https://cdn.pydata.org/bokeh/release/bokeh-widgets-1.1.0.min.css\", \"https://cdn.pydata.org/bokeh/release/bokeh-tables-1.1.0.min.css\"];\n",
       "\n",
       "  var inline_js = [\n",
       "    function(Bokeh) {\n",
       "      Bokeh.set_log_level(\"info\");\n",
       "    },\n",
       "    \n",
       "    function(Bokeh) {\n",
       "      \n",
       "    },\n",
       "    function(Bokeh) {} // ensure no trailing comma for IE\n",
       "  ];\n",
       "\n",
       "  function run_inline_js() {\n",
       "    \n",
       "    if ((root.Bokeh !== undefined) || (force === true)) {\n",
       "      for (var i = 0; i < inline_js.length; i++) {\n",
       "        inline_js[i].call(root, root.Bokeh);\n",
       "      }if (force === true) {\n",
       "        display_loaded();\n",
       "      }} else if (Date.now() < root._bokeh_timeout) {\n",
       "      setTimeout(run_inline_js, 100);\n",
       "    } else if (!root._bokeh_failed_load) {\n",
       "      console.log(\"Bokeh: BokehJS failed to load within specified timeout.\");\n",
       "      root._bokeh_failed_load = true;\n",
       "    } else if (force !== true) {\n",
       "      var cell = $(document.getElementById(\"1001\")).parents('.cell').data().cell;\n",
       "      cell.output_area.append_execute_result(NB_LOAD_WARNING)\n",
       "    }\n",
       "\n",
       "  }\n",
       "\n",
       "  if (root._bokeh_is_loading === 0) {\n",
       "    console.debug(\"Bokeh: BokehJS loaded, going straight to plotting\");\n",
       "    run_inline_js();\n",
       "  } else {\n",
       "    load_libs(css_urls, js_urls, function() {\n",
       "      console.debug(\"Bokeh: BokehJS plotting callback run at\", now());\n",
       "      run_inline_js();\n",
       "    });\n",
       "  }\n",
       "}(window));"
      ],
      "application/vnd.bokehjs_load.v0+json": "\n(function(root) {\n  function now() {\n    return new Date();\n  }\n\n  var force = true;\n\n  if (typeof root._bokeh_onload_callbacks === \"undefined\" || force === true) {\n    root._bokeh_onload_callbacks = [];\n    root._bokeh_is_loading = undefined;\n  }\n\n  \n\n  \n  if (typeof (root._bokeh_timeout) === \"undefined\" || force === true) {\n    root._bokeh_timeout = Date.now() + 5000;\n    root._bokeh_failed_load = false;\n  }\n\n  var NB_LOAD_WARNING = {'data': {'text/html':\n     \"<div style='background-color: #fdd'>\\n\"+\n     \"<p>\\n\"+\n     \"BokehJS does not appear to have successfully loaded. If loading BokehJS from CDN, this \\n\"+\n     \"may be due to a slow or bad network connection. Possible fixes:\\n\"+\n     \"</p>\\n\"+\n     \"<ul>\\n\"+\n     \"<li>re-rerun `output_notebook()` to attempt to load from CDN again, or</li>\\n\"+\n     \"<li>use INLINE resources instead, as so:</li>\\n\"+\n     \"</ul>\\n\"+\n     \"<code>\\n\"+\n     \"from bokeh.resources import INLINE\\n\"+\n     \"output_notebook(resources=INLINE)\\n\"+\n     \"</code>\\n\"+\n     \"</div>\"}};\n\n  function display_loaded() {\n    var el = document.getElementById(\"1001\");\n    if (el != null) {\n      el.textContent = \"BokehJS is loading...\";\n    }\n    if (root.Bokeh !== undefined) {\n      if (el != null) {\n        el.textContent = \"BokehJS \" + root.Bokeh.version + \" successfully loaded.\";\n      }\n    } else if (Date.now() < root._bokeh_timeout) {\n      setTimeout(display_loaded, 100)\n    }\n  }\n\n\n  function run_callbacks() {\n    try {\n      root._bokeh_onload_callbacks.forEach(function(callback) {\n        if (callback != null)\n          callback();\n      });\n    } finally {\n      delete root._bokeh_onload_callbacks\n    }\n    console.debug(\"Bokeh: all callbacks have finished\");\n  }\n\n  function load_libs(css_urls, js_urls, callback) {\n    if (css_urls == null) css_urls = [];\n    if (js_urls == null) js_urls = [];\n\n    root._bokeh_onload_callbacks.push(callback);\n    if (root._bokeh_is_loading > 0) {\n      console.debug(\"Bokeh: BokehJS is being loaded, scheduling callback at\", now());\n      return null;\n    }\n    if (js_urls == null || js_urls.length === 0) {\n      run_callbacks();\n      return null;\n    }\n    console.debug(\"Bokeh: BokehJS not loaded, scheduling load and callback at\", now());\n    root._bokeh_is_loading = css_urls.length + js_urls.length;\n\n    function on_load() {\n      root._bokeh_is_loading--;\n      if (root._bokeh_is_loading === 0) {\n        console.debug(\"Bokeh: all BokehJS libraries/stylesheets loaded\");\n        run_callbacks()\n      }\n    }\n\n    function on_error() {\n      console.error(\"failed to load \" + url);\n    }\n\n    for (var i = 0; i < css_urls.length; i++) {\n      var url = css_urls[i];\n      const element = document.createElement(\"link\");\n      element.onload = on_load;\n      element.onerror = on_error;\n      element.rel = \"stylesheet\";\n      element.type = \"text/css\";\n      element.href = url;\n      console.debug(\"Bokeh: injecting link tag for BokehJS stylesheet: \", url);\n      document.body.appendChild(element);\n    }\n\n    for (var i = 0; i < js_urls.length; i++) {\n      var url = js_urls[i];\n      var element = document.createElement('script');\n      element.onload = on_load;\n      element.onerror = on_error;\n      element.async = false;\n      element.src = url;\n      console.debug(\"Bokeh: injecting script tag for BokehJS library: \", url);\n      document.head.appendChild(element);\n    }\n  };var element = document.getElementById(\"1001\");\n  if (element == null) {\n    console.error(\"Bokeh: ERROR: autoload.js configured with elementid '1001' but no matching script tag was found. \")\n    return false;\n  }\n\n  function inject_raw_css(css) {\n    const element = document.createElement(\"style\");\n    element.appendChild(document.createTextNode(css));\n    document.body.appendChild(element);\n  }\n\n  var js_urls = [\"https://cdn.pydata.org/bokeh/release/bokeh-1.1.0.min.js\", \"https://cdn.pydata.org/bokeh/release/bokeh-widgets-1.1.0.min.js\", \"https://cdn.pydata.org/bokeh/release/bokeh-tables-1.1.0.min.js\", \"https://cdn.pydata.org/bokeh/release/bokeh-gl-1.1.0.min.js\"];\n  var css_urls = [\"https://cdn.pydata.org/bokeh/release/bokeh-1.1.0.min.css\", \"https://cdn.pydata.org/bokeh/release/bokeh-widgets-1.1.0.min.css\", \"https://cdn.pydata.org/bokeh/release/bokeh-tables-1.1.0.min.css\"];\n\n  var inline_js = [\n    function(Bokeh) {\n      Bokeh.set_log_level(\"info\");\n    },\n    \n    function(Bokeh) {\n      \n    },\n    function(Bokeh) {} // ensure no trailing comma for IE\n  ];\n\n  function run_inline_js() {\n    \n    if ((root.Bokeh !== undefined) || (force === true)) {\n      for (var i = 0; i < inline_js.length; i++) {\n        inline_js[i].call(root, root.Bokeh);\n      }if (force === true) {\n        display_loaded();\n      }} else if (Date.now() < root._bokeh_timeout) {\n      setTimeout(run_inline_js, 100);\n    } else if (!root._bokeh_failed_load) {\n      console.log(\"Bokeh: BokehJS failed to load within specified timeout.\");\n      root._bokeh_failed_load = true;\n    } else if (force !== true) {\n      var cell = $(document.getElementById(\"1001\")).parents('.cell').data().cell;\n      cell.output_area.append_execute_result(NB_LOAD_WARNING)\n    }\n\n  }\n\n  if (root._bokeh_is_loading === 0) {\n    console.debug(\"Bokeh: BokehJS loaded, going straight to plotting\");\n    run_inline_js();\n  } else {\n    load_libs(css_urls, js_urls, function() {\n      console.debug(\"Bokeh: BokehJS plotting callback run at\", now());\n      run_inline_js();\n    });\n  }\n}(window));"
     },
     "metadata": {},
     "output_type": "display_data"
    },
    {
     "data": {
      "text/html": [
       "\n",
       "\n",
       "\n",
       "\n",
       "\n",
       "\n",
       "  <div class=\"bk-root\" id=\"ad036945-4782-4f3f-abfc-eefe97bf58d7\" data-root-id=\"1002\"></div>\n"
      ]
     },
     "metadata": {},
     "output_type": "display_data"
    },
    {
     "data": {
      "application/javascript": [
       "(function(root) {\n",
       "  function embed_document(root) {\n",
       "    \n",
       "  var docs_json = {\"d48e03bb-7059-4641-807b-b7c1262db21b\":{\"roots\":{\"references\":[{\"attributes\":{},\"id\":\"1014\",\"type\":\"BasicTicker\"},{\"attributes\":{\"active_drag\":\"auto\",\"active_inspect\":\"auto\",\"active_multi\":null,\"active_scroll\":\"auto\",\"active_tap\":\"auto\",\"tools\":[{\"id\":\"1023\",\"type\":\"PanTool\"},{\"id\":\"1024\",\"type\":\"WheelZoomTool\"},{\"id\":\"1025\",\"type\":\"ResetTool\"},{\"id\":\"1026\",\"type\":\"SaveTool\"}]},\"id\":\"1027\",\"type\":\"Toolbar\"},{\"attributes\":{},\"id\":\"1023\",\"type\":\"PanTool\"},{\"attributes\":{},\"id\":\"1019\",\"type\":\"BasicTicker\"},{\"attributes\":{},\"id\":\"1026\",\"type\":\"SaveTool\"},{\"attributes\":{\"fill_color\":{\"value\":\"#1f77b4\"},\"line_color\":{\"value\":\"#1f77b4\"},\"size\":{\"units\":\"screen\",\"value\":8},\"x\":{\"field\":\"x1\"},\"y\":{\"field\":\"x2\"}},\"id\":\"1034\",\"type\":\"Scatter\"},{\"attributes\":{\"callback\":null,\"data\":{\"names\":[\":\",\"(\",\"\\u044f\",\"\\u0438\",\"\\u0431\\u044b\\u0442\\u044c\",\"\\u0442\\u0430\\u043a\",\"\\u043d\\u0435\",\"\\u0437\\u0430\",\"\\u043b\\u0435\\u0448\\u0438\\u0439\",\"\\u0442\\u043e\\u0442\",\"\\u0432\\u0438\\u043d\\u0434\",\"\\u0442\\u0435\\u043f\\u0435\\u0440\\u044c\",\"\\u043e\\u0447\\u0435\\u043d\\u044c\",\"\\u043f\\u043e\\u043b\\u043e\\u0432\\u0438\\u043d\\u0430\",\"\\u0436\\u0435\",\"\\u0430\",\"\\u0442\\u043e\",\"\\u0436\\u0435\\u043b\\u0430\\u0442\\u044c\",\"//t\",\"\\u0442\\u0440\\u0438\",\"\\u0437\\u0430\\u043a\\u0440\\u044b\\u0442\\u0438\\u0435\",\"\\u043a\\u0430\\u043a\",\"\\u0440\\u0430\\u0431\\u043e\\u0442\\u0430\",\"\\u043c\\u043e\\u0447\\u044c\",\"\\u0434\\u043e\\u043b\\u0431\\u0430\\u0442\\u044c\",\"\\u0436\\u0434\\u0430\\u0442\\u044c\",\"\\u0441\\u043a\\u0443\\u0447\\u0430\\u0442\\u044c\",\"\\u0433\\u043e\\u0432\\u043e\\u0440\\u044f\\u0442\",\"\\u0433\\u043e\\u0434\",\"\\u043a\\u0430\\u043a\\u043e\\u0439\",\"surf\",\"\\u0441\\u0432\\u0438\\u0445\\u043d\\u0443\\u0442\\u044c\\u0441\\u044f\",\"\\u0445\\u043e\\u0440\\u043e\\u0448\\u0438\\u0439\",\"\\u043d\\u0430\",\"\\u043e\\u0431\\u043d\\u043e\\u0432\\u0438\\u0442\\u044c\",\"\\u0441\\u0438\\u0434\\u0435\\u0442\\u044c\",\"\\u0443\\u0434\\u0430\\u0447\\u043d\\u044b\\u0439\",\"\\u0432\",\"\\u043f\\u043e\\u0441\\u0430\\u0434\\u043a\\u0430\",\"\\u0440\\u0430\\u0431\\u043e\\u0442\\u0430\\u0442\\u044c\",\"d\",\"\\u043c\\u0435\\u0441\\u044f\\u0446\",\"\\u0440\\u0443\\u0431\\u0438\\u0442\\u044c\\u0441\\u044f\",\"\\u043a\\u0430\\u0436\\u0434\\u044b\\u0439\",\"s\",\"|\",\"\\u043a\\u043e\\u043b\\u043b\\u0435\\u0433\\u0430\",\"post\",\"http\",\"\\u043f\\u043e\\u043b\\u043d\\u044b\\u0439\",\"\\u0438\\u0437\",\"\\u0441\\u0438\\u043b\\u044c\\u043d\\u043e\",\"\\u043f\\u0440\\u043e\\u0441\\u0442\\u043e\\u043f\\u043b\\u0435\\u0435\\u0440\"],\"x1\":{\"__ndarray__\":\"kYRoQIQ8iUHmcdrBfZaiwSAE8ME0KQ7B9Oc0QqbPxsHEjmdAf/VTQmMSTL/IQXrBjqOBwKo/i8BHeCZCEEvpQVtd/EEuEeRBWQZIQtZcCr978e5AJn0jwrHsgMHdDQHCyEYDwbrUokFk1FpBb458QdTw08FtxDjCysmmwJlAGUHZGgpCvVHeQYm+DEGw9NPB+jCRQfpODUFZ7VFBGrcwwYUWVsFT7z/BGWgmwPzRHUFqIwtCWjzVQfSzYT+94JFBzpzOwWkS40BpobzASRuXQA2cpUE=\",\"dtype\":\"float32\",\"shape\":[53]},\"x2\":{\"__ndarray__\":\"lri9wR+g+MGYAy7BbhUUQAY610H+qAzCJhr2wTLTOELAn7TA/k6KQVGIPkEE2wLBPf8+wgpvw0EP6lNAgNi8wZxRKcLCCCtBzpc9wYs1B0LZjlnBUWUCwOMwrEFvs6/BUeg2QIYe1EGIEz/ClDqZwQtjX8IVkjdBMZS6wJXevz8XELdBAlUrQuYlI0EYsU5B6h1xQWyUSULCrsLAT6pIQXRBsMEC7AhCYyVqwWrgB0JL0THBl1oHwL8MPkD0R1tA/KgVwtd6nkEefU5CUV4PwlYzI8E=\",\"dtype\":\"float32\",\"shape\":[53]}},\"selected\":{\"id\":\"1045\",\"type\":\"Selection\"},\"selection_policy\":{\"id\":\"1046\",\"type\":\"UnionRenderers\"}},\"id\":\"1032\",\"type\":\"ColumnDataSource\"},{\"attributes\":{},\"id\":\"1011\",\"type\":\"LinearScale\"},{\"attributes\":{},\"id\":\"1042\",\"type\":\"BasicTickFormatter\"},{\"attributes\":{\"formatter\":{\"id\":\"1044\",\"type\":\"BasicTickFormatter\"},\"ticker\":{\"id\":\"1014\",\"type\":\"BasicTicker\"}},\"id\":\"1013\",\"type\":\"LinearAxis\"},{\"attributes\":{\"below\":[{\"id\":\"1013\",\"type\":\"LinearAxis\"}],\"center\":[{\"id\":\"1017\",\"type\":\"Grid\"},{\"id\":\"1022\",\"type\":\"Grid\"},{\"id\":\"1038\",\"type\":\"LabelSet\"}],\"left\":[{\"id\":\"1018\",\"type\":\"LinearAxis\"}],\"renderers\":[{\"id\":\"1036\",\"type\":\"GlyphRenderer\"}],\"title\":{\"id\":\"1003\",\"type\":\"Title\"},\"toolbar\":{\"id\":\"1027\",\"type\":\"Toolbar\"},\"toolbar_location\":\"above\",\"x_range\":{\"id\":\"1005\",\"type\":\"DataRange1d\"},\"x_scale\":{\"id\":\"1009\",\"type\":\"LinearScale\"},\"y_range\":{\"id\":\"1007\",\"type\":\"DataRange1d\"},\"y_scale\":{\"id\":\"1011\",\"type\":\"LinearScale\"}},\"id\":\"1002\",\"subtype\":\"Figure\",\"type\":\"Plot\"},{\"attributes\":{\"ticker\":{\"id\":\"1014\",\"type\":\"BasicTicker\"}},\"id\":\"1017\",\"type\":\"Grid\"},{\"attributes\":{\"dimension\":1,\"ticker\":{\"id\":\"1019\",\"type\":\"BasicTicker\"}},\"id\":\"1022\",\"type\":\"Grid\"},{\"attributes\":{},\"id\":\"1046\",\"type\":\"UnionRenderers\"},{\"attributes\":{\"text\":\"word2vec T-SNE for most common words\"},\"id\":\"1003\",\"type\":\"Title\"},{\"attributes\":{\"data_source\":{\"id\":\"1032\",\"type\":\"ColumnDataSource\"},\"glyph\":{\"id\":\"1034\",\"type\":\"Scatter\"},\"hover_glyph\":null,\"muted_glyph\":null,\"nonselection_glyph\":{\"id\":\"1035\",\"type\":\"Scatter\"},\"selection_glyph\":null,\"view\":{\"id\":\"1037\",\"type\":\"CDSView\"}},\"id\":\"1036\",\"type\":\"GlyphRenderer\"},{\"attributes\":{},\"id\":\"1044\",\"type\":\"BasicTickFormatter\"},{\"attributes\":{\"fill_alpha\":{\"value\":0.1},\"fill_color\":{\"value\":\"#1f77b4\"},\"line_alpha\":{\"value\":0.1},\"line_color\":{\"value\":\"#1f77b4\"},\"size\":{\"units\":\"screen\",\"value\":8},\"x\":{\"field\":\"x1\"},\"y\":{\"field\":\"x2\"}},\"id\":\"1035\",\"type\":\"Scatter\"},{\"attributes\":{\"formatter\":{\"id\":\"1042\",\"type\":\"BasicTickFormatter\"},\"ticker\":{\"id\":\"1019\",\"type\":\"BasicTicker\"}},\"id\":\"1018\",\"type\":\"LinearAxis\"},{\"attributes\":{},\"id\":\"1025\",\"type\":\"ResetTool\"},{\"attributes\":{},\"id\":\"1045\",\"type\":\"Selection\"},{\"attributes\":{\"callback\":null},\"id\":\"1007\",\"type\":\"DataRange1d\"},{\"attributes\":{\"callback\":null},\"id\":\"1005\",\"type\":\"DataRange1d\"},{\"attributes\":{},\"id\":\"1009\",\"type\":\"LinearScale\"},{\"attributes\":{},\"id\":\"1024\",\"type\":\"WheelZoomTool\"},{\"attributes\":{\"source\":{\"id\":\"1032\",\"type\":\"ColumnDataSource\"}},\"id\":\"1037\",\"type\":\"CDSView\"},{\"attributes\":{\"source\":{\"id\":\"1032\",\"type\":\"ColumnDataSource\"},\"text\":{\"field\":\"names\"},\"text_align\":\"center\",\"text_color\":{\"value\":\"#555555\"},\"text_font_size\":{\"value\":\"8pt\"},\"x\":{\"field\":\"x1\"},\"y\":{\"field\":\"x2\"},\"y_offset\":{\"value\":6}},\"id\":\"1038\",\"type\":\"LabelSet\"}],\"root_ids\":[\"1002\"]},\"title\":\"Bokeh Application\",\"version\":\"1.1.0\"}};\n",
       "  var render_items = [{\"docid\":\"d48e03bb-7059-4641-807b-b7c1262db21b\",\"roots\":{\"1002\":\"ad036945-4782-4f3f-abfc-eefe97bf58d7\"}}];\n",
       "  root.Bokeh.embed.embed_items_notebook(docs_json, render_items);\n",
       "\n",
       "  }\n",
       "  if (root.Bokeh !== undefined) {\n",
       "    embed_document(root);\n",
       "  } else {\n",
       "    var attempts = 0;\n",
       "    var timer = setInterval(function(root) {\n",
       "      if (root.Bokeh !== undefined) {\n",
       "        embed_document(root);\n",
       "        clearInterval(timer);\n",
       "      }\n",
       "      attempts++;\n",
       "      if (attempts > 100) {\n",
       "        console.log(\"Bokeh: ERROR: Unable to run BokehJS code because BokehJS library is missing\");\n",
       "        clearInterval(timer);\n",
       "      }\n",
       "    }, 10, root)\n",
       "  }\n",
       "})(window);"
      ],
      "application/vnd.bokehjs_exec.v0+json": ""
     },
     "metadata": {
      "application/vnd.bokehjs_exec.v0+json": {
       "id": "1002"
      }
     },
     "output_type": "display_data"
    }
   ],
   "source": [
    "from bokeh.models import ColumnDataSource, LabelSet\n",
    "from bokeh.plotting import figure, show, output_file\n",
    "from bokeh.io import output_notebook\n",
    "output_notebook()\n",
    "\n",
    "p = figure(tools=\"pan,wheel_zoom,reset,save\",\n",
    "           toolbar_location=\"above\",\n",
    "           title=\"word2vec T-SNE for most common words\")\n",
    "\n",
    "source = ColumnDataSource(data=dict(x1=top_words_tsne[:,0],\n",
    "                                    x2=top_words_tsne[:,1],\n",
    "                                    names=top_words))\n",
    "\n",
    "p.scatter(x=\"x1\", y=\"x2\", size=8, source=source)\n",
    "\n",
    "labels = LabelSet(x=\"x1\", y=\"x2\", text=\"names\", y_offset=6,\n",
    "                  text_font_size=\"8pt\", text_color=\"#555555\",\n",
    "                  source=source, text_align='center')\n",
    "p.add_layout(labels)\n",
    "\n",
    "show(p)"
   ]
  },
  {
   "cell_type": "markdown",
   "metadata": {
    "colab_type": "text",
    "id": "efj8WuLMXFGc"
   },
   "source": [
    "Теперь нарисуем облако слов"
   ]
  },
  {
   "cell_type": "code",
   "execution_count": 39,
   "metadata": {
    "colab": {
     "base_uri": "https://localhost:8080/",
     "height": 219
    },
    "colab_type": "code",
    "id": "KUctid3GXFGc",
    "outputId": "fe666dfe-4b1e-4492-e22c-5ec99e4b1de1"
   },
   "outputs": [
    {
     "data": {
      "image/png": "[encoded data removed]",
      "text/plain": [
       "<Figure size 432x288 with 1 Axes>"
      ]
     },
     "metadata": {},
     "output_type": "display_data"
    }
   ],
   "source": [
    "from wordcloud import *\n",
    "word_freq = [i for i in fd.most_common(100)]\n",
    "wd = WordCloud(background_color = 'white')\n",
    "wd.generate_from_frequencies(dict(word_freq))\n",
    "plt.figure()\n",
    "plt.imshow(wd, interpolation = 'bilinear')\n",
    "plt.axis('off')\n",
    "plt.show()"
   ]
  },
  {
   "cell_type": "markdown",
   "metadata": {
    "colab_type": "text",
    "id": "BLVdp3isXFGh"
   },
   "source": [
    "### Кластеризация слов"
   ]
  },
  {
   "cell_type": "code",
   "execution_count": 40,
   "metadata": {
    "colab": {},
    "colab_type": "code",
    "id": "jbYnN2uPXFGh"
   },
   "outputs": [],
   "source": [
    "from sklearn.metrics.pairwise import cosine_similarity\n",
    "dist = 1 - cosine_similarity(top_words_vec)"
   ]
  },
  {
   "cell_type": "code",
   "execution_count": 41,
   "metadata": {
    "colab": {
     "base_uri": "https://localhost:8080/",
     "height": 7209
    },
    "colab_type": "code",
    "id": "7FR8H2rwXFGi",
    "outputId": "a5bcf5e0-66c9-40ce-dafe-fb5d4606d0df"
   },
   "outputs": [
    {
     "data": {
      "image/png": "[encoded data removed]",
      "text/plain": [
       "<Figure size 720x7200 with 1 Axes>"
      ]
     },
     "metadata": {},
     "output_type": "display_data"
    }
   ],
   "source": [
    "from scipy.cluster.hierarchy import  ward, dendrogram\n",
    "\n",
    "linkage_matrix = ward(dist) \n",
    "\n",
    "fig, ax = plt.subplots(figsize=(10, 100)) \n",
    "ax = dendrogram(linkage_matrix, orientation=\"right\", labels=top_words);\n",
    "\n",
    "plt.tick_params(\\\n",
    "    axis= 'x',          # changes apply to the x-axis\n",
    "    which='both',      # both major and minor ticks are affected\n",
    "    bottom='off',      # ticks along the bottom edge are off\n",
    "    top='off',         # ticks along the top edge are off\n",
    "    labelbottom='off')\n",
    "\n",
    "plt.tight_layout() \n",
    "\n",
    "plt.savefig('w2v_cluster.png', dpi=200) #save figure as ward_clusters"
   ]
  },
  {
   "cell_type": "markdown",
   "metadata": {
    "colab_type": "text",
    "id": "7uhvnUvAXFGl"
   },
   "source": [
    "## Языковые модели"
   ]
  },
  {
   "cell_type": "markdown",
   "metadata": {
    "colab_type": "text",
    "id": "8S0QmGDqXFGl"
   },
   "source": [
    "### Модели биграм в NLTK"
   ]
  },
  {
   "cell_type": "code",
   "execution_count": 42,
   "metadata": {
    "colab": {},
    "colab_type": "code",
    "id": "OFcaj9ufXFGl"
   },
   "outputs": [],
   "source": [
    "import nltk"
   ]
  },
  {
   "cell_type": "code",
   "execution_count": 43,
   "metadata": {
    "colab": {
     "base_uri": "https://localhost:8080/",
     "height": 35
    },
    "colab_type": "code",
    "id": "He9jVOvnXFGn",
    "outputId": "2b37658a-2be8-4ee2-83e2-223c7f0ae2e8"
   },
   "outputs": [
    {
     "name": "stdout",
     "output_type": "stream",
     "text": [
      "['aachenosaurus', 'aardonyx', 'abdallahsaurus', 'abelisaurus', 'abrictosaurus', 'abrosaurus', 'abydosaurus', 'acanthopholis', 'achelousaurus', 'acheroraptor']\n"
     ]
    }
   ],
   "source": [
    "names = [name.strip().lower() for name in open('dinos.txt').readlines()]\n",
    "print(names[:10])"
   ]
  },
  {
   "cell_type": "code",
   "execution_count": 44,
   "metadata": {
    "colab": {
     "base_uri": "https://localhost:8080/",
     "height": 35
    },
    "colab_type": "code",
    "id": "lhQ6EXcIXFGr",
    "outputId": "74f55c41-fbac-48c4-8bed-6aa7c4026200"
   },
   "outputs": [
    {
     "name": "stdout",
     "output_type": "stream",
     "text": [
      "['q', 'g', 'o', 'c', 'w', 'y', 'd', 'e', 'm', 'r', 'x', 'j', 'v', 's', 'z', 't', 'l', 'u', 'k', 'h', 'b', 'a', 'i', 'n', 'f', 'p']\n"
     ]
    }
   ],
   "source": [
    "chars = [char  for name in names for char in name]\n",
    "freq = nltk.FreqDist(chars)\n",
    "\n",
    "print(list(freq.keys()))"
   ]
  },
  {
   "cell_type": "code",
   "execution_count": 45,
   "metadata": {
    "colab": {
     "base_uri": "https://localhost:8080/",
     "height": 35
    },
    "colab_type": "code",
    "id": "4syBkqGMXFGt",
    "outputId": "c26d3bbd-8acd-44ee-8261-7d977d2f27da"
   },
   "outputs": [
    {
     "name": "stdout",
     "output_type": "stream",
     "text": [
      "<FreqDist with 26 samples and 2487 outcomes>\n"
     ]
    }
   ],
   "source": [
    "cfreq = nltk.ConditionalFreqDist(nltk.bigrams(chars))\n",
    "print(cfreq['a'])"
   ]
  },
  {
   "cell_type": "code",
   "execution_count": 46,
   "metadata": {
    "colab": {
     "base_uri": "https://localhost:8080/",
     "height": 71
    },
    "colab_type": "code",
    "id": "1blhLH2zXFGz",
    "outputId": "1e810743-b23a-4488-baf3-3386f8af7d7a"
   },
   "outputs": [
    {
     "name": "stdout",
     "output_type": "stream",
     "text": [
      "p(a a) = 0.0105\n",
      "p(a b) = 0.0129\n",
      "p(a u) = 0.3185\n"
     ]
    }
   ],
   "source": [
    "cprob = nltk.ConditionalProbDist(cfreq, nltk.MLEProbDist)\n",
    "print('p(a a) = %1.4f' %cprob['a'].prob('a'))\n",
    "print('p(a b) = %1.4f' %cprob['a'].prob('b'))\n",
    "print('p(a u) = %1.4f' %cprob['a'].prob('u'))"
   ]
  },
  {
   "cell_type": "code",
   "execution_count": 47,
   "metadata": {
    "colab": {
     "base_uri": "https://localhost:8080/",
     "height": 35
    },
    "colab_type": "code",
    "id": "AOfTZ3PuXFG1",
    "outputId": "f371afb7-664c-4f24-e874-50b99a9dec8a"
   },
   "outputs": [
    {
     "name": "stdout",
     "output_type": "stream",
     "text": [
      "p(a) = 0.1354\n"
     ]
    }
   ],
   "source": [
    "l = sum([freq[char] for char in freq])\n",
    "def unigram_prob(char):\n",
    "    return freq[char] / l\n",
    "print('p(a) = %1.4f' %unigram_prob('a'))"
   ]
  },
  {
   "cell_type": "code",
   "execution_count": 48,
   "metadata": {
    "colab": {
     "base_uri": "https://localhost:8080/",
     "height": 35
    },
    "colab_type": "code",
    "id": "k3S43p1zXFG2",
    "outputId": "5350f9f0-8b90-4b35-9057-58f08a8f9450"
   },
   "outputs": [
    {
     "data": {
      "text/plain": [
       "'m'"
      ]
     },
     "execution_count": 48,
     "metadata": {},
     "output_type": "execute_result"
    }
   ],
   "source": [
    "# можно порождать случайные символы с учётом предыдущих \n",
    "cprob['a'].generate()"
   ]
  },
  {
   "cell_type": "markdown",
   "metadata": {
    "colab_type": "text",
    "id": "OtOPYNNRXFG-"
   },
   "source": [
    "### Задание 6"
   ]
  },
  {
   "cell_type": "markdown",
   "metadata": {
    "colab_type": "text",
    "collapsed": true,
    "id": "F4TSy9MxXFG-"
   },
   "source": [
    "Напишите функцию для генерации нового имени динозавра фиксированной длины."
   ]
  },
  {
   "cell_type": "code",
   "execution_count": 58,
   "metadata": {
    "colab": {
     "base_uri": "https://localhost:8080/",
     "height": 395
    },
    "colab_type": "code",
    "id": "01sAhiYdXFG-",
    "outputId": "bf3d3db1-86be-4558-b766-447171eeddc6"
   },
   "outputs": [
    {
     "name": "stdout",
     "output_type": "stream",
     "text": [
      "xisausosausa\n",
      "jurigoslonti\n",
      "derossachame\n",
      "aulbessmauro\n",
      "eombytalenbo\n",
      "hiferustospo\n",
      "jasalusheila\n",
      "xertaurususa\n",
      "iruspttadopt\n",
      "litehuruphus\n",
      "\n",
      "korusamahono\n",
      "keavamostaec\n",
      "kaurusarichi\n",
      "krabopilasan\n",
      "kaeysamiusab\n",
      "kosrniathedu\n",
      "kruschylengo\n",
      "kyzichosansk\n",
      "khussemustrm\n",
      "karusassapep\n"
     ]
    }
   ],
   "source": [
    "def dino_name(c=None, n=12):\n",
    "    c = chr(random.randint(ord('a'), ord('z'))) if c is None else c\n",
    "    return c if n == 1 else c + dino_name(cprob[c].generate(), n - 1)\n",
    "\n",
    "for _ in range(10):\n",
    "    print(dino_name())\n",
    "print()\n",
    "for _ in range(10):\n",
    "    print(dino_name(c='k'))"
   ]
  }
 ],
 "metadata": {
  "colab": {
   "name": "Sem_emb_lm_done.ipynb",
   "provenance": [],
   "version": "0.3.2"
  },
  "kernelspec": {
   "display_name": "Python 3",
   "language": "python",
   "name": "python3"
  },
  "language_info": {
   "codemirror_mode": {
    "name": "ipython",
    "version": 3
   },
   "file_extension": ".py",
   "mimetype": "text/x-python",
   "name": "python",
   "nbconvert_exporter": "python",
   "pygments_lexer": "ipython3",
   "version": "3.5.2"
  }
 },
 "nbformat": 4,
 "nbformat_minor": 1
}
